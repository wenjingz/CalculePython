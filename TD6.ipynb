{
  "nbformat": 4,
  "nbformat_minor": 0,
  "metadata": {
    "colab": {
      "name": "Untitled",
      "provenance": [],
      "authorship_tag": "ABX9TyP+cmKG5gOaSKrvgWmqq2+Z",
      "include_colab_link": true
    },
    "kernelspec": {
      "name": "python3",
      "display_name": "Python 3"
    }
  },
  "cells": [
    {
      "cell_type": "markdown",
      "metadata": {
        "id": "view-in-github",
        "colab_type": "text"
      },
      "source": [
        "<a href=\"https://colab.research.google.com/github/wenjingz/CalculePython/blob/master/TD6.ipynb\" target=\"_parent\"><img src=\"https://colab.research.google.com/assets/colab-badge.svg\" alt=\"Open In Colab\"/></a>"
      ]
    },
    {
      "cell_type": "code",
      "metadata": {
        "id": "_1olrjsXOeCG",
        "colab_type": "code",
        "outputId": "7d136d13-8faf-45f2-d298-f7759f60da72",
        "colab": {
          "base_uri": "https://localhost:8080/",
          "height": 35
        }
      },
      "source": [
        "import scipy.optimize as resol\n",
        "\n",
        "def f(x):\n",
        "  return x**2 + 2*x -3\n",
        "\n",
        "print('solution de f(x)=0',resol.fsolve(f,-30.))"
      ],
      "execution_count": 0,
      "outputs": [
        {
          "output_type": "stream",
          "text": [
            "solution de f(x)=0 [-3.]\n"
          ],
          "name": "stdout"
        }
      ]
    },
    {
      "cell_type": "code",
      "metadata": {
        "id": "oFmB5iYGQa6Z",
        "colab_type": "code",
        "outputId": "9d18a489-950e-465b-9672-8a357f4cbff5",
        "colab": {
          "base_uri": "https://localhost:8080/",
          "height": 35
        }
      },
      "source": [
        "import scipy.optimize as resol\n",
        "\n",
        "def f(x):\n",
        "  return x**2 + 2*x -3\n",
        "\n",
        "print('solution de f(x)=0',resol.fsolve(f,0.))"
      ],
      "execution_count": 0,
      "outputs": [
        {
          "output_type": "stream",
          "text": [
            "solution de f(x)=0 [1.]\n"
          ],
          "name": "stdout"
        }
      ]
    },
    {
      "cell_type": "markdown",
      "metadata": {
        "id": "B0fKLKB6R8Wo",
        "colab_type": "text"
      },
      "source": [
        "Exercice 1"
      ]
    },
    {
      "cell_type": "code",
      "metadata": {
        "id": "aL5PaZ2rSL4N",
        "colab_type": "code",
        "outputId": "05b90a9d-6c86-43de-fb44-bdc471e0cbbd",
        "colab": {
          "base_uri": "https://localhost:8080/",
          "height": 53
        }
      },
      "source": [
        "def Dicho(f,a,b,p):# a < b, f fonction, Précision 10^(-p)\n",
        "  while(b-a)>10**(-p):\n",
        "    m = (a+b)/2\n",
        "    if(f(a)*f(m)<0):\n",
        "      b = m\n",
        "    else:\n",
        "      a = m\n",
        "  print(\"{}<r<{}\".format(a,b))\n",
        "  return a , b\n",
        "\n",
        "def f(x):\n",
        "  return x**2 - 2\n",
        "\n",
        "Dicho(f,0,3,2)\n"
      ],
      "execution_count": 0,
      "outputs": [
        {
          "output_type": "stream",
          "text": [
            "1.412109375<r<1.41796875\n"
          ],
          "name": "stdout"
        },
        {
          "output_type": "execute_result",
          "data": {
            "text/plain": [
              "(1.412109375, 1.41796875)"
            ]
          },
          "metadata": {
            "tags": []
          },
          "execution_count": 14
        }
      ]
    },
    {
      "cell_type": "markdown",
      "metadata": {
        "id": "S-Qwlhi2Y6Us",
        "colab_type": "text"
      },
      "source": [
        "Exercice 2"
      ]
    },
    {
      "cell_type": "code",
      "metadata": {
        "id": "d6iXg_bZUcRZ",
        "colab_type": "code",
        "colab": {}
      },
      "source": [
        "def PointFixe(f, u0, e): # e tolérance\n",
        "\n",
        "# Définition de g telle que f(x) = g(x)-x \n",
        "def g(x):\n",
        "  return .............\n",
        "\n",
        "x,k =\n",
        "\n",
        "# Calcul des termes de u_(n + 1) = g( u_n ) \n",
        "k = 1 # Sécurité pour éviter un bouclage \n",
        "u = \n",
        "\n",
        "while  and （k < e):\n",
        "\n",
        "  u = ...............\n",
        "  k = k + 1 \n",
        "  return u"
      ],
      "execution_count": 0,
      "outputs": []
    },
    {
      "cell_type": "code",
      "metadata": {
        "id": "XIjQeicubsCt",
        "colab_type": "code",
        "colab": {}
      },
      "source": [
        "def PointFixe(g,x_init,tol,maxIter):\n",
        "  #methode iteree du point fixe x_{n+1} =g(x_n)\n",
        "  #x_init est la valeur initiale\n",
        "  #tol est la precision souhaitee\n",
        "  #maxIter est le nombre maximal d'iterations\n",
        "  x,k=x_init,0\n",
        "  Tabx=[x]\n",
        "\n",
        "  while((abs(g(x)-x)>tol)and(k<maxIter)):\n",
        "    x=g(x)\n",
        "    Tabx.append(x)\n",
        "    k+=1\n",
        "\n",
        "    if k == maxIter:\n",
        "      print('Pas de convergence')\n",
        "    else:\n",
        "      return x,k,Tabx"
      ],
      "execution_count": 0,
      "outputs": []
    },
    {
      "cell_type": "code",
      "metadata": {
        "id": "yNOh_Ds2cfLH",
        "colab_type": "code",
        "outputId": "b1f289f8-d14e-44fe-ece8-edfa96b52937",
        "colab": {
          "base_uri": "https://localhost:8080/",
          "height": 35
        }
      },
      "source": [
        "\n",
        "def f(x):\n",
        "  return x**2 - 2\n",
        "\n",
        "PointFixe(f,0,0.001,5000000)"
      ],
      "execution_count": 0,
      "outputs": [
        {
          "output_type": "execute_result",
          "data": {
            "text/plain": [
              "(-2, 1, [0, -2])"
            ]
          },
          "metadata": {
            "tags": []
          },
          "execution_count": 20
        }
      ]
    },
    {
      "cell_type": "code",
      "metadata": {
        "id": "_KblfkXZdghg",
        "colab_type": "code",
        "colab": {}
      },
      "source": [
        "def Newton1d(f, df, u0, e):\n",
        "\n",
        "# Calcul des termes de u_(n + 1) = u_n-f(u_n)/f'(u_n) \n",
        "k = 1 # Sécurité pour éviter un bouclage \n",
        "u = ........\n",
        "v = ........\n",
        "while ................ and k < 1000:\n",
        "  k = k + 1\n",
        "  v = ................\n",
        "\n",
        "# Calcul de u_(n + 1)\n",
        "  u = ........................ \n",
        "  return u"
      ],
      "execution_count": 0,
      "outputs": []
    }
  ]
}