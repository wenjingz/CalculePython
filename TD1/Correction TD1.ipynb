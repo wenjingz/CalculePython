{
 "cells": [
  {
   "cell_type": "markdown",
   "metadata": {},
   "source": [
    "\n",
    "<div align=\"left\"><b> IMT Mines Alès (2019-2020)</b></div>\n"
   ]
  },
  {
   "cell_type": "markdown",
   "metadata": {},
   "source": [
    "\n",
    "<p><a id=\"top\"></a></p>\n"
   ]
  },
  {
   "cell_type": "markdown",
   "metadata": {},
   "source": [
    "\n",
    "<div align=\"center\">\n",
    "<font face=\"Times\" size=\"7\">Analyse et calcul numériques<br/><br/>\n",
    "    Exercices corrigés du TD1<br/></font><br/>\n",
    "<font face=\"Times\" size=\"4\">P. Guyot, X. Picamoles, L. Pissot, E. Rousée</font>\n",
    "</div>\n"
   ]
  },
  {
   "cell_type": "markdown",
   "metadata": {},
   "source": [
    "\n",
    "<div class=\"alert alert-info\">\n",
    "<font color=\"black\" face=\"Times\" size=\"6\"><b>Table des matières </b></font><br/><br/>\n",
    "<font color=\"black\" face=\"Times\" size=\"5\"><b><a href=\"#Exo1\"> 1. Exercices introductifs pour les étudiants débutants</a></b></font><br/>\n",
    "<font color=\"black\" face=\"Times\" size=\"4\"><a href=\"#Exo1_1\">  1.1 Test</a></font><br/>\n",
    "<font color=\"black\" face=\"Times\" font=\"\" size=\"4\"><a href=\"#Exo1_2\">   1.2 Somme</a></font><br/>\n",
    "<font color=\"black\" face=\"Times\" size=\"4\"><a href=\"#Exo1_3\">   1.3 Construire une liste</a></font><br/>\n",
    "<font color=\"black\" face=\"Times\" size=\"4\"><a href=\"#Exo1_4\">   1.4 Calcul de la factorielle d’un entier de manière itérative et récursive</a></font><br/>\n",
    "<font color=\"black\" face=\"Times\" size=\"4\"><a href=\"#Exo1_5\">   1.5 Manipulation de listes</a></font><br/>\n",
    "<font color=\"black\" face=\"Times\" size=\"4\"><a href=\"#Exo1_6\">   1.6 Représentation graphique d’une courbe</a></font><br/><br/>\n",
    "<font color=\"black\" face=\"Times\" size=\"5\"><b><a href=\"#Exo2\"> 2. Exercices introductifs sur la manipulation des matrices pour les étudiants débutants</a></b></font><br/>\n",
    "<font color=\"black\" face=\"Times\" size=\"4\"><a href=\"#Exo2_1\">    2.1 Manipulation de matrices</a></font><br/>\n",
    "<font color=\"black\" face=\"Times\" size=\"4\"><a href=\"#Exo2_2\">    2.2 Construction de matrices</a></font><br/>\n",
    "<font color=\"black\" face=\"Times\" size=\"4\"><a href=\"#Exo2_3\">    2.3 Produit matriciel</a></font><br/>\n",
    "<font color=\"black\" face=\"Times\" size=\"4\"><a href=\"#Exo2_4\">    2.4 Manipulation de polynômes</a></font><br/><br/>\n",
    "<font color=\"black\" face=\"Times\" size=\"5\"><b><a href=\"#Exo3\">  3. Exercices pour étudiants avancés en Python</a></b></font><br/>\n",
    "<font color=\"black\" face=\"Times\" size=\"4\"><a href=\"#Exo3_1\">    3.1 Produit de deux polynômes</a></font><br/>\n",
    "<font color=\"black\" face=\"Times\" size=\"4\"><a href=\"#Exo3_2\">    3.2 Recherche d’un élément par dichotomie</a></font><br/>\n",
    "<font color=\"black\" face=\"Times\" size=\"4\"><a href=\"#Exo3_3\">    3.3 Calcul des valeurs de sorties connaissant la fonction de transfert</a></font><br/>\n",
    "<font color=\"black\" face=\"Times\" size=\"4\"><a href=\"#Exo3_4\">    3.4 Matrice magique d’ordre 3</a></font><br/>\n",
    "<font color=\"black\" face=\"Times\" size=\"4\"><a href=\"#Exo3_5\">    3.5 Problème des tours</a></font>\n",
    "</div>\n"
   ]
  },
  {
   "cell_type": "markdown",
   "metadata": {},
   "source": [
    "\n",
    "<div class=\"alert alert-info\">\n",
    "<font color=\"black\" size=\"5\"><b>1. Exercices introductifs (étudiants débutants)</b></font>\n",
    "</div>\n"
   ]
  },
  {
   "cell_type": "markdown",
   "metadata": {},
   "source": [
    "\n",
    "<ol>\n",
    "<li>Toutes les commandes élémentaires sont réunies dans le fichier <code>Calculs.py</code> qui doit servir de dictionnaire.</li>\n",
    "<li>Votre feuille de script doit commencer par l’importation <code>import numpy as np</code> (sans le point final bien sûr).</li>\n",
    "</ol>\n"
   ]
  },
  {
   "cell_type": "code",
   "execution_count": 1,
   "metadata": {},
   "outputs": [],
   "source": [
    "\n",
    "import numpy as np\n",
    "import matplotlib.pyplot as plt\n",
    "\n"
   ]
  },
  {
   "cell_type": "markdown",
   "metadata": {},
   "source": [
    "\n",
    "<p><a id=\"Exo1\"></a></p><div align=\"right\"><a href=\"#top\">Haut du document</a></div>\n",
    "<a id=\"Exo1_1\"></a>\n"
   ]
  },
  {
   "cell_type": "markdown",
   "metadata": {},
   "source": [
    "\n",
    "<div class=\"alert alert-info\"><font color=\"black\" size=\"4\"><b>1.1 Test</b></font></div><h3 id=\"Exercice-1.\">Exercice 1.<a class=\"anchor-link\" href=\"#Exercice-1.\">¶</a></h3><ol>\n",
    "<li>Construire une fonction <code>Test()</code> qui prend en entrée deux paramètres $x$ et $y$ et qui renvoie <code>True</code> si $x = y$ et <code>False</code>  dans le cas contraire.<br/></li>\n",
    "<li>Vérifier que l’appel <code>Test('a',1)</code> renvoie <code>False</code> et l’appel <code>Test('a','a')</code> renvoie True.</li>\n",
    "</ol>\n"
   ]
  },
  {
   "cell_type": "markdown",
   "metadata": {},
   "source": [
    "\n",
    "<div class=\"alert alert-success\"><b><font color=\"black\" face=\"Times\" size=\"3\">Réponses</font></b> :<br/><br/>\n",
    "<font color=\"black\" face=\"Times\" size=\"3\"><b>1. Code de la fonction </b><font color=\"black\" face=\"Courier\" size=\"3\">Test()</font></font>\n",
    "</div>\n"
   ]
  },
  {
   "cell_type": "code",
   "execution_count": 2,
   "metadata": {},
   "outputs": [],
   "source": [
    "\n",
    "def Test(x, y):\n",
    "    ''' renvoie True si x = y sinon False \n",
    "    '''\n",
    "    if x == y:\n",
    "        return True\n",
    "    else:\n",
    "        return False\n",
    "\n"
   ]
  },
  {
   "cell_type": "markdown",
   "metadata": {},
   "source": [
    "\n",
    "<div class=\"alert alert-success\"><font color=\"black\" face=\"Times\" size=\"3\"><b>2. Vérification : </b></font><font color=\"black\" face=\"Courier\" size=\"3\">Test('a',1) </font><font color=\"black\" face=\"Times\" size=\"3\"> et </font><font color=\"black\" face=\"Courier\" size=\"3\">Test('a','a')</font></div>\n"
   ]
  },
  {
   "cell_type": "code",
   "execution_count": 3,
   "metadata": {},
   "outputs": [
    {
     "data": {
      "text/plain": [
       "False"
      ]
     },
     "execution_count": 3,
     "metadata": {},
     "output_type": "execute_result"
    }
   ],
   "source": [
    "\n",
    "Test('a', 1)\n",
    "\n"
   ]
  },
  {
   "cell_type": "code",
   "execution_count": 4,
   "metadata": {},
   "outputs": [
    {
     "data": {
      "text/plain": [
       "True"
      ]
     },
     "execution_count": 4,
     "metadata": {},
     "output_type": "execute_result"
    }
   ],
   "source": [
    "\n",
    "Test('a', 'a')\n",
    "\n"
   ]
  },
  {
   "cell_type": "markdown",
   "metadata": {},
   "source": [
    "\n",
    "<p><a id=\"Exo1_2\"></a></p><div align=\"right\"><a href=\"#top\">Haut du document</a></div>\n"
   ]
  },
  {
   "cell_type": "markdown",
   "metadata": {},
   "source": [
    "\n",
    "<div class=\"alert alert-info\"><font color=\"black\" size=\"4\"><b>1.2 Somme</b></font></div><h3 id=\"Exercice-2.\">Exercice 2.<a class=\"anchor-link\" href=\"#Exercice-2.\">¶</a></h3><ol>\n",
    "<li>Construire une fonction <code>Somme()</code> qui prend en entrée deux paramètres $n$ et $m$ et qui renvoie la somme des carrés $n^2  + (n+1)^2 + .... + m^2$<br/></li>\n",
    "<li>Vérifier que l’appel <code>Somme(3,10)</code> renvoie 380.</li>\n",
    "</ol>\n"
   ]
  },
  {
   "cell_type": "markdown",
   "metadata": {},
   "source": [
    "\n",
    "<div class=\"alert alert-success\"><b><font color=\"black\" face=\"Times\" size=\"3\">Réponses</font></b> :<br/><br/>\n",
    "<font color=\"black\" face=\"Times\" size=\"3\"><b>1. Code de la fonction </b><font color=\"black\" face=\"Courier\" size=\"3\">Somme()</font></font>\n",
    "</div>\n"
   ]
  },
  {
   "cell_type": "code",
   "execution_count": 5,
   "metadata": {},
   "outputs": [],
   "source": [
    "\n",
    "def Somme(n, m):\n",
    "    ''' Renvoie la somme des carrés n^2 + (n+1)^2 + ... + m^2\n",
    "        On suppose n < m\n",
    "    '''\n",
    "    # Initialisation\n",
    "    s = 0\n",
    "    # Calcul\n",
    "    for i in range(n, m+1):\n",
    "        s = s+i**2\n",
    "    # Sortie \n",
    "    return s\n",
    "\n",
    "def Somme2(n, m):\n",
    "    ''' Renvoie la somme des carrés n^2 + (n+1)^2 + ... + m^2. Version factorisée.\n",
    "        On suppose n < m\n",
    "    '''     \n",
    "    return sum(k**2 for k in range(n, m+1))\n",
    "\n",
    "def Somme3(n, m):\n",
    "    ''' Renvoie la somme des carrés n^2 + (n+1)^2 + ... + m^2. Version optimisée.\n",
    "        On suppose n < m\n",
    "    '''     \n",
    "    return sum(np.array(range(n,m+1))**2)\n",
    "\n"
   ]
  },
  {
   "cell_type": "markdown",
   "metadata": {},
   "source": [
    "\n",
    "<div class=\"alert alert-success\"><font color=\"black\" face=\"Times\" size=\"3\"><b>2. Vérification : </b></font><font color=\"black\" face=\"Courier\" size=\"3\">Somme(3,10) </font></div>\n"
   ]
  },
  {
   "cell_type": "code",
   "execution_count": 6,
   "metadata": {},
   "outputs": [
    {
     "data": {
      "text/plain": [
       "380"
      ]
     },
     "execution_count": 6,
     "metadata": {},
     "output_type": "execute_result"
    }
   ],
   "source": [
    "\n",
    "Somme(3,10)\n",
    "\n"
   ]
  },
  {
   "cell_type": "code",
   "execution_count": 7,
   "metadata": {},
   "outputs": [
    {
     "data": {
      "text/plain": [
       "380"
      ]
     },
     "execution_count": 7,
     "metadata": {},
     "output_type": "execute_result"
    }
   ],
   "source": [
    "\n",
    "3**2+4**2+5**2+6**2+7**2+8**2+9**2+10**2\n",
    "\n"
   ]
  },
  {
   "cell_type": "code",
   "execution_count": 8,
   "metadata": {},
   "outputs": [
    {
     "data": {
      "text/plain": [
       "380"
      ]
     },
     "execution_count": 8,
     "metadata": {},
     "output_type": "execute_result"
    }
   ],
   "source": [
    "\n",
    "Somme2(3,10)\n",
    "\n"
   ]
  },
  {
   "cell_type": "code",
   "execution_count": 9,
   "metadata": {},
   "outputs": [
    {
     "data": {
      "text/plain": [
       "380"
      ]
     },
     "execution_count": 9,
     "metadata": {},
     "output_type": "execute_result"
    }
   ],
   "source": [
    "\n",
    "Somme3(3,10)\n",
    "\n"
   ]
  },
  {
   "cell_type": "markdown",
   "metadata": {},
   "source": [
    "\n",
    "<p><a id=\"Exo1_3\"></a></p><div align=\"right\"><a href=\"#top\">Haut du document</a></div>\n"
   ]
  },
  {
   "cell_type": "markdown",
   "metadata": {},
   "source": [
    "\n",
    "<div class=\"alert alert-info\"><font color=\"black\" size=\"4\"><b>1.3 Construire une liste</b></font></div><h3 id=\"Exercice-3.\">Exercice 3.<a class=\"anchor-link\" href=\"#Exercice-3.\">¶</a></h3><ol>\n",
    "<li>Construire une fonction <code>Liste()</code> contenant les cubes des entiers impairs de 1 à 9. Utiliser <code>range(début, fin, pas)</code> en prenant <code>pas=2</code> pour avoir la liste des impairs.<br/></li>\n",
    "<li>Vérifier que l’appel <code>Liste()</code> renvoie [1, 27, 125, 343, 729]</li>\n",
    "</ol>\n"
   ]
  },
  {
   "cell_type": "markdown",
   "metadata": {},
   "source": [
    "\n",
    "<div class=\"alert alert-success\"><b><font color=\"black\" face=\"Times\" size=\"3\">Réponses</font></b> :<br/><br/>\n",
    "<font color=\"black\" face=\"Times\" size=\"3\"><b>1. Code de la fonction </b><font color=\"black\" face=\"Courier\" size=\"3\">Liste()</font></font>\n",
    "</div>\n"
   ]
  },
  {
   "cell_type": "code",
   "execution_count": 10,
   "metadata": {},
   "outputs": [],
   "source": [
    "\n",
    "def Liste():\n",
    "    ''' Renvoie la liste des cubes des entiers impairs de 1 à 9 (version simple)\n",
    "    '''\n",
    "    # Initialisation    \n",
    "    s = []\n",
    "    # Calcul\n",
    "    for i in range(1, 11, 2):\n",
    "        s = s + [i**3]\n",
    "    # Sortie\n",
    "    return s\n",
    "\n"
   ]
  },
  {
   "cell_type": "code",
   "execution_count": 11,
   "metadata": {},
   "outputs": [],
   "source": [
    "\n",
    "def Liste2():\n",
    "    ''' Renvoie liste des cubes des entiers impairs de 1 à 9 (version améliorée)\n",
    "    '''\n",
    "    # Calcul et sortie\n",
    "    return list(k**3 for k in range(1, 11, 2))\n",
    "\n"
   ]
  },
  {
   "cell_type": "code",
   "execution_count": 12,
   "metadata": {},
   "outputs": [
    {
     "name": "stdout",
     "output_type": "stream",
     "text": [
      "Help on function Liste in module __main__:\n",
      "\n",
      "Liste()\n",
      "    Renvoie la liste des cubes des entiers impairs de 1 à 9 (version simple)\n",
      "\n"
     ]
    }
   ],
   "source": [
    "\n",
    "help(Liste)\n",
    "\n"
   ]
  },
  {
   "cell_type": "markdown",
   "metadata": {},
   "source": [
    "\n",
    "<div class=\"alert alert-success\"><font color=\"black\" face=\"Times\" size=\"3\"><b>2. Vérification : </b></font><font color=\"black\" face=\"Courier\" size=\"3\">Liste() </font></div>\n"
   ]
  },
  {
   "cell_type": "code",
   "execution_count": 13,
   "metadata": {},
   "outputs": [
    {
     "data": {
      "text/plain": [
       "[1, 27, 125, 343, 729]"
      ]
     },
     "execution_count": 13,
     "metadata": {},
     "output_type": "execute_result"
    }
   ],
   "source": [
    "\n",
    "Liste()\n",
    "\n"
   ]
  },
  {
   "cell_type": "code",
   "execution_count": 14,
   "metadata": {},
   "outputs": [
    {
     "data": {
      "text/plain": [
       "[1, 27, 125, 343, 729]"
      ]
     },
     "execution_count": 14,
     "metadata": {},
     "output_type": "execute_result"
    }
   ],
   "source": [
    "\n",
    "Liste2()\n",
    "\n"
   ]
  },
  {
   "cell_type": "markdown",
   "metadata": {},
   "source": [
    "\n",
    "<p><a id=\"Exo1_4\"></a></p><div align=\"right\"><a href=\"#top\">Haut du document</a></div>\n"
   ]
  },
  {
   "cell_type": "markdown",
   "metadata": {},
   "source": [
    "\n",
    "<div class=\"alert alert-info\"><font color=\"black\" size=\"4\"><b>1.4 Calcul de la factorielle d’un entier de manière itérative et récursive</b></font></div><p>Pour mémoire, une fonction est récursive lorsqu’elle s’appelle elle-même. Le calcul de la factorielle d’un entier est l’exemple type du problème qui peut être traité de manière itérative et récursive. <br/>\n",
    "Pour cela il suffit de savoir que :</p>\n",
    "<ol>\n",
    "<li>$n! = n \\times (n-1) \\times .. 2 \\times 1$, c’est la forme itérative.</li>\n",
    "<li>$n! = n \\times (n-1)!$, c’est la forme récursive.</li>\n",
    "</ol>\n"
   ]
  },
  {
   "cell_type": "markdown",
   "metadata": {},
   "source": [
    "\n",
    "<h3 id=\"Exercice-4.\">Exercice 4.<a class=\"anchor-link\" href=\"#Exercice-4.\">¶</a></h3><ol>\n",
    "<li>Construire une fonction <code>Fact()</code> itérative qui prend en entrée un entier et qui renvoie la factorielle de cet entier.<br/></li>\n",
    "<li>Vérifier que l’appel <code>Fact(6)</code> renvoie 720.</li>\n",
    "</ol>\n"
   ]
  },
  {
   "cell_type": "markdown",
   "metadata": {},
   "source": [
    "\n",
    "<div class=\"alert alert-success\"><b><font color=\"black\" face=\"Times\" size=\"3\">Réponses</font></b> :<br/><br/>\n",
    "<font color=\"black\" face=\"Times\" size=\"3\"><b>1. Code de la fonction </b><font color=\"black\" face=\"Courier\" size=\"3\">Fact()</font></font>\n",
    "</div>\n"
   ]
  },
  {
   "cell_type": "code",
   "execution_count": 15,
   "metadata": {},
   "outputs": [],
   "source": [
    "\n",
    "def Fact(n):\n",
    "    ''' Renvoie le factoriel de l'entier n. Version itérative\n",
    "    '''\n",
    "    # Initialisation    \n",
    "    f = 1\n",
    "    # Calcul\n",
    "    for i in range(1, n+1):\n",
    "        f *= i\n",
    "    # Sortie\n",
    "    return f\n",
    "\n"
   ]
  },
  {
   "cell_type": "markdown",
   "metadata": {},
   "source": [
    "\n",
    "<div class=\"alert alert-success\"><font color=\"black\" face=\"Times\" size=\"3\"><b>2. Vérification : </b></font><font color=\"black\" face=\"Courier\" size=\"3\">Fact(6) </font></div>\n"
   ]
  },
  {
   "cell_type": "code",
   "execution_count": 16,
   "metadata": {},
   "outputs": [
    {
     "data": {
      "text/plain": [
       "720"
      ]
     },
     "execution_count": 16,
     "metadata": {},
     "output_type": "execute_result"
    }
   ],
   "source": [
    "\n",
    "Fact(6)\n",
    "\n"
   ]
  },
  {
   "cell_type": "markdown",
   "metadata": {},
   "source": [
    "\n",
    "<h3 id=\"Exercice-5.\">Exercice 5.<a class=\"anchor-link\" href=\"#Exercice-5.\">¶</a></h3><ol>\n",
    "<li>Construire une fonction <code>FactR()</code> récursive qui prend en entrée un entier et qui renvoie la factorielle de cet entier.<br/></li>\n",
    "<li>Vérifier que l’appel <code>FactR(6)</code> renvoie 720.</li>\n",
    "</ol>\n"
   ]
  },
  {
   "cell_type": "markdown",
   "metadata": {},
   "source": [
    "\n",
    "<div class=\"alert alert-success\"><b><font color=\"black\" face=\"Times\" size=\"3\">Réponses</font></b> :<br/><br/>\n",
    "<font color=\"black\" face=\"Times\" size=\"3\"><b>1. Code de la fonction </b><font color=\"black\" face=\"Courier\" size=\"3\">FactR()</font></font>\n",
    "</div>\n"
   ]
  },
  {
   "cell_type": "code",
   "execution_count": 17,
   "metadata": {},
   "outputs": [],
   "source": [
    "\n",
    "def FactR(n):\n",
    "    ''' Renvoie le factoriel de l'entier n. Version récursive.\n",
    "    '''     \n",
    "    if n == 0:\n",
    "        return 1\n",
    "    else:\n",
    "        return n*FactR(n-1)\n",
    "\n"
   ]
  },
  {
   "cell_type": "markdown",
   "metadata": {},
   "source": [
    "\n",
    "<div class=\"alert alert-success\"><font color=\"black\" face=\"Times\" size=\"3\"><b>2. Vérification : </b></font><font color=\"black\" face=\"Courier\" size=\"3\">FactR(6) </font></div>\n"
   ]
  },
  {
   "cell_type": "code",
   "execution_count": 18,
   "metadata": {},
   "outputs": [
    {
     "data": {
      "text/plain": [
       "720"
      ]
     },
     "execution_count": 18,
     "metadata": {},
     "output_type": "execute_result"
    }
   ],
   "source": [
    "\n",
    "FactR(6)\n",
    "\n"
   ]
  },
  {
   "cell_type": "markdown",
   "metadata": {},
   "source": [
    "\n",
    "<p><a id=\"Exo1_5\"></a></p><div align=\"right\"><a href=\"#top\">Haut du document</a></div>\n"
   ]
  },
  {
   "cell_type": "markdown",
   "metadata": {},
   "source": [
    "\n",
    "<div class=\"alert alert-info\"><font color=\"black\" size=\"4\"><b>1.5 Manipulation de listes</b></font></div>\n"
   ]
  },
  {
   "cell_type": "markdown",
   "metadata": {},
   "source": [
    "\n",
    "<p>En Python, les listes sont des objets délimités par des crochets et pouvant contenir des objets de types différents,\n",
    "comme par exemple :<br/>\n",
    "<code>L = ['abc', 4, 3.0, [1, 2]]</code></p>\n"
   ]
  },
  {
   "cell_type": "markdown",
   "metadata": {},
   "source": [
    "\n",
    "<h3 id=\"Exercice-6.\">Exercice 6.<a class=\"anchor-link\" href=\"#Exercice-6.\">¶</a></h3><ol>\n",
    "<li>Compléter la fonction <code>Compare()</code> ci-dessous qui prend en entrée deux listes contenant le même type d’objets et qui renvoie :<br/>\n",
    "(a) <code>Comparaison impossible</code> si les deux listes n’ont pas le même nombre d’éléments.<br/>\n",
    "(b) Une nouvelle liste contenant, en position <code>i</code>, le résultat binaire sous la forme <code>True</code> ou <code>False</code> de la comparaison de l’élément <code>A[i]</code> avec l’élément <code>B[i]</code> étant entendu que ce résultat doit être <code>True</code> lorsque <code>A[i] = B[i]</code> et <code>False</code> dans le cas contraire.<br/></li>\n",
    "<li>Vérifier que l’appel <code>Compare(['a', [1, 2], np.pi], ['a', [1, 2], np.pi])</code> renvoie <code>[True, True, True]</code> et que l’appel <code>Compare(['a', [1, 0], np.pi], ['a', [1, 2], 7])</code> renvoie <code>[True, False, False]</code>.</li>\n",
    "</ol>\n"
   ]
  },
  {
   "cell_type": "markdown",
   "metadata": {},
   "source": [
    "\n",
    "<div class=\"alert alert-success\"><b><font color=\"black\" face=\"Times\" size=\"3\">Réponses</font></b> :<br/><br/>\n",
    "<font color=\"black\" face=\"Times\" size=\"3\"><b>1. Code de la fonction </b><font color=\"black\" face=\"Courier\" size=\"3\">Compare()</font></font>\n",
    "</div>\n"
   ]
  },
  {
   "cell_type": "code",
   "execution_count": 19,
   "metadata": {},
   "outputs": [],
   "source": [
    "\n",
    "def Compare(A, B):\n",
    "    ''' Compare élément par élément les listes A et B.\n",
    "    '''     \n",
    "    nA = len(A)\n",
    "    nB = len(B)\n",
    "    C = []\n",
    "    if nA != nB :\n",
    "        print('Comparaison impossible')\n",
    "    else:\n",
    "        for i in range(nA):\n",
    "            C += [A[i] == B[i]]\n",
    "            #print('Ai', A[i], 'Bi', B[i])\n",
    "    return C\n",
    "\n"
   ]
  },
  {
   "cell_type": "markdown",
   "metadata": {},
   "source": [
    "\n",
    "<div class=\"alert alert-success\"><font color=\"black\" face=\"Times\" size=\"3\"><b>2. Vérifications : </b></font></div>\n"
   ]
  },
  {
   "cell_type": "code",
   "execution_count": 20,
   "metadata": {},
   "outputs": [
    {
     "data": {
      "text/plain": [
       "[True, True, True]"
      ]
     },
     "execution_count": 20,
     "metadata": {},
     "output_type": "execute_result"
    }
   ],
   "source": [
    "\n",
    "Compare(['a', [1, 2], np.pi], ['a', [1, 2], np.pi])\n",
    "\n"
   ]
  },
  {
   "cell_type": "code",
   "execution_count": 21,
   "metadata": {},
   "outputs": [
    {
     "data": {
      "text/plain": [
       "[True, False, False]"
      ]
     },
     "execution_count": 21,
     "metadata": {},
     "output_type": "execute_result"
    }
   ],
   "source": [
    "\n",
    "Compare(['a', [1, 0], np.pi], ['a', [1, 2], 7])\n",
    "\n"
   ]
  },
  {
   "cell_type": "markdown",
   "metadata": {},
   "source": [
    "\n",
    "<p><a id=\"Exo1_6\"></a></p><div align=\"right\"><a href=\"#top\">Haut du document</a></div>\n"
   ]
  },
  {
   "cell_type": "markdown",
   "metadata": {},
   "source": [
    "\n",
    "<div class=\"alert alert-info\"><font color=\"black\" size=\"4\"><b>1.6 Représentation graphique d’une courbe</b></font></div>\n"
   ]
  },
  {
   "cell_type": "markdown",
   "metadata": {},
   "source": [
    "\n",
    "<p>La représentation graphique de la courbe d’une fonction nécessite d’importer le module <code>import matplotlib.pyplot as plt</code> et : <br/></p>\n",
    "<ol>\n",
    "<li><p>De définir la fonction à tracer si ce n’est pas une fonction native, par exemple en écrivant <br/>\n",
    "<code>def f(x):</code><br/>\n",
    "  <code>return x**2 + np.sin(x)</code></p>\n",
    "</li>\n",
    "<li><p>De définir la grille d’abscisses en écrivant <code>x = np.linspace(x1,x2,N)</code> qui fournit une liste équirépartie de <code>N</code>\n",
    "nombres de <code>x1</code> (compris) à <code>x2</code> (compris).<br/></p>\n",
    "</li>\n",
    "<li><p>De calculer les images de <code>x</code> par <code>f</code> en écrivant <code>y = f(x)</code>.<br/></p>\n",
    "</li>\n",
    "<li><p>De lancer les deux commandes de représentation graphique en écrivant a minima <code>plt.plot(x, y)</code></p>\n",
    "</li>\n",
    "</ol>\n"
   ]
  },
  {
   "cell_type": "markdown",
   "metadata": {},
   "source": [
    "\n",
    "<div class=\"alert alert-success\"><b><font color=\"black\" face=\"Times\" size=\"3\">Réponses</font></b> :<br/><br/>\n",
    "<font color=\"black\" face=\"Times\" size=\"3\"><b>1. à 4. Instructions Python</b></font>\n",
    "</div>\n"
   ]
  },
  {
   "cell_type": "code",
   "execution_count": 22,
   "metadata": {},
   "outputs": [],
   "source": [
    "\n",
    "import matplotlib.pyplot as plt\n",
    "import numpy as np\n",
    "\n"
   ]
  },
  {
   "cell_type": "code",
   "execution_count": 23,
   "metadata": {},
   "outputs": [],
   "source": [
    "\n",
    "def f(x):\n",
    "    return x**2 + np.sin(x)\n",
    "\n"
   ]
  },
  {
   "cell_type": "code",
   "execution_count": 24,
   "metadata": {},
   "outputs": [],
   "source": [
    "\n",
    "x1, x2, N = 0., 1., 10\n",
    "x = np.linspace(x1,x2,N)\n",
    "\n"
   ]
  },
  {
   "cell_type": "code",
   "execution_count": 25,
   "metadata": {},
   "outputs": [
    {
     "data": {
      "text/plain": [
       "array([0.        , 0.11111111, 0.22222222, 0.33333333, 0.44444444,\n",
       "       0.55555556, 0.66666667, 0.77777778, 0.88888889, 1.        ])"
      ]
     },
     "execution_count": 25,
     "metadata": {},
     "output_type": "execute_result"
    }
   ],
   "source": [
    "\n",
    "x\n",
    "\n"
   ]
  },
  {
   "cell_type": "code",
   "execution_count": 26,
   "metadata": {},
   "outputs": [],
   "source": [
    "\n",
    "y = f(x)\n",
    "\n"
   ]
  },
  {
   "cell_type": "code",
   "execution_count": 27,
   "metadata": {},
   "outputs": [
    {
     "data": {
      "image/png": "[encoded data removed]",
      "text/plain": [
       "<Figure size 432x288 with 1 Axes>"
      ]
     },
     "metadata": {
      "needs_background": "light"
     },
     "output_type": "display_data"
    }
   ],
   "source": [
    "\n",
    "plt.plot(x,y);\n",
    "\n"
   ]
  },
  {
   "cell_type": "markdown",
   "metadata": {},
   "source": [
    "\n",
    "<h3 id=\"Exercice-7.\">Exercice 7.<a class=\"anchor-link\" href=\"#Exercice-7.\">¶</a></h3><ol>\n",
    "<li>Compléter la fonction <code>GraphFonction()</code> qui prend en entrée une fonction $f$ déjà définie, les deux bornes d’un intervalle $[a, b]$ et un nombre de points $N$ et qui affiche la représentation graphique de $f$ sur $[a, b]$ avec $N$ points équidistants.<br/></li>\n",
    "<li>Vérifier le résultat sur des fonctions connues comme $sin$, $ln$ ...</li>\n",
    "</ol>\n"
   ]
  },
  {
   "cell_type": "markdown",
   "metadata": {},
   "source": [
    "\n",
    "<div class=\"alert alert-success\"><b><font color=\"black\" face=\"Times\" size=\"3\">Réponses</font></b> :<br/><br/>\n",
    "<font color=\"black\" face=\"Times\" size=\"3\"><b>1. Code de la fonction </b><font color=\"black\" face=\"Courier\" size=\"3\">GraphFonction()</font></font>\n",
    "</div>\n"
   ]
  },
  {
   "cell_type": "code",
   "execution_count": 28,
   "metadata": {},
   "outputs": [],
   "source": [
    "\n",
    "# Fonction Graph\n",
    "def GraphFonction(f,a,b,N):\n",
    "    ''' Donne la représentation graphique élémentaire de la fonction numérique f à 1 variable entre a et b, \n",
    "        évaluée sur N points.\n",
    "    '''\n",
    "    # Initialisation de la grille d'évaluation de f\n",
    "    x = np.linspace(a,b,N)\n",
    "    # Calcul\n",
    "    y = f(x)\n",
    "    # Affichage graphique\n",
    "    plt.plot(x, y)\n",
    "    plt.show()\n",
    "\n"
   ]
  },
  {
   "cell_type": "markdown",
   "metadata": {},
   "source": [
    "\n",
    "<div class=\"alert alert-success\"><font color=\"black\" face=\"Times\" size=\"3\"><b>2. Vérifications : </b></font></div>\n"
   ]
  },
  {
   "cell_type": "code",
   "execution_count": 29,
   "metadata": {},
   "outputs": [
    {
     "data": {
      "image/png": "[encoded data removed]",
      "text/plain": [
       "<Figure size 432x288 with 1 Axes>"
      ]
     },
     "metadata": {
      "needs_background": "light"
     },
     "output_type": "display_data"
    }
   ],
   "source": [
    "\n",
    "GraphFonction(np.sin,0.,6.,50)\n",
    "\n"
   ]
  },
  {
   "cell_type": "code",
   "execution_count": 30,
   "metadata": {},
   "outputs": [
    {
     "data": {
      "image/png": "[encoded data removed]",
      "text/plain": [
       "<Figure size 432x288 with 1 Axes>"
      ]
     },
     "metadata": {
      "needs_background": "light"
     },
     "output_type": "display_data"
    }
   ],
   "source": [
    "\n",
    "GraphFonction(np.log, 0.1, 10., 100)\n",
    "\n"
   ]
  },
  {
   "cell_type": "markdown",
   "metadata": {},
   "source": [
    "\n",
    "<p><a id=\"Exo2\"></a></p><div align=\"right\"><a href=\"#top\">Haut du document</a></div>\n"
   ]
  },
  {
   "cell_type": "markdown",
   "metadata": {},
   "source": [
    "\n",
    "<div class=\"alert alert-info\">\n",
    "<font color=\"black\" size=\"5\"><b>2. Exercices introductifs sur la manipulation des matrices (étudiants débutants)</b></font>\n",
    "</div>\n"
   ]
  },
  {
   "cell_type": "markdown",
   "metadata": {},
   "source": [
    "\n",
    "<ol>\n",
    "<li>Toutes les commandes élémentaires liées aux listes, tableaux et matrices sont réunies dans le fichier\n",
    "<code>Tableau_v2.py</code>.</li>\n",
    "<li>Votre feuille de script doit commencer par l’importation <code>import numpy as np</code> (sans le point final bien sûr).</li>\n",
    "</ol>\n"
   ]
  },
  {
   "cell_type": "markdown",
   "metadata": {},
   "source": [
    "\n",
    "<p><a id=\"Exo2_1\"></a></p><div align=\"right\"><a href=\"#top\">Haut du document</a></div>\n"
   ]
  },
  {
   "cell_type": "markdown",
   "metadata": {},
   "source": [
    "\n",
    "<div class=\"alert alert-info\"><font color=\"black\" size=\"4\"><b>2.1 Manipulation de matrices</b></font></div>\n"
   ]
  },
  {
   "cell_type": "markdown",
   "metadata": {},
   "source": [
    "\n",
    "<p><a id=\"Exo1_8\"></a></p>\n"
   ]
  },
  {
   "cell_type": "markdown",
   "metadata": {},
   "source": [
    "\n",
    "<h3 id=\"Exercice-8.\">Exercice 8.<a class=\"anchor-link\" href=\"#Exercice-8.\">¶</a></h3>\n"
   ]
  },
  {
   "cell_type": "markdown",
   "metadata": {},
   "source": [
    "\n",
    "<ol>\n",
    "<li>Construire la matrice $A = \\begin{pmatrix} 1 &amp; 2 &amp; 3 \\\\ 4 &amp; 5 &amp; 6 \\\\ 7 &amp; 8 &amp; 9 \\end{pmatrix}$ en utilisant la fonction <code>reshape()</code></li>\n",
    "</ol>\n"
   ]
  },
  {
   "cell_type": "markdown",
   "metadata": {},
   "source": [
    "\n",
    "<div class=\"alert alert-success\"><b><font color=\"black\" face=\"Times\" size=\"3\">Réponse</font></b> :\n",
    "</div>\n"
   ]
  },
  {
   "cell_type": "code",
   "execution_count": 31,
   "metadata": {},
   "outputs": [],
   "source": [
    "\n",
    "A = np.reshape(np.arange(1, 10), (3, 3))\n",
    "\n"
   ]
  },
  {
   "cell_type": "code",
   "execution_count": 32,
   "metadata": {},
   "outputs": [
    {
     "data": {
      "text/plain": [
       "array([[1, 2, 3],\n",
       "       [4, 5, 6],\n",
       "       [7, 8, 9]])"
      ]
     },
     "execution_count": 32,
     "metadata": {},
     "output_type": "execute_result"
    }
   ],
   "source": [
    "\n",
    "A\n",
    "\n"
   ]
  },
  {
   "cell_type": "markdown",
   "metadata": {},
   "source": [
    "\n",
    "<ol>\n",
    "<li>Calculer la trace de A, c’est-à-dire la somme des coefficients diagonaux en utilisant la fonction <code>sum()</code></li>\n",
    "</ol>\n"
   ]
  },
  {
   "cell_type": "markdown",
   "metadata": {},
   "source": [
    "\n",
    "<div class=\"alert alert-success\"><b><font color=\"black\" face=\"Times\" size=\"3\">Réponse</font></b> :\n",
    "</div>\n"
   ]
  },
  {
   "cell_type": "code",
   "execution_count": 33,
   "metadata": {},
   "outputs": [
    {
     "name": "stdout",
     "output_type": "stream",
     "text": [
      "Help on built-in function sum in module builtins:\n",
      "\n",
      "sum(iterable, start=0, /)\n",
      "    Return the sum of a 'start' value (default: 0) plus an iterable of numbers\n",
      "    \n",
      "    When the iterable is empty, return the start value.\n",
      "    This function is intended specifically for use with numeric values and may\n",
      "    reject non-numeric types.\n",
      "\n"
     ]
    }
   ],
   "source": [
    "\n",
    "help(sum)\n",
    "\n"
   ]
  },
  {
   "cell_type": "code",
   "execution_count": 34,
   "metadata": {},
   "outputs": [
    {
     "name": "stdout",
     "output_type": "stream",
     "text": [
      "Help on function trace in module numpy:\n",
      "\n",
      "trace(a, offset=0, axis1=0, axis2=1, dtype=None, out=None)\n",
      "    Return the sum along diagonals of the array.\n",
      "    \n",
      "    If `a` is 2-D, the sum along its diagonal with the given offset\n",
      "    is returned, i.e., the sum of elements ``a[i,i+offset]`` for all i.\n",
      "    \n",
      "    If `a` has more than two dimensions, then the axes specified by axis1 and\n",
      "    axis2 are used to determine the 2-D sub-arrays whose traces are returned.\n",
      "    The shape of the resulting array is the same as that of `a` with `axis1`\n",
      "    and `axis2` removed.\n",
      "    \n",
      "    Parameters\n",
      "    ----------\n",
      "    a : array_like\n",
      "        Input array, from which the diagonals are taken.\n",
      "    offset : int, optional\n",
      "        Offset of the diagonal from the main diagonal. Can be both positive\n",
      "        and negative. Defaults to 0.\n",
      "    axis1, axis2 : int, optional\n",
      "        Axes to be used as the first and second axis of the 2-D sub-arrays\n",
      "        from which the diagonals should be taken. Defaults are the first two\n",
      "        axes of `a`.\n",
      "    dtype : dtype, optional\n",
      "        Determines the data-type of the returned array and of the accumulator\n",
      "        where the elements are summed. If dtype has the value None and `a` is\n",
      "        of integer type of precision less than the default integer\n",
      "        precision, then the default integer precision is used. Otherwise,\n",
      "        the precision is the same as that of `a`.\n",
      "    out : ndarray, optional\n",
      "        Array into which the output is placed. Its type is preserved and\n",
      "        it must be of the right shape to hold the output.\n",
      "    \n",
      "    Returns\n",
      "    -------\n",
      "    sum_along_diagonals : ndarray\n",
      "        If `a` is 2-D, the sum along the diagonal is returned.  If `a` has\n",
      "        larger dimensions, then an array of sums along diagonals is returned.\n",
      "    \n",
      "    See Also\n",
      "    --------\n",
      "    diag, diagonal, diagflat\n",
      "    \n",
      "    Examples\n",
      "    --------\n",
      "    >>> np.trace(np.eye(3))\n",
      "    3.0\n",
      "    >>> a = np.arange(8).reshape((2,2,2))\n",
      "    >>> np.trace(a)\n",
      "    array([6, 8])\n",
      "    \n",
      "    >>> a = np.arange(24).reshape((2,2,2,3))\n",
      "    >>> np.trace(a).shape\n",
      "    (2, 3)\n",
      "\n"
     ]
    }
   ],
   "source": [
    "\n",
    "help(np.trace)\n",
    "\n"
   ]
  },
  {
   "cell_type": "code",
   "execution_count": 35,
   "metadata": {},
   "outputs": [],
   "source": [
    "\n",
    "trace = sum(A[i,i] for i in range(3))\n",
    "\n"
   ]
  },
  {
   "cell_type": "code",
   "execution_count": 36,
   "metadata": {},
   "outputs": [
    {
     "data": {
      "text/plain": [
       "15"
      ]
     },
     "execution_count": 36,
     "metadata": {},
     "output_type": "execute_result"
    }
   ],
   "source": [
    "\n",
    "trace\n",
    "\n"
   ]
  },
  {
   "cell_type": "markdown",
   "metadata": {},
   "source": [
    "\n",
    "<p>de la même façon, on pourrait exploiter la fonction <code>trace()</code> du module <code>numpy</code>.</p>\n"
   ]
  },
  {
   "cell_type": "code",
   "execution_count": 37,
   "metadata": {},
   "outputs": [
    {
     "data": {
      "text/plain": [
       "15"
      ]
     },
     "execution_count": 37,
     "metadata": {},
     "output_type": "execute_result"
    }
   ],
   "source": [
    "\n",
    "np.trace(A)\n",
    "\n"
   ]
  },
  {
   "cell_type": "markdown",
   "metadata": {},
   "source": [
    "\n",
    "<ol>\n",
    "<li>Calculer la ligne résultant de la somme des trois lignes de A en utilisant la fonction <code>sum()</code>.</li>\n",
    "</ol>\n"
   ]
  },
  {
   "cell_type": "code",
   "execution_count": 38,
   "metadata": {},
   "outputs": [
    {
     "data": {
      "text/plain": [
       "array([12, 15, 18])"
      ]
     },
     "execution_count": 38,
     "metadata": {},
     "output_type": "execute_result"
    }
   ],
   "source": [
    "\n",
    "sum(A[i,:] for i in range(3))\n",
    "\n"
   ]
  },
  {
   "cell_type": "markdown",
   "metadata": {},
   "source": [
    "\n",
    "<ol>\n",
    "<li>Extraire de $A$ la sous-matrice $A' = \\begin{pmatrix} 2 &amp; 3 \\\\ 5 &amp; 6 \\end{pmatrix}$ en utilisant <code>A[...., .....]</code>.</li>\n",
    "</ol>\n"
   ]
  },
  {
   "cell_type": "code",
   "execution_count": 39,
   "metadata": {},
   "outputs": [
    {
     "data": {
      "text/plain": [
       "array([[2, 3],\n",
       "       [5, 6]])"
      ]
     },
     "execution_count": 39,
     "metadata": {},
     "output_type": "execute_result"
    }
   ],
   "source": [
    "\n",
    "A[0:2, 1:]\n",
    "\n"
   ]
  },
  {
   "cell_type": "markdown",
   "metadata": {},
   "source": [
    "\n",
    "<p><a id=\"Exo1_9\"></a></p>\n"
   ]
  },
  {
   "cell_type": "markdown",
   "metadata": {},
   "source": [
    "\n",
    "<h3 id=\"Exercice-9.-Matrices-symétriques\">Exercice 9. Matrices symétriques<a class=\"anchor-link\" href=\"#Exercice-9.-Matrices-symétriques\">¶</a></h3><ol>\n",
    "<li><p>Construire une fonction <code>Sym1()</code> qui s’applique à une matrice carrée et qui renvoie <code>True</code> si la matrice est symétrique et <code>False</code> dans le cas contraire sans utiliser la fonction native <code>transpose()</code>. Pour mémoire « différent » s’écrit <code>!=</code> en Python. <br/>\n",
    "On pourra utiliser la trame suivante si nécessaire :<br/>\n",
    "<code>def Sym1(A):</code><br/>\n",
    "  <code>[n,p] = np.shape(A) # Pour la dimension de A</code><br/>\n",
    "  <code>for i in range(..............):</code><br/>\n",
    "    <code>for j in range(..............):</code><br/>\n",
    "      <code>if ............................:</code><br/>\n",
    "        <code>return False</code><br/>\n",
    "  <code>return True</code><br/></p>\n",
    "</li>\n",
    "<li><p>Vérifier qu’avec <code>A = np.array([[2,1,1],[1,2,1],[1,1,2]])</code> l’appel <code>Sym1(A)</code> renvoie <code>True</code> puis vérifier qu’avec <code>B = np.array([[2,1,0],[1,2,1],[1,1,2]])</code> l’appel <code>Sym1(B)</code> renvoie <code>False</code>.</p>\n",
    "</li>\n",
    "</ol>\n"
   ]
  },
  {
   "cell_type": "markdown",
   "metadata": {},
   "source": [
    "\n",
    "<div class=\"alert alert-success\"><b><font color=\"black\" face=\"Times\" size=\"3\">Réponses</font></b> :<br/><br/>\n",
    "<font color=\"black\" face=\"Times\" size=\"3\"><b>1. Code de la fonction </b><font color=\"black\" face=\"Courier\" size=\"3\">Sym1()</font></font>\n",
    "</div>\n"
   ]
  },
  {
   "cell_type": "code",
   "execution_count": 40,
   "metadata": {},
   "outputs": [],
   "source": [
    "\n",
    "def Sym1(A):\n",
    "    ''' Teste si la matrice A est symétrique.\n",
    "    '''\n",
    "    # Initialisation\n",
    "    [n,p] = np.shape(A)    # dimensions de A\n",
    "    # Calcul\n",
    "    for i in range(n):\n",
    "        for j in range(i, n):\n",
    "            if A[i,j] != A[j,i]:\n",
    "                return False\n",
    "    return True\n",
    "\n"
   ]
  },
  {
   "cell_type": "markdown",
   "metadata": {},
   "source": [
    "\n",
    "<div class=\"alert alert-success\"><font color=\"black\" face=\"Times\" size=\"3\"><b>2. Vérifications : </b></font></div>\n"
   ]
  },
  {
   "cell_type": "code",
   "execution_count": 41,
   "metadata": {},
   "outputs": [
    {
     "data": {
      "text/plain": [
       "True"
      ]
     },
     "execution_count": 41,
     "metadata": {},
     "output_type": "execute_result"
    }
   ],
   "source": [
    "\n",
    "A = np.array([[2,1,1], [1,2,1], [1,1,2]])\n",
    "Sym1(A)\n",
    "\n"
   ]
  },
  {
   "cell_type": "code",
   "execution_count": 42,
   "metadata": {},
   "outputs": [
    {
     "data": {
      "text/plain": [
       "False"
      ]
     },
     "execution_count": 42,
     "metadata": {},
     "output_type": "execute_result"
    }
   ],
   "source": [
    "\n",
    "B = np.array([[2,1,0], [1,2,1], [1,1,2]])\n",
    "Sym1(B)\n",
    "\n"
   ]
  },
  {
   "cell_type": "markdown",
   "metadata": {},
   "source": [
    "\n",
    "<h3 id=\"Exercice-10.--Matrices-symétriques\">Exercice 10.  Matrices symétriques<a class=\"anchor-link\" href=\"#Exercice-10.--Matrices-symétriques\">¶</a></h3><ol>\n",
    "<li>Construire une fonction <code>Sym2()</code> qui s’applique à une matrice carrée et qui renvoie <code>True</code> si la matrice est symétrique et <code>False</code> dans le cas contraire en utilisant la fonction native <code>transpose()</code>.<br/> Cette fonction nécessitera de tester l’égalité de tous les coefficients deux à deux. Pour cela, on peut écrire, pour deux matrices $A$ et $B$ de même taille :<br/>\n",
    "<code>if (A==B).all():</code><br/>\n",
    "  <code>.....</code></li>\n",
    "</ol>\n",
    "<p>On pourra utiliser la trame suivante si nécessaire :<br/>\n",
    "<code>def Sym2(A):</code><br/>\n",
    "  <code>B = ...........</code><br/>\n",
    "  <code>if ..............:</code><br/>\n",
    "    <code>return True</code><br/>\n",
    "  <code>return False</code><br/></p>\n"
   ]
  },
  {
   "cell_type": "markdown",
   "metadata": {},
   "source": [
    "\n",
    "<div class=\"alert alert-success\"><b><font color=\"black\" face=\"Times\" size=\"3\">Réponses</font></b> :<br/><br/>\n",
    "<font color=\"black\" face=\"Times\" size=\"3\"><b>1. Code de la fonction </b><font color=\"black\" face=\"Courier\" size=\"3\">Sym2()</font></font>\n",
    "</div>\n"
   ]
  },
  {
   "cell_type": "code",
   "execution_count": 43,
   "metadata": {},
   "outputs": [],
   "source": [
    "\n",
    "def Sym2(A):\n",
    "    ''' Teste si la matrice A est symétrique à l'aide de la fonction native numpy transpose().\n",
    "    '''\n",
    "    # Calcul de la matrice transposée\n",
    "    B = np.transpose(A)\n",
    "    # Comparaison globale\n",
    "    if (A == B).all():\n",
    "        return True\n",
    "    return False\n",
    "\n"
   ]
  },
  {
   "cell_type": "markdown",
   "metadata": {},
   "source": [
    "\n",
    "<div class=\"alert alert-success\"><font color=\"black\" face=\"Times\" size=\"3\"><b>2. Vérifications : </b></font></div>\n"
   ]
  },
  {
   "cell_type": "code",
   "execution_count": 44,
   "metadata": {},
   "outputs": [
    {
     "data": {
      "text/plain": [
       "True"
      ]
     },
     "execution_count": 44,
     "metadata": {},
     "output_type": "execute_result"
    }
   ],
   "source": [
    "\n",
    "Sym2(A)\n",
    "\n"
   ]
  },
  {
   "cell_type": "code",
   "execution_count": 45,
   "metadata": {},
   "outputs": [
    {
     "data": {
      "text/plain": [
       "False"
      ]
     },
     "execution_count": 45,
     "metadata": {},
     "output_type": "execute_result"
    }
   ],
   "source": [
    "\n",
    "Sym2(B)\n",
    "\n"
   ]
  },
  {
   "cell_type": "markdown",
   "metadata": {},
   "source": [
    "\n",
    "<p><a id=\"Exo2_2\"></a></p><div align=\"right\"><a href=\"#top\">Haut du document</a></div>\n"
   ]
  },
  {
   "cell_type": "markdown",
   "metadata": {},
   "source": [
    "\n",
    "<div class=\"alert alert-info\"><font color=\"black\" size=\"4\"><b>2.2 Construction de matrice</b></font></div>\n"
   ]
  },
  {
   "cell_type": "markdown",
   "metadata": {},
   "source": [
    "\n",
    "<h3>Exercice 11.  Matrices tridiagonales<br/></h3>\n",
    "<ol>\n",
    "<li>Construire une fonction <code>Tridiag()</code> qui prend en entrée trois scalaires $a$, $b$ et $c$ et un entier $n$ et qui renvoie la matrice la matrice tri-diagonale de $n$ lignes par $n$ colonnes dont les éléments diagonaux sont $a$, les éléments de la première sur-diagonale et sous-diagonale valent $b$ et les éléments de la seconde sur-diagonale et sous-diagonale valent $c$. <br/> Par exemple, avec $a = 1$, $b = 2$, $c = 3$ et $n = 5$, on doit obtenir : $A = \\begin{pmatrix} 1 &amp; 2 &amp; 3 &amp; 0 &amp; 0 \\\\ 2 &amp; 1 &amp; 2 &amp; 3 &amp; 0 \\\\ 3 &amp; 2 &amp; 1 &amp; 2 &amp; 3 \\\\ 0 &amp; 3 &amp; 2 &amp; 1 &amp; 2 \\\\ 0 &amp; 0 &amp; 3 &amp; 2 &amp; 1 \\end{pmatrix}$.<br/> On utilisera la fonction <code>np.diag()</code> qui s’utilise en écrivant <code>np.diag(ListeDeNombres, i)</code> pour construire une matrice de taille compatible avec la longueur de <code>ListeDeNombres</code> dont la première sur-diagonale contient les coefficients de <code>ListeDeNombres</code>. Par exemple, la commande <code>np.diag([1,2,3], 1)</code> renvoie : <br/>\n",
    "<font face=\"Courier New\">array([[0, 1, 0, 0],<br/>\n",
    "       [0, 0, 2, 0],<br/>\n",
    "       [0, 0, 0, 3],<br/>\n",
    "       [0, 0, 0, 0]])</font></li>\n",
    "</ol>\n"
   ]
  },
  {
   "cell_type": "markdown",
   "metadata": {},
   "source": [
    "\n",
    "<ol>\n",
    "<li>Vérifier que l’appel <code>Tridiag(1,2,3,5)</code> renvoie : <br/>\n",
    "<font face=\"Courier New\">array([[1., 2., 3., 0., 0.],<br/>\n",
    "       [2., 1., 2., 3., 0.],<br/>\n",
    "       [3., 2., 1., 2., 3.],<br/>\n",
    "       [0., 3., 2., 1., 2.],<br/>\n",
    "       [0., 0., 3., 2., 1.]])</font></li>\n",
    "</ol>\n"
   ]
  },
  {
   "cell_type": "markdown",
   "metadata": {},
   "source": [
    "\n",
    "<div class=\"alert alert-success\"><b><font color=\"black\" face=\"Times\" size=\"3\">Réponses</font></b> :<br/><br/>\n",
    "<font color=\"black\" face=\"Times\" size=\"3\"><b>1. Code de la fonction </b><font color=\"black\" face=\"Courier\" size=\"3\">Tridiag()</font></font>\n",
    "</div>\n"
   ]
  },
  {
   "cell_type": "code",
   "execution_count": 46,
   "metadata": {},
   "outputs": [],
   "source": [
    "\n",
    "def Tridiag(a, b, c, n):\n",
    "    ''' Renvoie une matrice tridiagonale d'ordre n\n",
    "        où les valeurs sur la diagonale principale seront a, la 1ere sur-diagonale et sous-diagonale seront b\n",
    "        et la 2nde sur-diagonale et sous-diagonale seront c.\n",
    "    '''    \n",
    "    A = np.diag(a*np.ones(n)) + np.diag(b*np.ones(n-1), 1) + np.diag(b*np.ones(n-1), -1) + np.diag(c*np.ones(n-2), 2) + np.diag(c*np.ones(n-2), -2)\n",
    "    return A\n",
    "\n"
   ]
  },
  {
   "cell_type": "markdown",
   "metadata": {},
   "source": [
    "\n",
    "<div class=\"alert alert-success\"><font color=\"black\" face=\"Times\" size=\"3\"><b>2. Vérifications : </b></font></div>\n"
   ]
  },
  {
   "cell_type": "code",
   "execution_count": 47,
   "metadata": {},
   "outputs": [
    {
     "data": {
      "text/plain": [
       "array([[1., 2., 3., 0., 0.],\n",
       "       [2., 1., 2., 3., 0.],\n",
       "       [3., 2., 1., 2., 3.],\n",
       "       [0., 3., 2., 1., 2.],\n",
       "       [0., 0., 3., 2., 1.]])"
      ]
     },
     "execution_count": 47,
     "metadata": {},
     "output_type": "execute_result"
    }
   ],
   "source": [
    "\n",
    "Tridiag(1, 2, 3, 5)\n",
    "\n"
   ]
  },
  {
   "cell_type": "markdown",
   "metadata": {},
   "source": [
    "\n",
    "<h3 id=\"Exercice-12.-Matrice-particulière\">Exercice 12. Matrice particulière<a class=\"anchor-link\" href=\"#Exercice-12.-Matrice-particulière\">¶</a></h3><ol>\n",
    "<li>Construire la matrice de <font face=\"Kunstler Script\" size=\"4\"><b>M</b></font>$_n(\\mathbb{R})$ dont tous les coefficients sont égaux à 1 sauf ceux de la diagonale qui sont nuls. <br/>\n",
    "On utilisera la fonction <code>np.diag()</code> et la fonction <code>np.ones()</code> qui s’utilise en écrivant <code>np.ones((n, n))</code> pour créer une matrice de taille $n \\times n$ remplie de $1$.<br/></li>\n",
    "<li>Vérifier que l’appel <code>MatriceParticuliere(4)</code> renvoie <br/>\n",
    "<font face=\"Courier New\">array([[0., 1., 1., 1.],<br/>\n",
    "       [1., 0., 1., 1.],<br/>\n",
    "       [1., 1., 0., 1.],<br/>\n",
    "       [1., 1., 1., 0.]])</font></li>\n",
    "</ol>\n"
   ]
  },
  {
   "cell_type": "markdown",
   "metadata": {},
   "source": [
    "\n",
    "<div class=\"alert alert-success\"><b><font color=\"black\" face=\"Times\" size=\"3\">Réponses</font></b> :<br/><br/>\n",
    "<font color=\"black\" face=\"Times\" size=\"3\"><b>1. Code de la fonction </b><font color=\"black\" face=\"Courier\" size=\"3\">MatriceParticuliere()</font></font>\n",
    "</div>\n"
   ]
  },
  {
   "cell_type": "code",
   "execution_count": 48,
   "metadata": {},
   "outputs": [],
   "source": [
    "\n",
    "def MatriceParticuliere(n):\n",
    "    ''' Renvoie une matrice particulière d'ordre n dont tous les éléments valent 1 sauf ceux de la diagonale principale.\n",
    "    '''      \n",
    "    return np.ones((n,n)) - np.diag(np.ones(n))\n",
    "\n"
   ]
  },
  {
   "cell_type": "markdown",
   "metadata": {},
   "source": [
    "\n",
    "<div class=\"alert alert-success\"><font color=\"black\" face=\"Times\" size=\"3\"><b>2. Vérifications : </b></font></div>\n"
   ]
  },
  {
   "cell_type": "code",
   "execution_count": 49,
   "metadata": {},
   "outputs": [
    {
     "data": {
      "text/plain": [
       "array([[0., 1., 1., 1.],\n",
       "       [1., 0., 1., 1.],\n",
       "       [1., 1., 0., 1.],\n",
       "       [1., 1., 1., 0.]])"
      ]
     },
     "execution_count": 49,
     "metadata": {},
     "output_type": "execute_result"
    }
   ],
   "source": [
    "\n",
    "MatriceParticuliere(4)\n",
    "\n"
   ]
  },
  {
   "cell_type": "markdown",
   "metadata": {},
   "source": [
    "\n",
    "<p><a id=\"Exo2_3\"></a></p><div align=\"right\"><a href=\"#top\">Haut du document</a></div>\n"
   ]
  },
  {
   "cell_type": "markdown",
   "metadata": {},
   "source": [
    "\n",
    "<div class=\"alert alert-info\"><font color=\"black\" size=\"4\"><b>2.3 Produit matriciel</b></font></div>\n"
   ]
  },
  {
   "cell_type": "markdown",
   "metadata": {},
   "source": [
    "\n",
    "<h3 id=\"Exercice-13.-Produit-matrice-par-colonne\">Exercice 13. Produit matrice par colonne<a class=\"anchor-link\" href=\"#Exercice-13.-Produit-matrice-par-colonne\">¶</a></h3><ol>\n",
    "<li><p>On cherche ici à construire une fonction <code>ProduitMatriceParColonne()</code> qui prend en entrée une matrice carrée et une colonne de dimension compatible et qui renvoie la colonne obtenue par produit. Bien sûr il existe une fonction native qui réalise cette opération.<br/> On pourra utiliser la trame suivante si nécessaire :<br/>\n",
    "<code>def ProduitMatriceParColonne(M,X):</code><br/>\n",
    "  <code>[n,p] = np.shape(M) # Pour avoir les dimensions de la matrice M</code><br/>\n",
    "  <code>[m,q] = np.shape(X) # Pour avoir les dimensions du vecteur colonne X</code><br/>\n",
    "  <code>if ............ :</code><br/>\n",
    "    <code>print('Produit impossible')</code><br/>\n",
    "  <code>else:</code><br/>\n",
    "    <code>Y = np.zeros( (......,......) ) # Matrice nulle</code><br/>\n",
    "    <code>for i in range(....... ):</code><br/>\n",
    "    <code># Utilisation de la fonction native sum() pour faire une somme</code><br/>\n",
    "    <code>Y[i] = sum( ............. for k in range(......))</code><br/>\n",
    "  <code>return Y</code><br/><br/></p>\n",
    "</li>\n",
    "<li><p>Vérifier que pour <code>M = MatriceParticuliere(4)</code> et <code>X = np.ones((4,1))</code>, on obtient :<br/>\n",
    "<font face=\"Courier New\">array([[3.],<br/>\n",
    "       [3.],<br/>\n",
    "       [3.],<br/>\n",
    "       [3.]])</font><br/></p>\n",
    "</li>\n",
    "<li><p>Vérifier que pour <code>M = MatriceParticuliere(4)</code> et <code>X = np.ones((3,1))</code>, on obtient : <br/>\n",
    "<font face=\"Courier New\">Produit impossible</font></p>\n",
    "</li>\n",
    "</ol>\n"
   ]
  },
  {
   "cell_type": "markdown",
   "metadata": {},
   "source": [
    "\n",
    "<div class=\"alert alert-success\"><b><font color=\"black\" face=\"Times\" size=\"3\">Réponses</font></b> :<br/><br/>\n",
    "<font color=\"black\" face=\"Times\" size=\"3\"><b>1. Code de la fonction </b><font color=\"black\" face=\"Courier\" size=\"3\">ProduitMatriceParColonne()</font></font>\n",
    "</div>\n"
   ]
  },
  {
   "cell_type": "code",
   "execution_count": 50,
   "metadata": {},
   "outputs": [],
   "source": [
    "\n",
    "def ProduitMatriceParColonne(M, X):\n",
    "    ''' Renvoie le résultat du produit de la matrice M par le vecteur colonne X.\n",
    "    '''\n",
    "    # Initialisation\n",
    "    [n,p] = np.shape(M) # Pour avoir les dimensions\n",
    "    [m,q] = np.shape(X) # Pour avoir les dimensions\n",
    "    # Calcul\n",
    "    if p != m :\n",
    "        print('Produit impossible')\n",
    "    else:\n",
    "        Y = np.zeros((n, q))  # Matrice nulle\n",
    "        for i in range(n):\n",
    "            # Utilisation de la fonction native sum pour faire une somme\n",
    "            Y[i] = sum(M[i,k]*X[k] for k in range(m))\n",
    "        return Y\n",
    "\n"
   ]
  },
  {
   "cell_type": "markdown",
   "metadata": {},
   "source": [
    "\n",
    "<div class=\"alert alert-success\"><font color=\"black\" face=\"Times\" size=\"3\"><b>2. Vérifications : </b></font></div>\n"
   ]
  },
  {
   "cell_type": "code",
   "execution_count": 51,
   "metadata": {},
   "outputs": [
    {
     "data": {
      "text/plain": [
       "array([[3.],\n",
       "       [3.],\n",
       "       [3.],\n",
       "       [3.]])"
      ]
     },
     "execution_count": 51,
     "metadata": {},
     "output_type": "execute_result"
    }
   ],
   "source": [
    "\n",
    "M = MatriceParticuliere(4)\n",
    "X = np.ones((4,1))\n",
    "ProduitMatriceParColonne(M, X)\n",
    "\n"
   ]
  },
  {
   "cell_type": "code",
   "execution_count": 52,
   "metadata": {},
   "outputs": [
    {
     "name": "stdout",
     "output_type": "stream",
     "text": [
      "M = \n",
      " [[0. 1. 1. 1.]\n",
      " [1. 0. 1. 1.]\n",
      " [1. 1. 0. 1.]\n",
      " [1. 1. 1. 0.]]\n",
      "X = \n",
      " [[1.]\n",
      " [1.]\n",
      " [1.]\n",
      " [1.]]\n"
     ]
    }
   ],
   "source": [
    "\n",
    "print('M = \\n', M)\n",
    "print('X = \\n', X)\n",
    "\n"
   ]
  },
  {
   "cell_type": "code",
   "execution_count": 53,
   "metadata": {},
   "outputs": [
    {
     "name": "stdout",
     "output_type": "stream",
     "text": [
      "Produit impossible\n"
     ]
    }
   ],
   "source": [
    "\n",
    "M = MatriceParticuliere(4)\n",
    "X = np.ones((3,1))\n",
    "ProduitMatriceParColonne(M, X)\n",
    "\n"
   ]
  },
  {
   "cell_type": "code",
   "execution_count": 54,
   "metadata": {},
   "outputs": [
    {
     "name": "stdout",
     "output_type": "stream",
     "text": [
      "M = \n",
      " [[1 2 3]\n",
      " [4 5 6]\n",
      " [7 8 9]]\n",
      "X = \n",
      " [[2]\n",
      " [1]\n",
      " [2]]\n"
     ]
    }
   ],
   "source": [
    "\n",
    "M = np.reshape(np.arange(1, 10), (3, 3))\n",
    "X = np.reshape([2,1,2], (3, 1))  #X = np.array([[2],[1],[2]])\n",
    "print('M = \\n', M)\n",
    "print('X = \\n', X)\n",
    "\n"
   ]
  },
  {
   "cell_type": "code",
   "execution_count": 55,
   "metadata": {},
   "outputs": [
    {
     "data": {
      "text/plain": [
       "array([[10.],\n",
       "       [25.],\n",
       "       [40.]])"
      ]
     },
     "execution_count": 55,
     "metadata": {},
     "output_type": "execute_result"
    }
   ],
   "source": [
    "\n",
    "ProduitMatriceParColonne(M, X)\n",
    "\n"
   ]
  },
  {
   "cell_type": "markdown",
   "metadata": {},
   "source": [
    "\n",
    "<p><a id=\"Exo2_4\"></a></p><div align=\"right\"><a href=\"#top\">Haut du document</a></div>\n"
   ]
  },
  {
   "cell_type": "markdown",
   "metadata": {},
   "source": [
    "\n",
    "<div class=\"alert alert-info\"><font color=\"black\" size=\"4\"><b>2.4 Manipulation de polynômes</b></font></div>\n"
   ]
  },
  {
   "cell_type": "markdown",
   "metadata": {},
   "source": [
    "\n",
    "<p>En Python, un polynôme $P$, défini par l’expression <br/><br/></p><div align=\"center\">  $P(x) = a_0 + a_1x + .. + a_{n-1}x^{n-1} + a_nx^n$</div><br/>est représenté par la matrice ligne de ses coefficients rangés dans l’ordre des degrés croissants, autrement dit $P$ est déclaré par la commande <br/><div align=\"center\">  `P = np.array([a0, a1, ....., an])`</div>\n"
   ]
  },
  {
   "cell_type": "markdown",
   "metadata": {},
   "source": [
    "\n",
    "<h3 id=\"Somme-de-deux-polynômes\">Somme de deux polynômes<a class=\"anchor-link\" href=\"#Somme-de-deux-polynômes\">¶</a></h3><p>Pour la somme de deux polynômes, le problème est d’arriver à gérer la situation où ils n’ont pas le même degré et donc où les matrices lignes n’ont pas le même nombre d’éléments. <br/>\n",
    "Par exemple, on dispose de la matrice <code>array([1,2,3])</code> qui représente le polynôme $P(x) = 1 + 2x + 3x^2$ que l’on souhaite ajouter à <code>array([0,1])</code> qui représente le polynôme <code>Q(x) = x</code>. <br/>\n",
    "Dans ce cas, on écrit <br/></p>\n",
    "<div align=\"center\">  $P(x) + Q(x) = [(1+2x)+(x)]+(3x^2)$</div>\n"
   ]
  },
  {
   "cell_type": "markdown",
   "metadata": {},
   "source": [
    "\n",
    "<p>ce qui se traduit par :</p>\n",
    "<ul>\n",
    "<li>La somme des deux matrices de même taille <code>array([1,2])</code> et <code>array([0,1])</code>.<br/></li>\n",
    "<li>La concaténation du résultat avec <code>array([3])</code> en utilisant la fonction <code>np.concatenate()</code> qui s’utilise en écrivant <code>np.concatenate((MatriceLigne1,MatriceLigne2))</code>.</li>\n",
    "</ul>\n"
   ]
  },
  {
   "cell_type": "markdown",
   "metadata": {},
   "source": [
    "\n",
    "<h3 id=\"Exercice-14.\">Exercice 14.<a class=\"anchor-link\" href=\"#Exercice-14.\">¶</a></h3><ol>\n",
    "<li>Soient $P = 2 + X$ et $Q = 1 + X^2$. Donner les matrices qui définissent ces deux polynômes et donner leur somme en Python.</li>\n",
    "<li>Construire une fonction <code>SommePoly()</code> qui prend en entrée deux polynômes et qui renvoie le polynôme somme (selon Python).<br/> On pourra utiliser la trame suivante si nécessaire :<br/>\n",
    "<code>import numpy as np</code><br/>\n",
    "<code>def SommePoly(P, Q):</code><br/>\n",
    "  <code>n = len(P)</code><br/>\n",
    "  <code>m = len(Q)</code><br/>\n",
    "  <code>if n == m:</code><br/>\n",
    "    <code>return ..........</code><br/>\n",
    "  <code>if n &lt; m:</code><br/>\n",
    "    <code>return np.concatenate( (...................,........................) )</code><br/>\n",
    "  <code>if n &gt; m:</code><br/>\n",
    "    <code>return np.concatenate( (...................,........................) )</code><br/></li>\n",
    "</ol>\n"
   ]
  },
  {
   "cell_type": "markdown",
   "metadata": {},
   "source": [
    "\n",
    "<div class=\"alert alert-success\"><b><font color=\"black\" face=\"Times\" size=\"3\">Réponses</font></b> :\n",
    "</div>\n"
   ]
  },
  {
   "cell_type": "markdown",
   "metadata": {},
   "source": [
    "\n",
    "<ol>\n",
    "<li>Matrices lignes : <code>P = np.array([2, 1])</code>, <code>Q = np.array([1, 0, 1])</code>  donne P+Q = R avec <code>R = np.array([3, 1, 1])</code></li>\n",
    "<li>Code de la fonction <code>SommePoly()</code></li>\n",
    "</ol>\n"
   ]
  },
  {
   "cell_type": "code",
   "execution_count": 56,
   "metadata": {},
   "outputs": [],
   "source": [
    "\n",
    "def SommePoly(P, Q):\n",
    "    ''' Renvoie le résultat de la somme des 2 polynomes P et Q.\n",
    "    '''\n",
    "    # Initialisation\n",
    "    n = len(P)\n",
    "    m = len(Q)\n",
    "    # Calcul\n",
    "    if n == m:\n",
    "        return P + Q\n",
    "    if n < m:\n",
    "        return np.concatenate((P + Q[:n], Q[n:]))\n",
    "    if n > m:\n",
    "        return np.concatenate((Q + P[:m], P[m:]))\n",
    "\n"
   ]
  },
  {
   "cell_type": "markdown",
   "metadata": {},
   "source": [
    "\n",
    "<ol>\n",
    "<li>Vérifier que la somme de <code>P = np.array([1, 2, 3])</code>, <code>Q = np.array([1, 2])</code> donne <code>np.array([2, 4, 3])</code></li>\n",
    "</ol>\n"
   ]
  },
  {
   "cell_type": "code",
   "execution_count": 57,
   "metadata": {},
   "outputs": [
    {
     "data": {
      "text/plain": [
       "array([2, 4, 3])"
      ]
     },
     "execution_count": 57,
     "metadata": {},
     "output_type": "execute_result"
    }
   ],
   "source": [
    "\n",
    "P = np.array([1, 2, 3]); Q = np.array([1, 2])\n",
    "SommePoly(P, Q)\n",
    "\n"
   ]
  },
  {
   "cell_type": "markdown",
   "metadata": {},
   "source": [
    "\n",
    "<p><a id=\"Exo3\"></a></p><div align=\"right\"><a href=\"#top\">Haut du document</a></div>\n"
   ]
  },
  {
   "cell_type": "markdown",
   "metadata": {},
   "source": [
    "\n",
    "<div class=\"alert alert-info\">\n",
    "<font color=\"black\" size=\"5\"><b>3. Exercices complémentaires (étudiants avancés en Python)</b></font>\n",
    "</div>\n"
   ]
  },
  {
   "cell_type": "markdown",
   "metadata": {},
   "source": [
    "\n",
    "<div class=\"alert alert-info\"><font color=\"black\" size=\"4\"><b>3.1 Produit de deux polynômes</b></font></div>\n"
   ]
  },
  {
   "cell_type": "markdown",
   "metadata": {},
   "source": [
    "\n",
    "<p><a id=\"Exo3_1\"></a></p>\n"
   ]
  },
  {
   "cell_type": "markdown",
   "metadata": {},
   "source": [
    "\n",
    "<h3 id=\"Exercice-15.\">Exercice 15.<a class=\"anchor-link\" href=\"#Exercice-15.\">¶</a></h3><ol>\n",
    "<li><p>Pour deux polynômes $P = a + bX$ et $Q = c + dX$ représentés respectivement par les deux matrices lignes $[a,b]$ et $[c,d]$, expliquez pourquoi le produit $PQ$ peut se calculer en écrivant $a \\times [c,d,0] + b \\times [0,c,d]$.<br/></p>\n",
    "</li>\n",
    "<li><p>Construire une fonction <code>ProduitPoly()</code> qui prend en entrée deux polynômes et qui renvoie leur produit.<br/></p>\n",
    "</li>\n",
    "</ol>\n",
    "<p><i>Indications</i>. On pourra utiliser<br/>\n",
    "— La fonction native <code>zeros()</code> de <code>numpy</code> qui permet de construire une matrice nulle. Par exemple, pour une matrice ligne nulle de $n$ composantes on écrira <code>np.zeros(n)</code>.<br/>\n",
    "— La fonction native <code>concatenate()</code> de numpy qui s’utilise, par exemple pour concaténer les troismatrices\n",
    "lignes $A$, $B$ et $C$, en écrivant <code>np.concatenate( (A,B,C) )</code>.<br/></p>\n",
    "<ol>\n",
    "<li>Vérifier que le produit de <code>P=array([1, 2, 3])</code>, <code>Q=array([1, 2])</code> donne <code>array([1., 4., 7., 6.])</code>.</li>\n",
    "</ol>\n"
   ]
  },
  {
   "cell_type": "markdown",
   "metadata": {},
   "source": [
    "\n",
    "<div class=\"alert alert-success\"><b><font color=\"black\" face=\"Times\" size=\"3\">Réponses</font></b> :</div><div class=\"alert alert-success\"><font color=\"black\" face=\"Times\" size=\"3\"><b>1. Ecriture </b></font></div>\n"
   ]
  },
  {
   "cell_type": "markdown",
   "metadata": {},
   "source": [
    "\n",
    "<ol>\n",
    "<li>On décompose le calcul $PQ$ en utilisant la propriété de distributivité de la multiplication sur l'addition en développant le calcul par rapport aux coefficients de $P$ dans l'ordre des degrés croissants et en organisant la matrice ligne relative aux coefficients de $Q$ également dans l'ordre des degrés croissants.<br/><br/>\n",
    "$P = a + bX$ s'écrit $a \\times [1,0] + b \\times [0,1]$<br/>\n",
    "$PQ = (a + bX) \\times (c + dX) = a \\times c + a \\times dX + c \\times bX +  b \\times dX^2 = a \\times [c,d,0] + b \\times [0,c,d]$<br/></li>\n",
    "</ol>\n"
   ]
  },
  {
   "cell_type": "markdown",
   "metadata": {},
   "source": [
    "\n",
    "<div class=\"alert alert-success\"><font color=\"black\" face=\"Times\" size=\"3\"><b>2. Code de la fonction </b><font color=\"black\" face=\"Courier\" size=\"3\">ProduitPoly()</font></font>\n",
    "</div>\n"
   ]
  },
  {
   "cell_type": "code",
   "execution_count": 58,
   "metadata": {},
   "outputs": [],
   "source": [
    "\n",
    "def ProduitPoly(P, Q):\n",
    "    ''' Renvoie le produit de la matrice P par la matrice Q.\n",
    "    '''\n",
    "    # Initialisation\n",
    "    degp = len(P)-1\n",
    "    degq = len(Q)-1\n",
    "    degr = degp + degq\n",
    "    R = np.zeros(degr + 1)\n",
    "    # Calcul\n",
    "    for i in range(len(P)):\n",
    "        R += P[i]*np.concatenate((np.zeros(i), Q, np.zeros(len(R)-len(Q)-i)))\n",
    "    # Sortie\n",
    "    return R\n",
    "\n"
   ]
  },
  {
   "cell_type": "markdown",
   "metadata": {},
   "source": [
    "\n",
    "<div class=\"alert alert-success\"><font color=\"black\" face=\"Times\" size=\"3\"><b>3. Vérifications : </b></font></div>\n"
   ]
  },
  {
   "cell_type": "code",
   "execution_count": 59,
   "metadata": {},
   "outputs": [
    {
     "data": {
      "text/plain": [
       "array([1., 4., 7., 6.])"
      ]
     },
     "execution_count": 59,
     "metadata": {},
     "output_type": "execute_result"
    }
   ],
   "source": [
    "\n",
    "P = np.array([1, 2, 3]); Q = np.array([1, 2])\n",
    "ProduitPoly(P, Q)\n",
    "\n"
   ]
  },
  {
   "cell_type": "markdown",
   "metadata": {},
   "source": [
    "\n",
    "<p><a id=\"Exo3_2\"></a></p><div align=\"right\"><a href=\"#top\">Haut du document</a></div>\n"
   ]
  },
  {
   "cell_type": "markdown",
   "metadata": {},
   "source": [
    "\n",
    "<div class=\"alert alert-info\"><font color=\"black\" size=\"4\"><b>3.2 Recherche d’un élément par dichotomie</b></font></div>\n"
   ]
  },
  {
   "cell_type": "markdown",
   "metadata": {},
   "source": [
    "\n",
    "<p>Le principe de recherche d’un élément dans une liste d’éléments distincts triée par dichotomie consiste à « couper » la liste en son « milieu » puis à faire les vérifications suivantes :<br/></p>\n",
    "<ol>\n",
    "<li>Si l’élément « milieu » est celui qu’on cherche, dans ce cas on renvoie son index.</li>\n",
    "<li>Sinon, si l’élément « milieu » est plus petit (resp. plus grand) que celui qu’on cherche, alors on reprend la recherche dans la seconde moitié (resp. première moitié) de la liste.</li>\n",
    "</ol>\n"
   ]
  },
  {
   "cell_type": "markdown",
   "metadata": {},
   "source": [
    "\n",
    "<h3 id=\"Exercice-16.\">Exercice 16.<a class=\"anchor-link\" href=\"#Exercice-16.\">¶</a></h3><ol>\n",
    "<li>Construire une fonction <code>ChercheDichotomie()</code> qui prend en entrée une liste <b>complète</b> d’entiers <b>triée</b> et un élément <code>e</code> de cette liste et qui renvoie, par le principe de la dichotomie, l’index de cet élément dans la liste.<br/></li>\n",
    "<li>Vérifier que l’appel <code>ChercheDichotomie([2,3,4,5],3)</code> renvoie 1.</li>\n",
    "<li>Vérifier que l’appel <code>ChercheDichotomie([2,3,4,5],2)</code> renvoie 0.</li>\n",
    "<li>Vérifier que l’appel <code>ChercheDichotomie([2,3,4,5],5)</code> renvoie 3.</li>\n",
    "<li>Mettre en oeuvre la variante récursive du programme.</li>\n",
    "</ol>\n"
   ]
  },
  {
   "cell_type": "markdown",
   "metadata": {},
   "source": [
    "\n",
    "<div class=\"alert alert-success\"><b><font color=\"black\" face=\"Times\" size=\"3\">Réponses</font></b> :<br/><br/>\n",
    "<font color=\"black\" face=\"Times\" size=\"3\"><b>1. Code de la fonction </b><font color=\"black\" face=\"Courier\" size=\"3\">ChercheDichotomie()</font></font>\n",
    "</div>\n"
   ]
  },
  {
   "cell_type": "code",
   "execution_count": 60,
   "metadata": {},
   "outputs": [],
   "source": [
    "\n",
    "def ChercheDichotomie(L, e):\n",
    "    ''' Renvoie le résultat de la recherche par dichotomie de la position (index) de l'élément e dans la liste L.\n",
    "    '''\n",
    "    # Initialisation et calcul\n",
    "    if L[0] == e:\n",
    "        return 0\n",
    "    else:\n",
    "        a, b = 0, len(L)\n",
    "        while a < b:\n",
    "            m = (a+b)//2\n",
    "            if L[m] == e:\n",
    "                return m\n",
    "            elif L[m] < e:\n",
    "                a = m\n",
    "            else:\n",
    "                b = m+1\n",
    "        return m\n",
    "\n"
   ]
  },
  {
   "cell_type": "markdown",
   "metadata": {},
   "source": [
    "\n",
    "<div class=\"alert alert-success\"><font color=\"black\" face=\"Times\" size=\"3\"><b>2. Vérification : </b></font><font color=\"black\" face=\"Courier\" size=\"3\">ChercheDichotomie([2,3,4,5],3)</font></div>\n"
   ]
  },
  {
   "cell_type": "code",
   "execution_count": 61,
   "metadata": {},
   "outputs": [
    {
     "data": {
      "text/plain": [
       "1"
      ]
     },
     "execution_count": 61,
     "metadata": {},
     "output_type": "execute_result"
    }
   ],
   "source": [
    "\n",
    "ChercheDichotomie([2,3,4,5],3)\n",
    "\n"
   ]
  },
  {
   "cell_type": "markdown",
   "metadata": {},
   "source": [
    "\n",
    "<div class=\"alert alert-success\"><font color=\"black\" face=\"Times\" size=\"3\"><b>3. Vérification : </b></font><font color=\"black\" face=\"Courier\" size=\"3\">ChercheDichotomie([2,3,4,5],2)</font></div>\n"
   ]
  },
  {
   "cell_type": "code",
   "execution_count": 62,
   "metadata": {},
   "outputs": [
    {
     "data": {
      "text/plain": [
       "0"
      ]
     },
     "execution_count": 62,
     "metadata": {},
     "output_type": "execute_result"
    }
   ],
   "source": [
    "\n",
    "ChercheDichotomie([2,3,4,5],2)\n",
    "\n"
   ]
  },
  {
   "cell_type": "markdown",
   "metadata": {},
   "source": [
    "\n",
    "<div class=\"alert alert-success\"><font color=\"black\" face=\"Times\" size=\"3\"><b>4. Vérification : </b></font><font color=\"black\" face=\"Courier\" size=\"3\">ChercheDichotomie([2,3,4,5],5)</font></div>\n"
   ]
  },
  {
   "cell_type": "code",
   "execution_count": 63,
   "metadata": {},
   "outputs": [
    {
     "data": {
      "text/plain": [
       "3"
      ]
     },
     "execution_count": 63,
     "metadata": {},
     "output_type": "execute_result"
    }
   ],
   "source": [
    "\n",
    "ChercheDichotomie([2,3,4,5],5)\n",
    "\n"
   ]
  },
  {
   "cell_type": "markdown",
   "metadata": {},
   "source": [
    "\n",
    "<div class=\"alert alert-success\"><font color=\"black\" face=\"Times\" size=\"3\"><b>5. Version récursive et résultats de la validation : </b></font></div>\n"
   ]
  },
  {
   "cell_type": "code",
   "execution_count": 64,
   "metadata": {},
   "outputs": [],
   "source": [
    "\n",
    "def ChercheDichotomieR(L, e):\n",
    "    ''' Renvoie le résultat de la recherche par dichotomie de la position (index) de l'élément e dans la liste L.\n",
    "        Version récursive.\n",
    "    '''    \n",
    "    n = len(L)\n",
    "    if L[0] == e:\n",
    "        return 0\n",
    "    else:\n",
    "        m = n//2\n",
    "        if L[m] == e:\n",
    "            return m\n",
    "        elif L[m] < e:\n",
    "            return ChercheDichotomieR(L[m:], e) + m\n",
    "        else:\n",
    "            return ChercheDichotomieR(L[:m+1], e)\n",
    "\n"
   ]
  },
  {
   "cell_type": "code",
   "execution_count": 65,
   "metadata": {},
   "outputs": [
    {
     "data": {
      "text/plain": [
       "0"
      ]
     },
     "execution_count": 65,
     "metadata": {},
     "output_type": "execute_result"
    }
   ],
   "source": [
    "\n",
    "ChercheDichotomieR([2,3,4,5],2)\n",
    "\n"
   ]
  },
  {
   "cell_type": "code",
   "execution_count": 66,
   "metadata": {},
   "outputs": [
    {
     "data": {
      "text/plain": [
       "1"
      ]
     },
     "execution_count": 66,
     "metadata": {},
     "output_type": "execute_result"
    }
   ],
   "source": [
    "\n",
    "ChercheDichotomieR([2,3,4,5],3)\n",
    "\n"
   ]
  },
  {
   "cell_type": "code",
   "execution_count": 67,
   "metadata": {},
   "outputs": [
    {
     "data": {
      "text/plain": [
       "3"
      ]
     },
     "execution_count": 67,
     "metadata": {},
     "output_type": "execute_result"
    }
   ],
   "source": [
    "\n",
    "ChercheDichotomieR([2,3,4,5],5)\n",
    "\n"
   ]
  },
  {
   "cell_type": "markdown",
   "metadata": {},
   "source": [
    "\n",
    "<p><a id=\"Exo3_3\"></a></p><div align=\"right\"><a href=\"#top\">Haut du document</a></div>\n"
   ]
  },
  {
   "cell_type": "markdown",
   "metadata": {},
   "source": [
    "\n",
    "<div class=\"alert alert-info\"><font color=\"black\" size=\"4\"><b>3.3 Calcul des valeurs de sorties connaissant la fonction de transfert</b></font></div>\n"
   ]
  },
  {
   "cell_type": "markdown",
   "metadata": {},
   "source": [
    "\n",
    "<p>Connaissant la fonction de transfert d’un filtre, il est facile de retrouver la relation entre les valeurs du signal d’entrée, noté <code>e</code>, et les valeurs du signal de sortie, noté <code>s</code>. <br/>\n",
    "La règle est la suivante :<br/>\n",
    "Sachant que </p><center><font size=\"5\"> $H(z)=\\frac{S(z)}{E(z)}$ = $\\frac{\\sum_{k=0}^n a_kz^{-k}} {\\sum_{j=0}^p b_jz^{-j}}$</font></center><br/>\n",
    "On écrit que <br/>\n",
    "<font size=\"4\"></font><center>$S(z)=H(z)E(z) \\iff (\\sum_{j=0}^p b_jz^{-j})S(z) = (\\sum_{k=0}^n a_kz^{-k})E(z) $</center><br/>\n",
    "<p>et on utilise la règle de transformation suivante : </p><center><font size=\"4\">$S(z) \\to s(n)$ et $z^k S(z) \\to s(n-k)$ </font></center><br/>\n",
    "<p>et de même avec $E(z)$. Ce qui permet d’obtenir la relation entre l’entrée et la sortie : <br/></p>\n",
    "<center><font size=\"4\">$\\sum_{j=0}^p b_j s(n-j) = \\sum_{k=0}^n a_k e(n-k) \\iff s(n) = \\frac{1}{b_0} (-\\sum_{j=1}^p b_j s(n-j) + \\sum_{k=0}^n a_k e(n-k))$</font></center>\n"
   ]
  },
  {
   "cell_type": "markdown",
   "metadata": {},
   "source": [
    "\n",
    "<h3 id=\"Exercice-17.\">Exercice 17.<a class=\"anchor-link\" href=\"#Exercice-17.\">¶</a></h3><ol>\n",
    "<li><p>Construire une fonction <code>ValeursFiltre()</code> qui prend en entrée la fonction de transfert <code>H</code> d’un filtre, c’est-à-dire une liste contenant son numérateur et son dénominateur, et les valeurs du signal d’entrée <code>e</code> et qui renvoie la liste des valeurs <code>s</code> fournies par le filtre.<br/>\n",
    "Par simplicité, on considérera que les valeurs de <code>e</code> et <code>s</code> sont nulles pour $n \\leq 0$.<br/>\n",
    "<i>Indications.</i><br/>\n",
    "— On pourra utiliser la fonction <code>sum</code> qui s’utilise en écrivant <code>sum( ... for k in range(.....))</code>.<br/>\n",
    "— Pour simplifier l’écriture on notera $N = H[0]$ et $D = H[1]$ le numérateur et le dénominateur de $H$.<br/></p>\n",
    "</li>\n",
    "<li><p>Vérifier que pour <br/>\n",
    "— <code>H = [np.array([1,2]), np.array([1,1])]</code><br/>\n",
    "— <code>e = np.sin(np.linspace(0, 1, 5))</code><br/>\n",
    "on obtient  <code>array([0. , 0.24740396, 0.7268295 , 0.91366034, 1.29108817])</code>.<br/></p>\n",
    "</li>\n",
    "<li><p>Construire une fonction <code>GraphFiltre()</code> qui prend en entrée la fonction de transfert <code>H</code> d’un filtre et les valeurs du signal d’entrée <code>e</code> et qui renvoie les représentations graphiques du signal d’entrée et de sortie.</p>\n",
    "</li>\n",
    "<li><p>Vérifier que pour <code>H=[np.array( [1, 0.5]), np.array( [1, 0.2])], t = np.linspace(0, 2*np.pi, 100)</code>  et <code>e = np.sin(t)</code> on obtient la figure ci-dessous <br/></p>\n",
    "</li>\n",
    "</ol>\n"
   ]
  },
  {
   "cell_type": "code",
   "execution_count": 68,
   "metadata": {},
   "outputs": [
    {
     "data": {
      "image/jpeg": "[encoded data removed]",
      "text/plain": [
       "<IPython.core.display.Image object>"
      ]
     },
     "execution_count": 68,
     "metadata": {
      "image/jpeg": {
       "height": 500,
       "width": 500
      }
     },
     "output_type": "execute_result"
    }
   ],
   "source": [
    "\n",
    "from IPython.display import Image\n",
    "Image(filename=\"exercice17.jpg\", embed=True, width=500, height=500)\n",
    "\n"
   ]
  },
  {
   "cell_type": "markdown",
   "metadata": {},
   "source": [
    "\n",
    "<div class=\"alert alert-success\"><b><font color=\"black\" face=\"Times\" size=\"3\">Réponses</font></b> :<br/><br/>\n",
    "<font color=\"black\" face=\"Times\" size=\"3\"><b>1. Code de la fonction </b><font color=\"black\" face=\"Courier\" size=\"3\">ValeursFiltre()</font></font>\n",
    "</div>\n"
   ]
  },
  {
   "cell_type": "code",
   "execution_count": 69,
   "metadata": {},
   "outputs": [],
   "source": [
    "\n",
    "def ValeursFiltre(H, e):\n",
    "    \"\"\"\n",
    "    Renvoie le résultat de l'application d'une fonction de transfert H d’un filtre sur les valeurs d'un signal e\n",
    "    H est définie par N/D\n",
    "    \"\"\"     \n",
    "    N = H[0]\n",
    "    D = H[1]\n",
    "    n = len(e)\n",
    "    s = np.zeros(n)\n",
    "    for i in range(n):\n",
    "        s[i] = (1/D[0])*( sum( N[k]*e[i-k] for k in range(len(N)) if i-k >= 0 )\n",
    "              - sum( D[k]*s[i-k] for k in range(1,len(D)) if i-k>=0 ))\n",
    "    return s\n",
    "\n"
   ]
  },
  {
   "cell_type": "markdown",
   "metadata": {},
   "source": [
    "\n",
    "<div class=\"alert alert-success\"><font color=\"black\" face=\"Times\" size=\"3\"><b>2. Vérifications : </b></font></div>\n"
   ]
  },
  {
   "cell_type": "code",
   "execution_count": 70,
   "metadata": {},
   "outputs": [
    {
     "data": {
      "text/plain": [
       "array([0.        , 0.24740396, 0.7268295 , 0.91366034, 1.29108817])"
      ]
     },
     "execution_count": 70,
     "metadata": {},
     "output_type": "execute_result"
    }
   ],
   "source": [
    "\n",
    "H = [np.array([1,2]), np.array([1,1])]; e = np.sin(np.linspace(0, 1, 5))\n",
    "ValeursFiltre(H, e)\n",
    "\n"
   ]
  },
  {
   "cell_type": "markdown",
   "metadata": {},
   "source": [
    "\n",
    "<div class=\"alert alert-success\"><font color=\"black\" face=\"Times\" size=\"3\"><b>3. Code de la fonction </b><font color=\"black\" face=\"Courier\" size=\"3\">GraphFiltre()</font></font></div>\n"
   ]
  },
  {
   "cell_type": "code",
   "execution_count": 71,
   "metadata": {},
   "outputs": [],
   "source": [
    "\n",
    "def GraphFiltre(H, e, t):\n",
    "    \"\"\"\n",
    "    Renvoie les représentations graphiques du signal d’entrée et de sortie (affecté par un filtre H).\n",
    "    \"\"\"     \n",
    "    # Calcul\n",
    "    s = ValeursFiltre(H, e)\n",
    "    \n",
    "    # Affichage graphique\n",
    "    plt.figure(figsize=(10,6))\n",
    "    plt.plot(t, e, label='Entrée')\n",
    "    plt.plot(t, s, label='Sortie')\n",
    "    plt.legend(loc='best')\n",
    "    plt.title('Entrée et sortie')\n",
    "    plt.show();\n",
    "    \n",
    "    return\n",
    "\n"
   ]
  },
  {
   "cell_type": "markdown",
   "metadata": {},
   "source": [
    "\n",
    "<div class=\"alert alert-success\"><font color=\"black\" face=\"Times\" size=\"3\"><b>4. Vérifications : </b></font></div>\n"
   ]
  },
  {
   "cell_type": "code",
   "execution_count": 72,
   "metadata": {},
   "outputs": [],
   "source": [
    "\n",
    "H = [np.array([1, 0.5]), np.array( [1, 0.2])]; t = np.linspace(0, 2*np.pi, 100); e = np.sin(t)\n",
    "\n"
   ]
  },
  {
   "cell_type": "code",
   "execution_count": 73,
   "metadata": {},
   "outputs": [
    {
     "data": {
      "image/png": "[encoded data removed]",
      "text/plain": [
       "<Figure size 720x432 with 1 Axes>"
      ]
     },
     "metadata": {
      "needs_background": "light"
     },
     "output_type": "display_data"
    }
   ],
   "source": [
    "\n",
    "GraphFiltre(H, e, t)\n",
    "\n"
   ]
  },
  {
   "cell_type": "markdown",
   "metadata": {},
   "source": [
    "\n",
    "<p><a id=\"Exo3_4\"></a></p><div align=\"right\"><a href=\"#top\">Haut du document</a></div>\n"
   ]
  },
  {
   "cell_type": "markdown",
   "metadata": {},
   "source": [
    "\n",
    "<div class=\"alert alert-info\"><font color=\"black\" size=\"4\"><b>3.4 Matrice magique d’ordre 3</b></font></div>\n"
   ]
  },
  {
   "cell_type": "markdown",
   "metadata": {},
   "source": [
    "\n",
    "<h3 id=\"Exercice-18.\">Exercice 18.<a class=\"anchor-link\" href=\"#Exercice-18.\">¶</a></h3><p>On considère une matrice $A \\in $<font face=\"Kunstler Script\" size=\"4\"><b>M</b></font>$_3(\\mathbb{R})$. On appelle $L_i$ ses lignes, $C_j$ ses colonnes, $D_1$ sa diagonale principale et $D_2$ l’autre et on notera $\\sum{L_i}$ la somme des coefficients de la ligne $L_i$ et, de même, $\\sum{C_j}$ la somme des\n",
    "coefficients de la colonne $C_j$ , etc. <br/>\n",
    "Avec ces notations, une matrice $A \\in $<font face=\"Kunstler Script\" size=\"4\"><b>M</b></font>$_3(\\mathbb{R})$ est dite <i>magique</i> lorsque :<br/></p>\n",
    "<p>— $\\sum{L_1} = \\sum{L_2} = \\sum{L_3} = \\sum{C_1} = \\sum{C_2} = \\sum{C_3} = \\sum{D_1} = \\sum{D_2}$\n",
    "<i>On notera S cette somme commune.</i><br/>\n",
    "— Dans ses coefficients, apparaissent une fois et une seule chacun des entiers de 1 à 9.<br/></p>\n",
    "<p>Par exemple, la matrice $A = \\begin{pmatrix} 2 &amp; 7 &amp; 6 \\\\ 9 &amp; 5 &amp; 1 \\\\ 4 &amp; 3 &amp; 8 \\end{pmatrix}$ est magique.</p>\n",
    "<ol>\n",
    "<li>Construire une fonction <code>TestMagique()</code> qui permet de vérifier si une matrice d’ordre 3 donnée est magique où non. Cette fonction renverra <code>True</code> ou <code>False</code>.</li>\n",
    "<li><p>Faire le test avec la matrice $A = \\begin{pmatrix} 2 &amp; 7 &amp; 6 \\\\ 9 &amp; 5 &amp; 1 \\\\ 4 &amp; 3 &amp; 8 \\end{pmatrix}$ qui est magique et avec la matrice $B = \\begin{pmatrix} 1 &amp; 2 &amp; 3 \\\\ 1 &amp; 2 &amp; 3 \\\\ 1 &amp; 2 &amp; 3 \\end{pmatrix}$ qui n'est pas magique.</p>\n",
    "</li>\n",
    "<li><p>Construire une fonction <code>Magique()</code> qui ne prend pas d’arguments en entrée et qui renvoie la liste de toutes les matrices magiques d’ordre 3.</p>\n",
    "</li>\n",
    "<li><p>Vérifier que l’appel <code>Magique()</code> renvoie 24 matrices magiques d’ordre 3.<br/></p>\n",
    "</li>\n",
    "</ol>\n",
    "<p><i>Indication</i>. On pourra utiliser la bibliothèque <code>itertools</code> en faisant l’importation <code>import itertools as it</code> qui\n",
    "permet d’avoir accès à la fonction <code>permutations</code> qui s’utilise  de la manière suivante :\n",
    "<code>list(it.permutations(range(3)))</code> renvoie la liste des permutations de (1,2,3) à savoir <code>[(0, 1, 2), (0, 2, 1), (1, 0, 2), (1, 2, 0), (2, 0, 1), (2, 1, 0)]</code>.</p>\n"
   ]
  },
  {
   "cell_type": "markdown",
   "metadata": {},
   "source": [
    "\n",
    "<div class=\"alert alert-success\"><b><font color=\"black\" face=\"Times\" size=\"3\">Réponses</font></b> :<br/><br/>\n",
    "<font color=\"black\" face=\"Times\" size=\"3\"><b>1. Code de la fonction </b><font color=\"black\" face=\"Courier\" size=\"3\">TestMagique()</font></font>\n",
    "</div>\n"
   ]
  },
  {
   "cell_type": "code",
   "execution_count": 74,
   "metadata": {},
   "outputs": [],
   "source": [
    "\n",
    "import itertools as it\n",
    "\n",
    "def TestMagique(A):\n",
    "    \"\"\"\n",
    "    Vérifie si la matrice A est magique\n",
    "    \"\"\"     \n",
    "    [l, c] = np.shape(A)\n",
    "    if l != c:\n",
    "        return False\n",
    "    i, n = 0, l\n",
    "    while i < n:\n",
    "        if sum(A[i,k] for k in range(n)) != 15 or sum(A[k,i] for k in range(n)) != 15 or sum(A[k,k] for k in range(n)) != 15:\n",
    "            return False\n",
    "        i += 1\n",
    "    return True\n",
    "\n"
   ]
  },
  {
   "cell_type": "code",
   "execution_count": 75,
   "metadata": {},
   "outputs": [],
   "source": [
    "\n",
    "# Matrice de test\n",
    "A_Magique = np.array([[2,7,6],[9,5,1],[4,3,8]])\n",
    "A_Non_Magique = np.array([[3,7,6],[9,5,1],[4,3,8]])\n",
    "\n"
   ]
  },
  {
   "cell_type": "markdown",
   "metadata": {},
   "source": [
    "\n",
    "<div class=\"alert alert-success\"><font color=\"black\" face=\"Times\" size=\"3\"><b>2. Vérifications : </b></font></div>\n"
   ]
  },
  {
   "cell_type": "code",
   "execution_count": 76,
   "metadata": {},
   "outputs": [
    {
     "data": {
      "text/plain": [
       "True"
      ]
     },
     "execution_count": 76,
     "metadata": {},
     "output_type": "execute_result"
    }
   ],
   "source": [
    "\n",
    "TestMagique(A_Magique)\n",
    "\n"
   ]
  },
  {
   "cell_type": "code",
   "execution_count": 77,
   "metadata": {},
   "outputs": [
    {
     "data": {
      "text/plain": [
       "False"
      ]
     },
     "execution_count": 77,
     "metadata": {},
     "output_type": "execute_result"
    }
   ],
   "source": [
    "\n",
    "TestMagique(A_Non_Magique)\n",
    "\n"
   ]
  },
  {
   "cell_type": "markdown",
   "metadata": {},
   "source": [
    "\n",
    "<div class=\"alert alert-success\"><font color=\"black\" face=\"Times\" size=\"3\"><b>3. Code de la fonction </b><font color=\"black\" face=\"Courier\" size=\"3\">Magique()</font></font></div>\n"
   ]
  },
  {
   "cell_type": "code",
   "execution_count": 78,
   "metadata": {},
   "outputs": [],
   "source": [
    "\n",
    "def magique():\n",
    "    \"\"\"\n",
    "    Renvoie la liste des matrices magiques d'ordre 3\n",
    "    \"\"\"      \n",
    "    R = []\n",
    "    L = list(it.permutations(range(1,10)))\n",
    "\n",
    "    for i in range(len(L)):\n",
    "        A = np.reshape(np.array(L[i]), (3,3))\n",
    "        if TestMagique(A) == True:\n",
    "            R = R + [A]\n",
    "\n",
    "    return R\n",
    "\n"
   ]
  },
  {
   "cell_type": "code",
   "execution_count": 79,
   "metadata": {},
   "outputs": [
    {
     "name": "stdout",
     "output_type": "stream",
     "text": [
      "Il y a  24  matrices magiques d ordre 3\n"
     ]
    }
   ],
   "source": [
    "\n",
    "R = magique()\n",
    "print('Il y a ',str(len(R)), ' matrices magiques d ordre 3')\n",
    "\n"
   ]
  },
  {
   "cell_type": "code",
   "execution_count": 80,
   "metadata": {},
   "outputs": [
    {
     "name": "stdout",
     "output_type": "stream",
     "text": [
      "matrice n  1  :\n",
      " [[2 4 9]\n",
      " [6 8 1]\n",
      " [7 3 5]]\n",
      "matrice n  2  :\n",
      " [[2 6 7]\n",
      " [4 8 3]\n",
      " [9 1 5]]\n",
      "matrice n  3  :\n",
      " [[2 7 6]\n",
      " [9 5 1]\n",
      " [4 3 8]]\n",
      "matrice n  4  :\n",
      " [[2 9 4]\n",
      " [7 5 3]\n",
      " [6 1 8]]\n",
      "matrice n  5  :\n",
      " [[4 2 9]\n",
      " [8 6 1]\n",
      " [3 7 5]]\n",
      "matrice n  6  :\n",
      " [[4 3 8]\n",
      " [9 5 1]\n",
      " [2 7 6]]\n",
      "matrice n  7  :\n",
      " [[4 8 3]\n",
      " [2 6 7]\n",
      " [9 1 5]]\n",
      "matrice n  8  :\n",
      " [[4 9 2]\n",
      " [3 5 7]\n",
      " [8 1 6]]\n",
      "matrice n  9  :\n",
      " [[5 1 9]\n",
      " [3 8 4]\n",
      " [7 6 2]]\n",
      "matrice n  10  :\n",
      " [[5 1 9]\n",
      " [7 6 2]\n",
      " [3 8 4]]\n",
      "matrice n  11  :\n",
      " [[5 3 7]\n",
      " [1 8 6]\n",
      " [9 4 2]]\n",
      "matrice n  12  :\n",
      " [[5 3 7]\n",
      " [9 4 2]\n",
      " [1 8 6]]\n",
      "matrice n  13  :\n",
      " [[5 7 3]\n",
      " [1 6 8]\n",
      " [9 2 4]]\n",
      "matrice n  14  :\n",
      " [[5 7 3]\n",
      " [9 2 4]\n",
      " [1 6 8]]\n",
      "matrice n  15  :\n",
      " [[5 9 1]\n",
      " [3 4 8]\n",
      " [7 2 6]]\n",
      "matrice n  16  :\n",
      " [[5 9 1]\n",
      " [7 2 6]\n",
      " [3 4 8]]\n",
      "matrice n  17  :\n",
      " [[6 1 8]\n",
      " [7 5 3]\n",
      " [2 9 4]]\n",
      "matrice n  18  :\n",
      " [[6 2 7]\n",
      " [8 4 3]\n",
      " [1 9 5]]\n",
      "matrice n  19  :\n",
      " [[6 7 2]\n",
      " [1 5 9]\n",
      " [8 3 4]]\n",
      "matrice n  20  :\n",
      " [[6 8 1]\n",
      " [2 4 9]\n",
      " [7 3 5]]\n",
      "matrice n  21  :\n",
      " [[8 1 6]\n",
      " [3 5 7]\n",
      " [4 9 2]]\n",
      "matrice n  22  :\n",
      " [[8 3 4]\n",
      " [1 5 9]\n",
      " [6 7 2]]\n",
      "matrice n  23  :\n",
      " [[8 4 3]\n",
      " [6 2 7]\n",
      " [1 9 5]]\n",
      "matrice n  24  :\n",
      " [[8 6 1]\n",
      " [4 2 9]\n",
      " [3 7 5]]\n"
     ]
    }
   ],
   "source": [
    "\n",
    "for i in range(len(R)):\n",
    "    print('matrice n ',str(i+1), ' :\\n',R[i])\n",
    "\n"
   ]
  },
  {
   "cell_type": "markdown",
   "metadata": {},
   "source": [
    "\n",
    "<p><a id=\"Exo3_5\"></a></p><div align=\"right\"><a href=\"#top\">Haut du document</a></div>\n"
   ]
  },
  {
   "cell_type": "markdown",
   "metadata": {},
   "source": [
    "\n",
    "<div class=\"alert alert-info\"><font color=\"black\" size=\"4\"><b>3.5 Problème des tours</b></font></div>\n"
   ]
  },
  {
   "cell_type": "markdown",
   "metadata": {},
   "source": [
    "\n",
    "<h3 id=\"Exercice-19.\">Exercice 19.<a class=\"anchor-link\" href=\"#Exercice-19.\">¶</a></h3><p>Combien existe-t-il de manières de construire une matrice de $n \\in \\mathbb{N}-{\\{0,1\\}}$ lignes par $n$ colonnes contenant uniquement des 1 et des zéros avec la contrainte que chaque ligne et chaque colonne ne doit contenir qu’une et une seule fois le chiffre 1 ? Pour répondre à cette question, on note <font face=\"Kunstler Script\" size=\"4\"><b>E</b></font>$_n$ l’ensemble des solutions.<br/></p>\n",
    "<ol>\n",
    "<li>Construire une fonction <code>TestTour()</code> qui prend en entrée une matrice carrée et vérifie si elle est élément de <font face=\"Kunstler Script\" size=\"4\"><b>E</b></font>$_n$ en renvoyant <code>True</code> ou <code>False</code>.<br/></li>\n",
    "<li>Vérifier qu’avec <code>A=np.diag(np.ones(4))</code> (matrice identité de <font face=\"Kunstler Script\" size=\"4\"><b>M</b></font>$_4(\\mathbb{R})$) l’appel <code>TestTour(A)</code> renvoie <code>True</code>.</li>\n",
    "<li>Vérifier qu’avec <code>A=np.ones((4,4))</code> l’appel <code>TestTour(A)</code> renvoie <code>False</code>.</li>\n",
    "<li>Construire ensuite une fonction <code>Tours()</code> qui prend en entrée un entier $n$ et qui renvoie le nombre de matrices de\n",
    "<font face=\"Kunstler Script\" size=\"4\"><b>E$_n$.</b></font></li>\n",
    "<li>Vérifier que l’appel <code>Tours(6)</code> renvoie 720.</li>\n",
    "</ol>\n"
   ]
  },
  {
   "cell_type": "markdown",
   "metadata": {},
   "source": [
    "\n",
    "<div class=\"alert alert-success\"><b><font color=\"black\" face=\"Times\" size=\"3\">Réponses</font></b> :<br/><br/>\n",
    "<font color=\"black\" face=\"Times\" size=\"3\"><b>1. Code de la fonction </b><font color=\"black\" face=\"Courier\" size=\"3\">TestTour()</font></font>\n",
    "</div>\n"
   ]
  },
  {
   "cell_type": "code",
   "execution_count": 81,
   "metadata": {},
   "outputs": [],
   "source": [
    "\n",
    "def TestTour(A):\n",
    "    \"\"\"\n",
    "    Vérifie si la matrice A appartient à En (uniquement composée de 0 ou de 1)\n",
    "    \"\"\"     \n",
    "    # Initialisation\n",
    "    [n,n] = np.shape(A)\n",
    "    U = np.ones((n,1))\n",
    "    # Calcul\n",
    "    V = np.dot(A,U)\n",
    "    W = np.dot(np.transpose(A), U)\n",
    "    if all(V == 1) and all(W == 1):\n",
    "        return True\n",
    "    else:\n",
    "        return False\n",
    "\n"
   ]
  },
  {
   "cell_type": "markdown",
   "metadata": {},
   "source": [
    "\n",
    "<div class=\"alert alert-success\"><font color=\"black\" face=\"Times\" size=\"3\"><b>2. Vérifications </b>avec </font><font color=\"black\" face=\"Courier\" size=\"3\">A = np.diag(np.ones(4))</font></div>\n"
   ]
  },
  {
   "cell_type": "code",
   "execution_count": 82,
   "metadata": {},
   "outputs": [
    {
     "data": {
      "text/plain": [
       "array([[1., 0., 0., 0.],\n",
       "       [0., 1., 0., 0.],\n",
       "       [0., 0., 1., 0.],\n",
       "       [0., 0., 0., 1.]])"
      ]
     },
     "execution_count": 82,
     "metadata": {},
     "output_type": "execute_result"
    }
   ],
   "source": [
    "\n",
    "A = np.diag(np.ones(4))\n",
    "A\n",
    "\n"
   ]
  },
  {
   "cell_type": "code",
   "execution_count": 83,
   "metadata": {},
   "outputs": [
    {
     "data": {
      "text/plain": [
       "True"
      ]
     },
     "execution_count": 83,
     "metadata": {},
     "output_type": "execute_result"
    }
   ],
   "source": [
    "\n",
    "TestTour(A)\n",
    "\n"
   ]
  },
  {
   "cell_type": "markdown",
   "metadata": {},
   "source": [
    "\n",
    "<div class=\"alert alert-success\"><font color=\"black\" face=\"Times\" size=\"3\"><b>3. Vérifications </b>avec </font><font color=\"black\" face=\"Courier\" size=\"3\">A = np.ones((4,4))</font></div>\n"
   ]
  },
  {
   "cell_type": "code",
   "execution_count": 84,
   "metadata": {},
   "outputs": [
    {
     "data": {
      "text/plain": [
       "array([[1., 1., 1., 1.],\n",
       "       [1., 1., 1., 1.],\n",
       "       [1., 1., 1., 1.],\n",
       "       [1., 1., 1., 1.]])"
      ]
     },
     "execution_count": 84,
     "metadata": {},
     "output_type": "execute_result"
    }
   ],
   "source": [
    "\n",
    "A = np.ones((4,4))\n",
    "A\n",
    "\n"
   ]
  },
  {
   "cell_type": "code",
   "execution_count": 85,
   "metadata": {},
   "outputs": [
    {
     "data": {
      "text/plain": [
       "False"
      ]
     },
     "execution_count": 85,
     "metadata": {},
     "output_type": "execute_result"
    }
   ],
   "source": [
    "\n",
    "TestTour(A)\n",
    "\n"
   ]
  },
  {
   "cell_type": "markdown",
   "metadata": {},
   "source": [
    "\n",
    "<div class=\"alert alert-success\"><font color=\"black\" face=\"Times\" size=\"3\"><b>4. Code de la fonction </b><font color=\"black\" face=\"Courier\" size=\"3\">Tours()</font></font></div>\n"
   ]
  },
  {
   "cell_type": "code",
   "execution_count": 86,
   "metadata": {},
   "outputs": [],
   "source": [
    "\n",
    "def Tours(n):\n",
    "    \"\"\"\n",
    "    Comptabilise le nombre de matrice d'ordre n appartenant à En\n",
    "    \"\"\"\n",
    "    # Initialisation\n",
    "    cpt = 0\n",
    "    # Calcul\n",
    "    for j in list(it.permutations(range(n))):\n",
    "        A = np.zeros((n,n), int)\n",
    "        for i in range(n):\n",
    "            A[i,j[i]] = 1\n",
    "            if TestTour(A):\n",
    "                cpt += 1\n",
    "    print('Il y a ',cpt, 'possibilités')\n",
    "\n"
   ]
  },
  {
   "cell_type": "markdown",
   "metadata": {},
   "source": [
    "\n",
    "<div class=\"alert alert-success\"><font color=\"black\" face=\"Times\" size=\"3\"><b>5. Vérifications : </b></font><font color=\"black\" face=\"Courier\" size=\"3\">Tours(6)</font></div>\n"
   ]
  },
  {
   "cell_type": "code",
   "execution_count": 87,
   "metadata": {},
   "outputs": [
    {
     "name": "stdout",
     "output_type": "stream",
     "text": [
      "Il y a  720 possibilités\n"
     ]
    }
   ],
   "source": [
    "\n",
    "Tours(6)\n",
    "\n"
   ]
  },
  {
   "cell_type": "markdown",
   "metadata": {},
   "source": [
    "\n",
    "<div align=\"right\"><a href=\"#top\">Haut du document</a></div>\n"
   ]
  }
 ],
 "metadata": {
  "kernelspec": {
   "display_name": "Python 3",
   "language": "python",
   "name": "python3"
  },
  "language_info": {
   "codemirror_mode": {
    "name": "ipython",
    "version": 3
   },
   "file_extension": ".py",
   "mimetype": "text/x-python",
   "name": "python",
   "nbconvert_exporter": "python",
   "pygments_lexer": "ipython3",
   "version": "3.7.5"
  }
 },
 "nbformat": 4,
 "nbformat_minor": 1
}
