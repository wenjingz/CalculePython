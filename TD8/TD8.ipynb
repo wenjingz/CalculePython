{
 "cells": [
  {
   "cell_type": "code",
   "execution_count": 9,
   "metadata": {},
   "outputs": [],
   "source": [
    "\n",
    "import numpy as np\n",
    "import matplotlib.pyplot as plt\n",
    "import numpy.polynomial.polynomial as poly  # ex 2\n",
    "\n",
    "\n",
    "import scipy.optimize as resol\n",
    "\n",
    "import time\n",
    "import scipy.linalg as la"
   ]
  },
  {
   "cell_type": "markdown",
   "metadata": {},
   "source": [
    "## Exercice1"
   ]
  },
  {
   "cell_type": "code",
   "execution_count": 3,
   "metadata": {},
   "outputs": [
    {
     "ename": "NameError",
     "evalue": "name 'TE' is not defined",
     "output_type": "error",
     "traceback": [
      "\u001b[0;31m---------------------------------------------------------------------------\u001b[0m",
      "\u001b[0;31mNameError\u001b[0m                                 Traceback (most recent call last)",
      "\u001b[0;32m<ipython-input-3-9bf9fe7f1c1c>\u001b[0m in \u001b[0;36m<module>\u001b[0;34m\u001b[0m\n\u001b[0;32m----> 1\u001b[0;31m \u001b[0mNE\u001b[0m \u001b[0;34m=\u001b[0m \u001b[0mlen\u001b[0m\u001b[0;34m(\u001b[0m\u001b[0mTE\u001b[0m\u001b[0;34m)\u001b[0m\u001b[0;34m\u001b[0m\u001b[0;34m\u001b[0m\u001b[0m\n\u001b[0m\u001b[1;32m      2\u001b[0m \u001b[0mh\u001b[0m \u001b[0;34m=\u001b[0m \u001b[0;34m(\u001b[0m\u001b[0mb\u001b[0m\u001b[0;34m-\u001b[0m\u001b[0ma\u001b[0m\u001b[0;34m)\u001b[0m\u001b[0;34m/\u001b[0m\u001b[0;34m(\u001b[0m\u001b[0mNE\u001b[0m\u001b[0;34m-\u001b[0m\u001b[0;36m1\u001b[0m\u001b[0;34m)\u001b[0m\u001b[0;34m\u001b[0m\u001b[0;34m\u001b[0m\u001b[0m\n\u001b[1;32m      3\u001b[0m \u001b[0mT\u001b[0m \u001b[0;34m=\u001b[0m \u001b[0mnp\u001b[0m\u001b[0;34m.\u001b[0m\u001b[0mlinspace\u001b[0m\u001b[0;34m(\u001b[0m\u001b[0ma\u001b[0m\u001b[0;34m,\u001b[0m\u001b[0mb\u001b[0m\u001b[0;34m,\u001b[0m\u001b[0mNE\u001b[0m\u001b[0;34m)\u001b[0m\u001b[0;34m\u001b[0m\u001b[0;34m\u001b[0m\u001b[0m\n\u001b[1;32m      4\u001b[0m \u001b[0;34m\u001b[0m\u001b[0m\n\u001b[1;32m      5\u001b[0m \u001b[0;31m# Construction du système tridiagonal\u001b[0m\u001b[0;34m\u001b[0m\u001b[0;34m\u001b[0m\u001b[0;34m\u001b[0m\u001b[0m\n",
      "\u001b[0;31mNameError\u001b[0m: name 'TE' is not defined"
     ]
    }
   ],
   "source": [
    "NE = len(TE)\n",
    "h = (b-a)/(NE-1)\n",
    "T = np.linspace(a,b,NE)\n",
    "\n",
    "# Construction du système tridiagonal\n",
    "\n",
    "A = np.ones(NE-3)\n",
    "B = 4*np.ones(NE-2)\n",
    "C = A\n",
    "\n",
    "K = np.zeros(NE-1)\n",
    "for i in range(1,NE-1):\n",
    "    K[i]=TE[i+1]-2*TE[i]+TE[i-1]\n",
    "    \n",
    "    K= (6.0/h**2)*K[i:NE-1]\n",
    "    \n",
    "    #Résolution du système tridiagonal \n",
    "    \n",
    "    M =np.zeros(NE)\n",
    "    \n",
    "    M[i:NE-1]=ResolSystTriDiag(A,B,C,D) # Rappel : M_1 = M_n =0\n",
    "    \n",
    "    #Calcule de coefficient \n",
    "    \n",
    "    "
   ]
  },
  {
   "cell_type": "code",
   "execution_count": 10,
   "metadata": {},
   "outputs": [],
   "source": [
    "def MatriceSpline(n):\n",
    "    \n",
    "    SD = np.ones( n-3 )  # Sous-diagonale et sur-diagonale\n",
    "    D = 4*np.ones( n-2 ) # Diagonale\n",
    "    T = np.diag(SD, -1) + np.diag(D, 0) + np.diag(SD, 1)\n",
    "    \n",
    "    return T\n",
    "\n",
    "def SecondMembreSpline(y, h):\n",
    "    \n",
    "    n = len(y)\n",
    "    K = np.zeros( n-1 )\n",
    "    for i in range(1, n-1):   # attention, en ecriture analytique, on démarre à i=1, en Python 0\n",
    "        K[i] = y[i+1] - 2*y[i] + y[i-1]\n",
    "    K = (6./h**2) * K[1:n-1]\n",
    "    \n",
    "    return K\n",
    "\n",
    "def CoeffSplineCubique(a, b, y):\n",
    "    \n",
    "    n = len(y)\n",
    "    h = (b-a) / (n-1)          # pas equireparti\n",
    "    x = np.linspace(a, b, n)   # support equireparti\n",
    "    \n",
    "    # matrice tridiagonale\n",
    "    T = MatriceSpline(n)\n",
    "    # Second membre\n",
    "    K = SecondMembreSpline(y, h)\n",
    "    # Solution de TM = K\n",
    "    M = np.zeros( n )          # inclu donc les conditions portant sur la définition de la spline naturelle M_0=M_n=0\n",
    "    M[1:n-1] = la.solve(T, K)  # le système à résoudre permet de déterminer M_1 à M_n-1\n",
    "    \n",
    "    # Coefficients de la Spline\n",
    "    S = np.zeros( (n-1,4) )\n",
    "    for i in range(n-1):\n",
    "        S[i,0] = ( M[i+1]-M[i] )/h                                 # Correspond à Ai\n",
    "        S[i,1] = M[i]                                              # Correspond à Bi\n",
    "        S[i,2] = ( y[i+1]-y[i] )/h - (h/6)*( M[i+1]+2*M[i] )       # Correspond à Ci\n",
    "        S[i,3] = y[i]                                              # Correspond à Di\n",
    "\n",
    "    return(S)\n",
    "\n",
    "def GraphSpline(a, b, y):\n",
    "    x = np.linspace(a, b, len(y))       # Grille des abscisses équiréparties\n",
    "    S = CoeffSplineCubique(a, b, y)     # Calcul des coefficients de la spline cubique\n",
    "    \n",
    "    for i in range(len(y)-1):\n",
    "        X = np.linspace(x[i], x[i+1], 30)  # Sous intervalle [x_i,x_(i+1)]\n",
    "        # Calcul des polynômes (x-x_i), (x-x_i)^2 et (x-x_i)^3\n",
    "        affine = [-x[i],1]                     # vecteur des coefficients relatifs à (x-x_i)\n",
    "        carre = poly.polymul(affine,affine)\n",
    "        cube = poly.polymul(carre,affine)\n",
    "\n",
    "        # Evaluation des polynômes précédents sur [x_i,x_(i+1)]\n",
    "        Eaffine = poly.polyval(X, affine)\n",
    "        Ecarre = poly.polyval(X, carre)\n",
    "        Ecube = poly.polyval(X, cube)\n",
    "\n",
    "        # Calcul de la spline cubique sur [x_i,x_(i+1)]\n",
    "        P = S[i,0]*Ecube/6 + S[i,1]*Ecarre/2 + S[i,2]*Eaffine + S[i,3]\n",
    "        \n",
    "        # Représentation de la spline sans caractéristique couleur ni label (attention)\n",
    "        plt.plot(X, P, label='intervalle '+str(i))\n",
    "        # Représentation des points de support\n",
    "        plt.plot(x,y,'bo')\n",
    "    \n",
    "    return"
   ]
  },
  {
   "cell_type": "code",
   "execution_count": 17,
   "metadata": {},
   "outputs": [
    {
     "data": {
      "image/png": "[encoded data removed]",
      "text/plain": [
       "<Figure size 432x288 with 1 Axes>"
      ]
     },
     "metadata": {
      "needs_background": "light"
     },
     "output_type": "display_data"
    }
   ],
   "source": [
    "GraphSpline(1,100,[1,-2132,0,299,6])"
   ]
  },
  {
   "cell_type": "code",
   "execution_count": null,
   "metadata": {},
   "outputs": [],
   "source": []
  }
 ],
 "metadata": {
  "kernelspec": {
   "display_name": "Python 3",
   "language": "python",
   "name": "python3"
  },
  "language_info": {
   "codemirror_mode": {
    "name": "ipython",
    "version": 3
   },
   "file_extension": ".py",
   "mimetype": "text/x-python",
   "name": "python",
   "nbconvert_exporter": "python",
   "pygments_lexer": "ipython3",
   "version": "3.7.5"
  }
 },
 "nbformat": 4,
 "nbformat_minor": 4
}
