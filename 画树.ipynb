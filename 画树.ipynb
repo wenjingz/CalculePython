{
 "cells": [
  {
   "cell_type": "code",
   "execution_count": 1,
   "metadata": {},
   "outputs": [],
   "source": [
    "from turtle import *\n",
    "from random import *\n",
    "from math import *"
   ]
  },
  {
   "cell_type": "code",
   "execution_count": 2,
   "metadata": {},
   "outputs": [],
   "source": [
    "def tree(n,l):\n",
    "    pd()\n",
    "    t = cos(radians(heading()+45))/8+0.25\n",
    "    pencolor(t,t,t)\n",
    "    pensize(n/4)\n",
    "    forward(l)\n",
    "    if n>0:\n",
    "        b=random()*15+10\n",
    "        c=random()*15+10\n",
    "        d = l*(random()*0.35+0.6)\n",
    "        right(b)\n",
    "        tree(n-1,d)\n",
    "        left(b+c)\n",
    "        tree(n-1,d)\n",
    "        right(c)\n",
    "    else:\n",
    "        right(90)\n",
    "        n =cos(radians(heading()-45))/8+0.5\n",
    "        pencolor(n,n,n)\n",
    "        circle(2)\n",
    "        left(90)\n",
    "    pu()\n",
    "    backward(l)\n",
    "    \n",
    "bgcolor(0.5,0.5,0.5)\n",
    "ht()\n",
    "speed(0)\n",
    "tracer(0,0)\n",
    "left(90)\n",
    "pu()\n",
    "backward(300)\n",
    "tree(13,100)\n",
    "done()"
   ]
  },
  {
   "cell_type": "code",
   "execution_count": null,
   "metadata": {},
   "outputs": [],
   "source": []
  }
 ],
 "metadata": {
  "kernelspec": {
   "display_name": "Python 3",
   "language": "python",
   "name": "python3"
  },
  "language_info": {
   "codemirror_mode": {
    "name": "ipython",
    "version": 3
   },
   "file_extension": ".py",
   "mimetype": "text/x-python",
   "name": "python",
   "nbconvert_exporter": "python",
   "pygments_lexer": "ipython3",
   "version": "3.7.5"
  }
 },
 "nbformat": 4,
 "nbformat_minor": 4
}
