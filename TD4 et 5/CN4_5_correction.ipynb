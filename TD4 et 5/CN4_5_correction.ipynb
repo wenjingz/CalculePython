{
 "cells": [
  {
   "cell_type": "markdown",
   "metadata": {},
   "source": [
    "\n",
    "<div align=\"left\"><b> IMT Mines Alès (2019-2020)</b></div>\n"
   ]
  },
  {
   "cell_type": "markdown",
   "metadata": {},
   "source": [
    "\n",
    "<p><a id=\"top\"></a></p>\n"
   ]
  },
  {
   "cell_type": "markdown",
   "metadata": {},
   "source": [
    "\n",
    "<div align=\"center\">\n",
    "<font face=\"Times\" size=\"7\">Analyse et calcul numériques<br/><br/>\n",
    "    Exercices corrigés des TD4 et TD5<br/></font><br/>\n",
    "<font face=\"Times\" size=\"4\">P. Guyot, X. Picamoles, L. Pissot, E. Rousée</font>\n",
    "</div>\n"
   ]
  },
  {
   "cell_type": "markdown",
   "metadata": {},
   "source": [
    "\n",
    "<div class=\"alert alert-info\">\n",
    "<font color=\"black\" face=\"Times\" size=\"6\"><b>Table des matières </b></font><br/><br/>\n",
    "<font color=\"blue\" face=\"Times\" size=\"5\"><b><a href=\"#Exo1\"> 1. Autour des polynômes</a></b></font><br/>\n",
    "<font color=\"blue\" face=\"Times\" size=\"4\"><a href=\"#Exo1_1\">    1.1 Les fonctions natives</a></font><br/>\n",
    "<font color=\"blue\" face=\"Times\" size=\"4\"><a href=\"#Exo1_2\">   1.2 Exercices d’applications directes</a></font><br/><br/>\n",
    "<font color=\"blue\" face=\"Times\" size=\"5\"><b><a href=\"#Exo2\"> 2. Un problème d’arrondi </a></b></font><br/><br/>\n",
    "<font color=\"blue\" face=\"Times\" size=\"5\"><b><a href=\"#Exo3\">  3. Complexité liée au calcul polynomial </a></b></font><br/><br/>\n",
    "<font color=\"blue\" face=\"Times\" size=\"5\"><b><a href=\"#Exo4\">  4. Dérivation d’un polynôme </a></b></font><br/><br/>\n",
    "<font color=\"blue\" face=\"Times\" size=\"5\"><b><a href=\"#Exo5\">  5. Polynômes de Legendre </a></b></font><br/><br/>\n",
    "<font color=\"blue\" face=\"Times\" size=\"5\"><b><a href=\"#Exo6\">  6. Exercices plus avancés </a></b></font><br/><br/>\n",
    "</div>\n"
   ]
  },
  {
   "cell_type": "markdown",
   "metadata": {},
   "source": [
    "\n",
    "<p><a id=\"Exo1\"></a></p><div align=\"right\"><a href=\"#top\">Haut du document</a></div>\n"
   ]
  },
  {
   "cell_type": "markdown",
   "metadata": {},
   "source": [
    "\n",
    "<div class=\"alert alert-info\">\n",
    "<font color=\"black\" size=\"5\"><b>1. Autour des polynômes</b></font>\n",
    "</div>\n"
   ]
  },
  {
   "cell_type": "markdown",
   "metadata": {},
   "source": [
    "\n",
    "<p>Import des packages Python</p>\n"
   ]
  },
  {
   "cell_type": "code",
   "execution_count": null,
   "metadata": {},
   "outputs": [],
   "source": [
    "\n",
    "from math import *                # les constantes et fonctions mathématiques\n",
    "import numpy as np                # le calcul numérique\n",
    "import matplotlib.pyplot as plt   # l affichage graphique\n",
    "import numpy.polynomial.polynomial as poly # la manipulation des polynomes\n",
    "\n",
    "from IPython.display import Image # pour l'incrustration des images dans le notebook\n",
    "\n",
    "import random as rd        # exercice 5\n",
    "import time                # exercice 5\n",
    "from scipy.special import legendre # exercice 7\n",
    "import numpy.linalg as la  # exercice 9\n",
    "from scipy.special import binom # exercice 11\n",
    "\n"
   ]
  },
  {
   "cell_type": "markdown",
   "metadata": {},
   "source": [
    "\n",
    "<p>Python fournit un ensemble de fonctions natives disponibles après avoir importé le module <code>import numpy.polynomial.polynomial as poly</code> <br/> Toutes ces fonctions s’utilisent avec la convention qu’un polynôme $P$ défini par l’expression : <br/><br/> </p><div align=\"center\">  $P(x) = a_0 + a_1x + .. + a_{n-1}x^{n-1} + a_nx^n$</div><br/><br/> est représenté par la matrice ligne de ses coefficients <b><font color=\"red\">rangés dans l’ordre des degrés croissants</font></b>, autrement dit en écrivant <code>np.array([a0, a1, ....., an])</code> qui correspond à la matrice ligne <code>array( [a0,a1,.....,an] )</code>.\n",
    "\n"
   ]
  },
  {
   "cell_type": "markdown",
   "metadata": {},
   "source": [
    "\n",
    "<p><a id=\"Exo1_1\"></a></p><div align=\"right\"><a href=\"#top\">Haut du document</a></div>\n"
   ]
  },
  {
   "cell_type": "markdown",
   "metadata": {},
   "source": [
    "\n",
    "<div class=\"alert alert-info\"><font color=\"black\" size=\"4\"><b>1.1 Les fonctions natives</b></font></div>\n"
   ]
  },
  {
   "cell_type": "markdown",
   "metadata": {},
   "source": [
    "\n",
    "<ol>\n",
    "<li><p>Évaluation d’un polynôme, fonction <code>poly.polyval</code> : <br/>\n",
    "— Commande : <code>poly.polyval(x, p)</code> où <code>p</code> est un polynôme (selon la convention évoquée) et <code>x</code> est un scalaire ou une liste de valeurs.<br/>\n",
    "— Résultat : L’image de <code>x</code> par <code>p</code>.<br/><br/></p>\n",
    "</li>\n",
    "<li><p>Racines d’un polynôme, fonction <code>poly.polyroots</code> :<br/>\n",
    "— Commande : <code>poly.polyroots(p)</code> où <code>p</code> est un polynôme. <br/>\n",
    "— Résultat : tableau <code>[r1, r2, ..., rn]</code> contenant les racines.<br/><br/></p>\n",
    "</li>\n",
    "<li><p>Polynôme à partir de ses racines, fonction <code>poly.polyfromroots</code> :<br/>\n",
    "— Commande : <code>poly.polyfromroots([r1, r2, ..., rn])</code> où <code>[r1, r2, ..., rn]</code> est la liste des racines.<br/>\n",
    "— Résultat : matrice ligne représentant le polynôme <code>p</code> dont les racines sont <code>[r1,r2,...,rn]</code>.<br/><br/></p>\n",
    "</li>\n",
    "<li><p>Produit de deux polynômes, fonction <code>poly.polymul</code><br/>\n",
    "— Commande : <code>poly.polymul(p,q)</code> où <code>p</code> et <code>q</code> sont deux polynômes.<br/>\n",
    "— Résultat : matrice ligne des coefficients du produit <code>pq</code> rangés dans l’ordre des puissances croissantes.<br/><br/></p>\n",
    "</li>\n",
    "<li><p>Pour « renverser » l’ordre d’une liste <code>L</code>, il suffit d’écrire <code>L[::-1]</code> ou <code>list(reversed(L))</code>.</p>\n",
    "</li>\n",
    "</ol>\n"
   ]
  },
  {
   "cell_type": "markdown",
   "metadata": {},
   "source": [
    "\n",
    "<p></p><div class=\"alert alert-danger\">\n",
    "<span style=\"font-size: 30px;\"><i class=\"fa fa-exclamation-triangle\" title=\"Edit\"><b><font size=\"4\">  ATTENTION</font></b></i></span>\n",
    "</div>\n",
    "<br/>\n",
    "Il peut s'avérer plus naturel de passer par le sous-module <font face=\"Courier\"><b>numpy.polynomial.polynomial</b></font> pour manipuler les polynômes. Les coefficients étant rangés selon les degrés croissants, la mise en oeuvre Python d'expressions analytiques est plus simple et l'interprétation intuitive. <br/>\n",
    "Dans tous les cas, il faut rester attentif à l'ordre des coefficients en fonction de la référence de la fonction utilisée parmi les 2 possibles.\n",
    "<br/> La fonction <font face=\"Courier\">poly1d()</font> du module <font face=\"Courier\">numpy</font> permet elle d'afficher exclusivemment l'expression littérale exacte d'un polynôme.\n",
    "\n"
   ]
  },
  {
   "cell_type": "markdown",
   "metadata": {},
   "source": [
    "\n",
    "<p><a id=\"Exo1_2\"></a></p><div align=\"right\"><a href=\"#top\">Haut du document</a></div>\n"
   ]
  },
  {
   "cell_type": "markdown",
   "metadata": {},
   "source": [
    "\n",
    "<div class=\"alert alert-info\"><font color=\"black\" size=\"4\"><b>1.2 Exercices d’applications directes</b></font></div>\n"
   ]
  },
  {
   "cell_type": "markdown",
   "metadata": {},
   "source": [
    "\n",
    "<h3 id=\"Exercice-1.\">Exercice 1.<a class=\"anchor-link\" href=\"#Exercice-1.\">¶</a></h3><ol>\n",
    "<li><p>Soit $P(x) = (1-x)^3$ qui possède évidement 1 comme racine de multiplicité 3. Utiliser la fonction native <code>poly.polyroots</code> pour déterminer les racines de $P$ et vérifier que l’on obtient <br/><font face=\"Courier New\"> array([0.99999181+0.00000000e+00j,      1.00000409-7.08849899e-06j,<br/>\n",
    "       1.00000409+7.08849899e-06j])</font><br/><br/></p>\n",
    "</li>\n",
    "<li><p>Vérifier la valeur du polynôme $1 - 3x + x^3$<br/>\n",
    "— En chacune de ses racines. Vous devez trouver <code>[ 4.10782519e-15 4.44089210e-16 -1.33226763e-15]</code> qui correspond, numériquement et pour un ordinateur, à <code>[0 0 0]</code>.<br/>\n",
    "— Pour la liste <code>[1, 2, 3]</code>. Vous devez trouver <code>[ -1. 3. 19.]</code>.<br/><br/></p>\n",
    "</li>\n",
    "<li><p>Vérifiez que le polynôme dont les trois racines simples sont 1, 2 et 3 est $-6 + 11x + 6x^2 + x^3$.</p>\n",
    "</li>\n",
    "</ol>\n"
   ]
  },
  {
   "cell_type": "markdown",
   "metadata": {},
   "source": [
    "\n",
    "<div class=\"alert alert-success\"><b><font color=\"black\" face=\"Times\" size=\"3\">Réponses</font></b> :<br/><br/>\n",
    "<font color=\"black\" face=\"Times\" size=\"3\">1. Racines du polynôme $P(x) = (1-x)^3 = 1 -3x + 3x^2 - x^3$ </font>\n",
    "</div>\n"
   ]
  },
  {
   "cell_type": "code",
   "execution_count": null,
   "metadata": {},
   "outputs": [],
   "source": [
    "\n",
    "# Initialisation\n",
    "pol1 = [1, -3, 3, -1]           # coefficients de 1-3x+3x^2-x^3 (degrés croissants)\n",
    "\n",
    "# Calcul\n",
    "rac1 = poly.polyroots(pol1) # polynôme -> racines \n",
    "\n",
    "# Affichage console des résultats numériques\n",
    "print('Les racines du polynome pol1 de coefficients '+str(pol1)+' sont : ',rac1)\n",
    "\n"
   ]
  },
  {
   "cell_type": "markdown",
   "metadata": {},
   "source": [
    "\n",
    "<p>On peut considérer que ces 3 valeurs approchées correspondent à une seule et unique solution réelle, même si la précision fournie est loin d'être d'être irréprochable !</p>\n"
   ]
  },
  {
   "cell_type": "markdown",
   "metadata": {},
   "source": [
    "\n",
    "<div class=\"alert alert-success\">\n",
    "<font color=\"black\" face=\"Times\" size=\"3\">2. Vérifier la valeur du polynôme $1 - 3x + x^3$ </font>\n",
    "</div>\n"
   ]
  },
  {
   "cell_type": "markdown",
   "metadata": {},
   "source": [
    "\n",
    "<ul>\n",
    "<li>en ses racines</li>\n",
    "</ul>\n"
   ]
  },
  {
   "cell_type": "code",
   "execution_count": null,
   "metadata": {},
   "outputs": [],
   "source": [
    "\n",
    "# Initialisation\n",
    "pol2 = [1, -3, 0, 1]          # coefficients de 1-3x+x^3 (degrés croissants)\n",
    "\n",
    "# Calcul\n",
    "rac2 = poly.polyroots(pol2)     # polynôme -> racines \n",
    "val2 = poly.polyval(rac2,pol2)  # Evaluation de pol2(rac2), syntaxe polyval()\n",
    "\n",
    "# Affichage console des résultats numériques\n",
    "print('Les racines du polynome pol2 de coefficients '+str(pol2)+'\\n sont : ', rac2)\n",
    "print('\\nLes valeurs du polynome pol2 de coefficients '+str(pol2)+'\\n en ses racines sont : ', val2)\n",
    "\n"
   ]
  },
  {
   "cell_type": "markdown",
   "metadata": {},
   "source": [
    "\n",
    "<div align=\"left\" class=\"alert alert-danger\">\n",
    "<span style=\"font-size: 20px;\"><i class=\"fa fa-exclamation-triangle\" title=\"Edit\"><font color=\"black\" size=\"3\">   On passe par le sous-module <font face=\"Courier\">numpy.polynomial</font> pour manipuler les polynômes<br/>  Les coefficients sont présentés dans l'ordre des degrés croissants.</font></i></span>\n",
    "</div>\n"
   ]
  },
  {
   "cell_type": "code",
   "execution_count": null,
   "metadata": {},
   "outputs": [],
   "source": [
    "\n",
    "help(np.polyval)\n",
    "\n"
   ]
  },
  {
   "cell_type": "code",
   "execution_count": null,
   "metadata": {},
   "outputs": [],
   "source": [
    "\n",
    "np.polyval(pol2[::-1], rac2)\n",
    "\n"
   ]
  },
  {
   "cell_type": "markdown",
   "metadata": {},
   "source": [
    "\n",
    "<p>La liste des coefficients du polynôme doit être inversée pour être manipulées par la référence <font face=\"Courier\">numpy</font></p>\n"
   ]
  },
  {
   "cell_type": "code",
   "execution_count": null,
   "metadata": {},
   "outputs": [],
   "source": [
    "\n",
    "help(poly.polyval)\n",
    "\n"
   ]
  },
  {
   "cell_type": "code",
   "execution_count": null,
   "metadata": {},
   "outputs": [],
   "source": [
    "\n",
    "poly.polyval(rac2,  pol2)\n",
    "\n"
   ]
  },
  {
   "cell_type": "markdown",
   "metadata": {},
   "source": [
    "\n",
    "<p>Si on souhaite afficher l'expression du polynôme $P(x) = 1 - 3x + x^3$</p>\n"
   ]
  },
  {
   "cell_type": "code",
   "execution_count": null,
   "metadata": {},
   "outputs": [],
   "source": [
    "\n",
    "P = np.poly1d(pol2[::-1])\n",
    "print(P)\n",
    "\n"
   ]
  },
  {
   "cell_type": "markdown",
   "metadata": {},
   "source": [
    "\n",
    "<ul>\n",
    "<li>aux éléments de la liste [1, 2, 3]</li>\n",
    "</ul>\n"
   ]
  },
  {
   "cell_type": "code",
   "execution_count": null,
   "metadata": {},
   "outputs": [],
   "source": [
    "\n",
    "val3 = poly.polyval([1,2,3], pol2)    # Evaluation de pol2([[1,2,3]])\n",
    "print('pol2([1,2,3]) =', val3)        # affichage console\n",
    "\n"
   ]
  },
  {
   "cell_type": "markdown",
   "metadata": {},
   "source": [
    "\n",
    "<div class=\"alert alert-success\">\n",
    "<font color=\"black\" face=\"Times\" size=\"3\">3. Polynôme de racines $[1,2,3]$ </font>\n",
    "</div>\n"
   ]
  },
  {
   "cell_type": "code",
   "execution_count": null,
   "metadata": {},
   "outputs": [],
   "source": [
    "\n",
    "# Initialisation et calcul\n",
    "rac3 = [1,2,3]\n",
    "pol3 = poly.polyfromroots(rac3) # racines -> polynôme = x^3-6x^2+11x-6\n",
    "\n",
    "# Affichage des résultats\n",
    "print('Les coefficients du polynome pol3 de racines simples (1,2,3) sont (degrés croissants) : ', pol3) # affichage console\n",
    "\n",
    "# Vérifications\n",
    "# racines du polynome precedent (fonction Python inverse)\n",
    "rac3 = poly.polyroots(pol3)        # polynôme -> racines \n",
    "print()\n",
    "print('Les racines du polynome pol3 sont : ', rac3)    # affichage console\n",
    "\n"
   ]
  },
  {
   "cell_type": "markdown",
   "metadata": {},
   "source": [
    "\n",
    "<div class=\"alert alert-success\"><span style=\"font-size: 25px;\"><i aria-hidden=\"true\" class=\"fa fa-lightbulb-o\"></i></span><font color=\"black\" face=\"Times\" size=\"3\">  Bonus</font> :<br/>\n",
    "<font color=\"black\" face=\"Times\" size=\"3\">  Représentation littérale du polynome <b><font face=\"Courier\">pol3</font></b> sous sa forme développée attendue : $x^3-6x^2+11x-6$ </font>\n",
    "</div>\n"
   ]
  },
  {
   "cell_type": "code",
   "execution_count": null,
   "metadata": {},
   "outputs": [],
   "source": [
    "\n",
    "# Initialisation et calcul\n",
    "polnp = np.poly1d(pol3[::-1])\n",
    "\n",
    "# Affichage des résultats\n",
    "print('pol3(x)=\\n',polnp)\n",
    "\n"
   ]
  },
  {
   "cell_type": "markdown",
   "metadata": {},
   "source": [
    "\n",
    "<h3 id=\"Exercice-2.\">Exercice 2.<a class=\"anchor-link\" href=\"#Exercice-2.\">¶</a></h3><p>Construire successivement le polynôme dont les $n$ racines sont définies par la liste des $n$ premiers entiers à partir de\n",
    "$n = 16$ et jusqu’à $n = 30$ et vérifier, par appel de la fonction Python inverse, si l’on retrouve ces $n$ racines simples.<br/>\n",
    "<i>Indications : vous devez trouver</i><br/></p>\n",
    "<p>— $n = 16$ : <code>[1.0, 2.0, 3.0, 4.0, 5.0, 6.0, 7.0, 8.0, 9.0, 10.0, 11.0, 12.0, 13.0, 14.0, 15.0, 16.0]</code><br/>\n",
    "— $n = 17$ : <code>[1.0, 2.0, 3.0, 4.0, 5.0, 6.0, 7.0, 8.0, 9.0009999999999994, 9.9969999999999999, 11.006, 11.992000000000001, 13.007999999999999, 13.994, 15.003, 15.999000000000001, 17.0]</code><br/>\n",
    "— $n = 18$ : <code>[1.0, 2.0, 3.0, 4.0, 5.0, 6.0, 7.0, 8.0, 9.0, 10.0, 11.000999999999999, 11.997999999999999, 13.003, 13.997, 15.002000000000001, 15.999000000000001, 17.0, 18.0]</code><br/>\n",
    "— $n = 20$ : <code>[(1+0j), (2+0j), (3+0j), (4+0j), (5+0j), (6+0j), (7+0j), (7.9989999999999997+0j), (9.0069999999999997+0j), (9.9619999999999997+0j), (11.194000000000001+0j), (11.648+0j), (13.433-0.54800000000000004j), (13.433+0.54800000000000004j), (15.555999999999999-0.58199999999999996j), (15.555999999999999+0.58199999999999996j), (17.417000000000002+0j), (17.765999999999998+0j), (19.033999999999999+0j), (19.995999999999999+0j)]</code><br/>\n",
    "— etc.</p>\n"
   ]
  },
  {
   "cell_type": "markdown",
   "metadata": {},
   "source": [
    "\n",
    "<div class=\"alert alert-success\"><b><font color=\"black\" face=\"Times\" size=\"3\">Réponses</font></b> :<br/><br/>\n",
    "<font color=\"black\" face=\"Times\" size=\"3\">Analyse du comportement des fonctions natives Python pour des degrés de polynôme élevés</font>\n",
    "</div>\n"
   ]
  },
  {
   "cell_type": "code",
   "execution_count": null,
   "metadata": {},
   "outputs": [],
   "source": [
    "\n",
    "# Initialisation\n",
    "nmax = 30\n",
    "\n",
    "# Calcul\n",
    "for n in range(16, nmax):            # de n=16 a n=nmax=30\n",
    "    I = list(range(1, n+1))          # liste entiere de 1 a n\n",
    "    pol = poly.polyfromroots(I)      # calcul du polynome dont la liste precedente constitue les racines simples \n",
    "    R = poly.polyroots(pol)          # calcul des racines du polynome dont les coefficients sont issus du calcul precedent\n",
    "    R = [round(r, 3) for r in R]     # arrondi a 3 decimales des racines calculees\n",
    "    # Affichage partiel\n",
    "    print('\\n n = ', n,':', R)          # affichage console du degre du polynome et de ses racines \n",
    "    print()\n",
    "\n"
   ]
  },
  {
   "cell_type": "markdown",
   "metadata": {},
   "source": [
    "\n",
    "<p><a id=\"Exo2\"></a></p><div align=\"right\"><a href=\"#top\">Haut du document</a></div>\n"
   ]
  },
  {
   "cell_type": "markdown",
   "metadata": {},
   "source": [
    "\n",
    "<div class=\"alert alert-info\">\n",
    "<font color=\"black\" size=\"5\"><b>2. Un problème d’arrondi</b></font>\n",
    "</div>\n"
   ]
  },
  {
   "cell_type": "markdown",
   "metadata": {},
   "source": [
    "\n",
    "<h3 id=\"Exercice-3.\">Exercice 3.<a class=\"anchor-link\" href=\"#Exercice-3.\">¶</a></h3><p>On souhaite étudier le développement numérique de $(1-x)^7$ au voisinage de $x = 1$.</p>\n",
    "<ol>\n",
    "<li><p>Construire une fonction <i><u>itérative</u></i> <code>Developpe()</code> qui prend en entrée un polynôme $P$ et un entier $n$ et qui renvoie\n",
    "le polynôme $P^n$. <br/>Vérifier que $(1+x)^4 = 1 + 4x + 6x^2 + 4x^3 + x^4$.</p>\n",
    "</li>\n",
    "<li><p>Construire une fonction <i><u>récursive</u></i> <code>DeveloppeR()</code> qui prend en entrée un polynôme $P$ et un entier $n$ et qui renvoie le polynôme $P^n$. <br/>Vérifier que $(1+x)^4 = 1 + 4x + 6x^2 + 4x^3 + x^4$.</p>\n",
    "</li>\n",
    "<li><p>Construire une fonction <code>CompareExpression()</code> qui prend en entrée deux entiers $n \\in \\mathbb{N}^*$ et $m \\in \\{1, 2, 3, 4 \\}$ et qui renvoie les courbes représentatives des formes développée, obtenue avec <code>Developpe()</code> ou <code>DeveloppeR()</code>, et factorisée de la fonction $x \\mapsto (1-x)^n$ sur l’intervalle $[1-h, 1+h]$ pour $h = 10^{-m}$ m (la forme développée sera obtenue avec <font face=\"Courier\">Developpe()</font> ou <font face=\"Courier\">DeveloppeR()</font>).\n",
    ".<br/>\n",
    "L’appel de <code>CompareExpression(7, 2)</code> devrait donner un graphique proche de celui qui suit.</p>\n",
    "</li>\n",
    "</ol>\n"
   ]
  },
  {
   "cell_type": "code",
   "execution_count": null,
   "metadata": {},
   "outputs": [],
   "source": [
    "\n",
    "Image(filename=\"CN_TD4_ex1.jpg\")\n",
    "\n"
   ]
  },
  {
   "cell_type": "markdown",
   "metadata": {},
   "source": [
    "\n",
    "<div class=\"alert alert-success\"><b><font color=\"black\" face=\"Times\" size=\"3\">Réponses</font></b> :<br/><br/>\n",
    "<font color=\"black\" face=\"Times\" size=\"3\">1. Code de la fonction <font color=\"black\" face=\"Courier\" size=\"3\">Developpe()</font></font>\n",
    "</div>\n"
   ]
  },
  {
   "cell_type": "code",
   "execution_count": null,
   "metadata": {},
   "outputs": [],
   "source": [
    "\n",
    "def Developpe(P, n):\n",
    "    \"\"\"\n",
    "    Donne l'expression du développement d'un polynôme P à la puissance n : P^n.\n",
    "    \"\"\"\n",
    "    # initialisation\n",
    "    Q = P   # variable intermediaire pour stocker les produits intermédiaires\n",
    "    # Calcul\n",
    "    for i in range(1, n):\n",
    "        print(\"\\nP(X)^\",i,\"=\\n\",np.poly1d(Q))\n",
    "        Q = poly.polymul(Q, P)  # multiplie P itérativement à partir de i=1 jusqu'à n-1\n",
    "    \n",
    "    return Q\n",
    "\n"
   ]
  },
  {
   "cell_type": "code",
   "execution_count": null,
   "metadata": {},
   "outputs": [],
   "source": [
    "\n",
    "help(Developpe)\n",
    "\n"
   ]
  },
  {
   "cell_type": "markdown",
   "metadata": {},
   "source": [
    "\n",
    "<div class=\"alert alert-success\"><font color=\"black\" face=\"Times\" size=\"3\">Vérification avec </font><font color=\"black\">$(1+x)^4 = 1 + 4x + 6x^2 + 4x^3 + x^4$</font></div>\n"
   ]
  },
  {
   "cell_type": "code",
   "execution_count": null,
   "metadata": {},
   "outputs": [],
   "source": [
    "\n",
    "# Initialisation\n",
    "pol4 = [1, 1]\n",
    "\n",
    "# Calcul\n",
    "degre = 4\n",
    "Q = Developpe(pol4, degre)\n",
    "\n",
    "# Affichage des résultats\n",
    "print('\\n Les coefficients du développement du polynome P^', degre, ' sont : ', Q)\n",
    "print(\"\\n L'expression litterale du polynôme est : \")\n",
    "print(np.poly1d(Q))\n",
    "\n"
   ]
  },
  {
   "cell_type": "markdown",
   "metadata": {},
   "source": [
    "\n",
    "<div class=\"alert alert-success\">\n",
    "<font color=\"black\" face=\"Times\" size=\"3\">2. Code de la fonction <font color=\"black\" face=\"Courier\" size=\"3\">DeveloppeR()</font></font>\n",
    "</div>\n"
   ]
  },
  {
   "cell_type": "code",
   "execution_count": null,
   "metadata": {},
   "outputs": [],
   "source": [
    "\n",
    "def DeveloppeR(P, n):\n",
    "    \"\"\"\n",
    "    Donne l'expression du développement d'un polynôme P à la puissance n : P^n.\n",
    "    Variante de programmation récursive \n",
    "    \"\"\"     \n",
    "    if n == 0:\n",
    "        Q = 1\n",
    "        return Q\n",
    "    else:\n",
    "        Q = poly.polymul(DeveloppeR(P,n-1),P)\n",
    "        # Affichage des resultats intermediaires\n",
    "        print(\"\\nP(X)^\",n,\"=\\n\",np.poly1d(Q))\n",
    "        return Q\n",
    "\n"
   ]
  },
  {
   "cell_type": "markdown",
   "metadata": {},
   "source": [
    "\n",
    "<div class=\"alert alert-success\"><font color=\"black\" face=\"Times\" size=\"3\">Vérification avec </font><font color=\"black\">$(1+x)^4 = 1 + 4x + 6x^2 + 4x^3 + x^4$</font></div>\n"
   ]
  },
  {
   "cell_type": "code",
   "execution_count": null,
   "metadata": {},
   "outputs": [],
   "source": [
    "\n",
    "# Initialisation\n",
    "pol4 = [1, 1]\n",
    "\n",
    "# Calcul\n",
    "degre = 4\n",
    "Q = DeveloppeR(pol4, degre)\n",
    "\n",
    "# Affichage des résultats\n",
    "print('\\n Les coefficients du développement du polynome P^',degre, ' sont : ', Q)\n",
    "\n"
   ]
  },
  {
   "cell_type": "markdown",
   "metadata": {},
   "source": [
    "\n",
    "<div class=\"alert alert-success\">\n",
    "<font color=\"black\" face=\"Times\" size=\"3\">3. Code de la fonction <font color=\"black\" face=\"Courier\" size=\"3\">CompareExpression()</font></font>\n",
    "</div>\n"
   ]
  },
  {
   "cell_type": "code",
   "execution_count": null,
   "metadata": {},
   "outputs": [],
   "source": [
    "\n",
    "def CompareExpression(n, m):\n",
    "    \"\"\"\n",
    "    Superposition graphique des résultats des expressions factorisées et développées\n",
    "    du polynôme P(x)=(1-x)^n, autour de 1, en utilisant l'intervalle [1-h, 1+h]\n",
    "    avec h=10^(-m)\n",
    "    \"\"\"     \n",
    "    # Initialisations\n",
    "    h = 10**(-m)     # le pas h\n",
    "    # Grille des abscisses dans l'intervalle d'étude [1-h, 1+h]\n",
    "    x = np.linspace(1-h, 1+h, 100)\n",
    "    \n",
    "    # Calculs\n",
    "    # Images par la forme factorisée (1-x)^n\n",
    "    y = (1-x)**n\n",
    "    # Images par la forme développée\n",
    "    p = Developpe([1, -1],n)   # développement du polynome (1-x)^n - version itérative\n",
    "    z = poly.polyval(x,p)     # évaluation du polynome developpé sur l'intervalle [1-h, 1+h]\n",
    "    \n",
    "    # Affichages Graphiques\n",
    "    plt.figure(figsize=(12,6))\n",
    "    plt.plot(x, y, 'k', label='forme factorisée')\n",
    "    plt.plot(x, z, 'b', label='forme développée')\n",
    "    texte = r'CN4 - Exercice 3.3 : comparaison graphique des formes factorisée / développée de $(1-x)^'+str(n)+'$'\n",
    "    plt.title(texte,fontsize=10, pad=15)\n",
    "    plt.xlabel(r'$x$'); plt.ylabel(r'$y$')\n",
    "    plt.legend(loc='best');\n",
    "\n"
   ]
  },
  {
   "cell_type": "markdown",
   "metadata": {},
   "source": [
    "\n",
    "<div class=\"alert alert-success\"><font color=\"black\" face=\"Times\" size=\"3\">Vérification avec </font><font color=\"black\" face=\"Courier\">CompareExpression(7, 2)</font></div>\n"
   ]
  },
  {
   "cell_type": "code",
   "execution_count": null,
   "metadata": {},
   "outputs": [],
   "source": [
    "\n",
    "CompareExpression(7, 2)\n",
    "\n"
   ]
  },
  {
   "cell_type": "code",
   "execution_count": null,
   "metadata": {},
   "outputs": [],
   "source": [
    "\n",
    "CompareExpression(7, 4)\n",
    "\n"
   ]
  },
  {
   "cell_type": "markdown",
   "metadata": {},
   "source": [
    "\n",
    "<p><a id=\"Exo3\"></a></p><div align=\"right\"><a href=\"#top\">Haut du document</a></div>\n"
   ]
  },
  {
   "cell_type": "markdown",
   "metadata": {},
   "source": [
    "\n",
    "<div class=\"alert alert-info\">\n",
    "<font color=\"black\" size=\"5\"><b>3. Complexité liée au calcul polynomial</b></font>\n",
    "</div>\n"
   ]
  },
  {
   "cell_type": "markdown",
   "metadata": {},
   "source": [
    "\n",
    "<h3 id=\"Exercice-4.\">Exercice 4.<a class=\"anchor-link\" href=\"#Exercice-4.\">¶</a></h3><p>Soit la fonction polynôme $P$ définie par $P(x) = 1 + 2x + 3x^2 + 4x^3 + 5x^4$.<br/>\n",
    "On souhaite calculer $P(a)$ pour $a = 5$ par trois méthodes de calcul différentes en s’assurant qu’elles donnent toutes le\n",
    "même résultat 3711.</p>\n"
   ]
  },
  {
   "cell_type": "markdown",
   "metadata": {},
   "source": [
    "\n",
    "<ol>\n",
    "<li><p>La première méthode sera appelée <i>naïve</i> ou <i>naturelle</i>, elle correspond à l’écriture $P(a) = 1 + 2 \\times a + 3 \\times a \\times a + 4 \\times a \\times a \\times a + 5 \\times a \\times a \\times a \\times a$ qui nécessite 10 multiplications et 4 additions.<br/> Construire une fonction <code>EvalNaif()</code> qui prend en entrée le polynôme $P$ et la valeur $a$ et qui renvoie l’image $P(a)$ par la méthode <i>naturelle</i>.<br/> <i>Indications. Il suffit de construire une boucle qui somme les monômes</i> $p[i]x^i$ .<br/><br/></p>\n",
    "</li>\n",
    "<li><p>La seconde méthode est celle due à <b>Hörner</b>, elle correspond à l’écriture $P(a) = 1 + a(2+a(3+a(4+5a)))$ qui nécessite 4 multiplications et 4 additions.<br/> Coder la fonction <code>EvalHorner()</code> qui prend en entrée le polynôme $P$ et la valeur $a$ et qui renvoie l’image $P(a)$ par la méthode de Hörner.<br/> <i> Indications. Pour construire une boucle « à l’envers » on écrit `range(début, fin-1, -1)`, `fin` étant la dernière valeur souhaitée. </i><br/><br/></p>\n",
    "</li>\n",
    "<li><p>La dernière méthode consiste à utiliser la fonction native <code>polyval()</code>. Il n’y a donc rien à programmer.</p>\n",
    "</li>\n",
    "</ol>\n"
   ]
  },
  {
   "cell_type": "markdown",
   "metadata": {},
   "source": [
    "\n",
    "<div class=\"alert alert-success\"><b><font color=\"black\" face=\"Times\" size=\"3\">Réponses</font></b> :<br/><br/>\n",
    "<font color=\"black\" face=\"Times\" size=\"3\">1. Code de la fonction <font color=\"black\" face=\"Courier\" size=\"3\">EvalNaif()</font></font>\n",
    "</div>\n"
   ]
  },
  {
   "cell_type": "code",
   "execution_count": null,
   "metadata": {},
   "outputs": [],
   "source": [
    "\n",
    "def EvalNaif(P, a):\n",
    "    \"\"\"\n",
    "    Evaluation naturelle du polynome P(X) en X = a\n",
    "    Entree : P = liste des coefficients du polynôme P(X), ordre des degrés croissant\n",
    "             a = valeur de X à évaluer     \n",
    "    Sortie : s = valeur du polynôme P en X = a    \n",
    "    \"\"\"      \n",
    "    # Initialisations\n",
    "    n, s = len(P), 0\n",
    "    for i in range(n):\n",
    "        s += P[i]*(a**i)   #P[i] * a^i \n",
    "    return s\n",
    "\n"
   ]
  },
  {
   "cell_type": "markdown",
   "metadata": {},
   "source": [
    "\n",
    "<div class=\"alert alert-success\"><font color=\"black\" face=\"Times\" size=\"3\">Vérification des résultats avec $P(x) = 1 + 2x + 3x^2 + 4x^3 + 5x^4$ et $a=5$</font></div>\n"
   ]
  },
  {
   "cell_type": "code",
   "execution_count": null,
   "metadata": {},
   "outputs": [],
   "source": [
    "\n",
    "# Initialisations\n",
    "pol5 = list(range(1,6))\n",
    "\n",
    "# Calculs\n",
    "a = 5\n",
    "PolNaif = EvalNaif(pol5, a)\n",
    "\n",
    "# Affichage des résultats\n",
    "PolNaif\n",
    "\n"
   ]
  },
  {
   "cell_type": "markdown",
   "metadata": {},
   "source": [
    "\n",
    "<div class=\"alert alert-success\">\n",
    "<font color=\"black\" face=\"Times\" size=\"3\">2. Code de la fonction <font color=\"black\" face=\"Courier\" size=\"3\">EvalHorner()</font></font>\n",
    "</div>\n"
   ]
  },
  {
   "cell_type": "code",
   "execution_count": null,
   "metadata": {},
   "outputs": [],
   "source": [
    "\n",
    "def EvalHorner(P, a):\n",
    "    \"\"\"\n",
    "    Methode d'evaluation du polynôme P(X) en X = a en suivant la méthode de Hörner\n",
    "    Entree : P = liste des coefficients du polynôme P(X), ordre des degrés croissant\n",
    "             a = valeur de X à évaluer \n",
    "    Sortie : z = valeur du polynôme P en a\n",
    "    \"\"\"       \n",
    "    n = len(P)  # nombre de coefficient ou ordre du polynome\n",
    "    z = P[n-2] + a*P[n-1]   # valeur du terme factorisé principal\n",
    "    \n",
    "    for k in range(n-3,-1,-1):  # operation iterative d'evaluation, en cascade, des termes factorisés suivants\n",
    "        # print(z)  # affichage console du resultat intermediaire\n",
    "        z = P[k] + a*z\n",
    "    \n",
    "    # print(z) # affichage console du resultat final\n",
    "    return z\n",
    "\n"
   ]
  },
  {
   "cell_type": "markdown",
   "metadata": {},
   "source": [
    "\n",
    "<div class=\"alert alert-success\"><font color=\"black\" face=\"Times\" size=\"3\">Vérification des résultats avec $P(x) = 1 + 2x + 3x^2 + 4x^3 + 5x^4$ et $a=5$</font></div>\n"
   ]
  },
  {
   "cell_type": "code",
   "execution_count": null,
   "metadata": {},
   "outputs": [],
   "source": [
    "\n",
    "1+2*5+3*5**2+4*5**3+5*5**4\n",
    "\n"
   ]
  },
  {
   "cell_type": "code",
   "execution_count": null,
   "metadata": {},
   "outputs": [],
   "source": [
    "\n",
    "# Calcul\n",
    "PolHorner = EvalHorner(pol5, a)\n",
    "\n",
    "# Affichage des résultats\n",
    "PolHorner\n",
    "\n"
   ]
  },
  {
   "cell_type": "markdown",
   "metadata": {},
   "source": [
    "\n",
    "<div class=\"alert alert-success\">\n",
    "<font color=\"black\" face=\"Times\" size=\"3\">3. Code de l'implémentation native encapsulée dans la fonction <font color=\"black\" face=\"Courier\" size=\"3\">EvalPython()</font></font>\n",
    "</div>\n"
   ]
  },
  {
   "cell_type": "code",
   "execution_count": null,
   "metadata": {},
   "outputs": [],
   "source": [
    "\n",
    "def EvalPython(P, a):\n",
    "    \"\"\"\n",
    "    Methode d'evaluation du polynôme P(X) en X = a en suivant la méthode native du module numpy.polynomial.polynomial\n",
    "    Entree : P = liste des coefficients du polynôme P(X), ordre des degrés croissant\n",
    "             a = valeur de X à évaluer     \n",
    "    Sortie : valeur du polynôme P en a\n",
    "    \"\"\"     \n",
    "    return poly.polyval(a, P)\n",
    "\n"
   ]
  },
  {
   "cell_type": "markdown",
   "metadata": {},
   "source": [
    "\n",
    "<div class=\"alert alert-success\"><font color=\"black\" face=\"Times\" size=\"3\">Vérification des résultats avec $P(x) = 1 + 2x + 3x^2 + 4x^3 + 5x^4$ et $a=5$</font></div>\n"
   ]
  },
  {
   "cell_type": "code",
   "execution_count": null,
   "metadata": {},
   "outputs": [],
   "source": [
    "\n",
    "# Calcul\n",
    "PolPolyval = EvalPython(pol5, a)\n",
    "\n",
    "# Affichage des résultats\n",
    "PolPolyval\n",
    "\n"
   ]
  },
  {
   "cell_type": "markdown",
   "metadata": {},
   "source": [
    "\n",
    "<h3 id=\"Exercice-5.\">Exercice 5.<a class=\"anchor-link\" href=\"#Exercice-5.\">¶</a></h3><p>On définit un polynôme $P$ dont :<br/>\n",
    "— le degré $n$ varie de 1 à $nmax$.<br/>\n",
    "— les coefficients $a_k$ (avec $k$ variant de 0 à $n$) sont choisis aléatoirement dans l’intervalle $[0,1]$.<br/>\n",
    "Pour cela on pourra simplement définir la fonction suivante :<br/>\n",
    "<code>def PolyAlea(d):</code><br/>\n",
    "  <code>return [rd.random() for i in range(d+1)]</code><br/>\n",
    "qui construit un tel polynôme.<br/></p>\n",
    "<p>On cherche à comparer les temps de réponse, en fonction du degré de $P$, des trois méthodes précédentes d’évaluation (naïve, native (<code>polyval</code>) et Hörner) en une valeur $x$ choisie aussi aléatoirement.<br/></p>\n",
    "<ol>\n",
    "<li><p>Construire une fonction <code>TempsEval()</code> qui prend en entrée un entier $n$ supérieur à 1 et qui renvoie les trois graphiques, pour les trois évaluations différentes, le temps de calcul pour un polynôme aléatoire de degré $1 \\le d \\le n$ en fonction du degré.<br/> Pour mesurer le temps de calcul utiliser la fonction <code>perf_counter()</code> du module <code>time</code> qui est utilisée selon le modèle ci-dessous.<br/><br/> <code>import time</code><br/> <code>debut = time.perf_counter()</code><br/>   <code>action à exécuter et à mesurer</code><br/> <code>fin = time.perf_counter()</code><br/> <code>print(fin - debut)</code><br/><br/></p>\n",
    "</li>\n",
    "<li><p>Appliquer la fonction de lissage de courbe <code>LisserTabIter()</code> du TD précédent pour régulariser l’affichage des trois courbes.</p>\n",
    "</li>\n",
    "</ol>\n"
   ]
  },
  {
   "cell_type": "markdown",
   "metadata": {},
   "source": [
    "\n",
    "<div class=\"alert alert-success\"><b><font color=\"black\" face=\"Times\" size=\"3\">Réponses</font></b> :<br/><br/>\n",
    "<font color=\"black\" face=\"Times\" size=\"3\">1. Code de la fonction <font color=\"black\" face=\"Courier\" size=\"3\">TempsEval()</font></font>\n",
    "</div>\n"
   ]
  },
  {
   "cell_type": "code",
   "execution_count": null,
   "metadata": {},
   "outputs": [],
   "source": [
    "\n",
    "def PolyAlea(d):\n",
    "    \"\"\"\n",
    "    Construction d'un polynome à coefficients aléatoires de degré d\n",
    "    \"\"\"      \n",
    "    return [rd.random() for i in range(d+1)]\n",
    "\n"
   ]
  },
  {
   "cell_type": "code",
   "execution_count": null,
   "metadata": {},
   "outputs": [],
   "source": [
    "\n",
    "def TempsEval(n):\n",
    "    \"\"\"\n",
    "    Comparaison des couts d'evaluation de polynome par les 3 methodes (naïve, native (polyval) et Hörner)\n",
    "    pour des degres <= n\n",
    "    \"\"\"\n",
    "    # Initialisation\n",
    "    x = np.random.rand() # x = rd.random()\n",
    "    T1, T2, T3 = [], [], []\n",
    "    \n",
    "    # Calculs\n",
    "    for d in range(n+1):\n",
    "        # P = PolyAlea(d)       # génération du polynome P a coefficients aleatoires\n",
    "        P = np.random.rand(n+1)\n",
    "        \n",
    "        t1 = time.perf_counter()     # prise de chrono\n",
    "        r = EvalNaif(P, x)    # Evaluation naturelle\n",
    "        t2 = time.perf_counter()     # prise de chrono\n",
    "        T1.append(t2-t1)         # Sauvegarde du temps d evaluation pour la methode naturelle dans T1\n",
    "\n",
    "        t1 = time.perf_counter()     # prise de chrono\n",
    "        r = EvalHorner(P, x)  # Evaluation par la methode de Horner\n",
    "        t2 = time.perf_counter()     # prise de chrono\n",
    "        T2.append(t2-t1)        # Sauvegarde du temps d evaluation pour la methode de Horner dans T2\n",
    "\n",
    "        t1 = time.perf_counter()     # prise de chrono\n",
    "        r = EvalPython(P, x)  # Evaluation native\n",
    "        t2 = time.perf_counter()     # prise de chrono\n",
    "        T3.append(t2-t1)         # Sauvegarde du temps d evaluation pour la methode native dans T3\n",
    "\n",
    "    # Affichage graphique\n",
    "    deg = list(range(n+1))          # intervalle d'abscisses des degres de polynome <= n\n",
    "    plt.figure(figsize=(18,10))\n",
    "    plt.plot(deg, T1, label='Naïf')\n",
    "    plt.plot(deg, T2, label='Hörner')\n",
    "    plt.plot(deg, T3, label='Native')\n",
    "    texte = r'CN4 - Exercice 5.1 : comparaison du cout d évaluation de polynome par méthode'\n",
    "    plt.title(texte, fontsize=10, pad=15)\n",
    "    plt.xlabel('degré'); plt.ylabel('temps')    \n",
    "    plt.legend(loc='best');\n",
    "\n"
   ]
  },
  {
   "cell_type": "code",
   "execution_count": null,
   "metadata": {},
   "outputs": [],
   "source": [
    "\n",
    "TempsEval(2500)\n",
    "\n"
   ]
  },
  {
   "cell_type": "markdown",
   "metadata": {},
   "source": [
    "\n",
    "<div class=\"alert alert-success\">\n",
    "<font color=\"black\" face=\"Times\" size=\"3\">2. Application de la fonction de lissage de courbe <font color=\"black\" face=\"Courier\" size=\"3\">LisserTabIter()</font></font>\n",
    "</div>\n"
   ]
  },
  {
   "cell_type": "code",
   "execution_count": null,
   "metadata": {},
   "outputs": [],
   "source": [
    "\n",
    "def LisserTab(T,p):\n",
    "    \"\"\"\n",
    "    Moyennes mobiles sur 2*p+1 éléments\n",
    "    C'est à dire p avant et p après l'élément courant\n",
    "    Sauf pour les premiers et les derniers où il y en a moins\n",
    "\n",
    "    Celà exige que 2*p+1 <= n\n",
    "    \"\"\"\n",
    "    # Initialisation\n",
    "    n = len(T);\n",
    "    # Création du nouveau tableau contenant des 0 de la bonne taille\n",
    "    U = [0]*n\n",
    "\n",
    "    # Test du cas particulier où il n'y a rien à faire\n",
    "    if 2*p+1 > n:\n",
    "        return T\n",
    "    else:\n",
    "        for i in range(n):\n",
    "            # Comptage du nombre de termes avant le terme t_i\n",
    "            nb_avant = max(0, i-p)\n",
    "            # Comptage du nombre de termes après le terme t_i\n",
    "            nb_apres = min(n, i+p+1)\n",
    "            # Calcul des termes du nouveau tableau par sommation\n",
    "            #U[i] = sum( T[k] for k in range(nb_avant, nb_apres) ) / (nb_apres-nb_avant)\n",
    "            U[i] = np.mean(T[nb_avant:nb_apres])\n",
    "    \n",
    "    return U\n",
    "\n"
   ]
  },
  {
   "cell_type": "code",
   "execution_count": null,
   "metadata": {},
   "outputs": [],
   "source": [
    "\n",
    "def LisserTabIter(T, p, m):\n",
    "    # Initialisation\n",
    "    TabLisse = T\n",
    "    # Calcul\n",
    "    for i in range(0, m):\n",
    "        TabLisse = LisserTab(TabLisse, p)\n",
    "    \n",
    "    return TabLisse\n",
    "\n"
   ]
  },
  {
   "cell_type": "code",
   "execution_count": null,
   "metadata": {},
   "outputs": [],
   "source": [
    "\n",
    "def TempsEvalLisse(nmax):\n",
    "    \"\"\"\n",
    "    Comparaison des couts d'evaluation de polynome par les 3 methodes \n",
    "    (naïve, native (polyval) et Hörner)\n",
    "    pour des degres <= nmax et lissage des graphes\n",
    "    \"\"\"    \n",
    "    # Initialisations\n",
    "    nmin, nmax, npas = 1, nmax, 1\n",
    "    N = range(nmin, nmax, npas)\n",
    "    T1, T2, T3 = [], [], []\n",
    "\n",
    "    # Calcul\n",
    "    for n in N:\n",
    "        pol = np.random.rand(n+1) # generation du vecteur des n coeffs des polynomes\n",
    "        x = np.random.rand() # generation aleatoire du scalaire x\n",
    "        #pol = PolyAlea(n+1) # de maniere surprenante, cette initialisation pénalise fortement Horner ?!\n",
    "        #x = rd.random()\n",
    "\n",
    "        deb = time.perf_counter()\n",
    "        z1 = EvalNaif(pol,x)\n",
    "        fin = time.perf_counter()\n",
    "        #T1.append(fin - deb)\n",
    "        T1 += [fin - deb]\n",
    "\n",
    "        deb = time.perf_counter()\n",
    "        z2 = EvalPython(pol,x)\n",
    "        fin = time.perf_counter()\n",
    "        #T2.append(fin - deb)\n",
    "        T2 += [fin - deb]\n",
    "\n",
    "        deb = time.perf_counter()\n",
    "        z3 = EvalHorner(pol,x)\n",
    "        fin = time.perf_counter()\n",
    "        #T3.append(fin - deb)\n",
    "        T3 += [fin - deb]\n",
    "\n",
    "    plt.figure(figsize=(20,8))\n",
    "    #p, m = 20, 3\n",
    "    TempsNaif = LisserTabIter(T1, 1, nmax//2)\n",
    "    TempsHorner = LisserTabIter(T2, 1, nmax//2)\n",
    "    TempsNatif = LisserTabIter(T3, 1, nmax//2)\n",
    "\n",
    "    plt.plot(N,TempsNaif,'-r',label='Naif')\n",
    "    Z = poly.polyfit(N,TempsNaif,1)\n",
    "    #plt.plot(N,np.polyval(Z[::-1],N),':k')\n",
    "    plt.plot(N,poly.polyval(list(N),Z),':k')\n",
    "\n",
    "    plt.plot(N,TempsNatif,'-b',label='Natif (polyval)')\n",
    "    Z = poly.polyfit(N,TempsNatif,1)\n",
    "    plt.plot(N,poly.polyval(list(N),Z),':k')\n",
    "\n",
    "    plt.plot(N,TempsHorner,'-g',label='Horner')   \n",
    "    Z = poly.polyfit(N,TempsHorner,1)\n",
    "    plt.plot(N,poly.polyval(list(N),Z),':k')\n",
    "\n",
    "    texte = r'CN4 - Exercice 5.2 : comparaison lissée du cout d évaluation de polynome par méthode'\n",
    "    plt.title(texte,fontsize=10, pad=15)\n",
    "    plt.xlabel('degré'); plt.ylabel('temps')    \n",
    "    plt.legend(loc='best');\n",
    "\n"
   ]
  },
  {
   "cell_type": "code",
   "execution_count": null,
   "metadata": {},
   "outputs": [],
   "source": [
    "\n",
    "TempsEvalLisse(2000)\n",
    "\n"
   ]
  },
  {
   "cell_type": "markdown",
   "metadata": {},
   "source": [
    "\n",
    "<p>La version native de l'évaluation d'un polynôme est logiquement la plus performante, son coût reste proche du temps d'évaluation par la méthode de Hörner. Par contre, le ratio de performance avec l'évaluation naturelle est de 1/2 comme suggéré par l'exemple d'illustration d'un coût élémentaire.</p>\n"
   ]
  },
  {
   "cell_type": "markdown",
   "metadata": {},
   "source": [
    "\n",
    "<p><a id=\"Exo4\"></a></p><div align=\"right\"><a href=\"#top\">Haut du document</a></div>\n"
   ]
  },
  {
   "cell_type": "markdown",
   "metadata": {},
   "source": [
    "\n",
    "<div class=\"alert alert-info\">\n",
    "<font color=\"black\" size=\"5\"><b>4. Dérivation d’un polynôme</b></font>\n",
    "</div>\n"
   ]
  },
  {
   "cell_type": "markdown",
   "metadata": {},
   "source": [
    "\n",
    "<h3 id=\"Exercice-6.\">Exercice 6.<a class=\"anchor-link\" href=\"#Exercice-6.\">¶</a></h3><p>On s’intéresse ici au calcul de la dérivée <i>m-ième</i> d’une fonction polynomiale de la forme <br/><br/></p><center>$P : x \\mapsto P(x) = \\sum_{k=0}^{n} a_k x^k$ </center> <br/> représentée par la matrice ligne de ses coefficients <br/><center>$[a_0, ..,a_n]$</center><br/> En vertu du fait que <br/><center> $\\forall k \\in \\mathbb{N}^*, P^{(k)} = (\n",
    "P(k^{-1}))'$ </center><br/> on commence par s’intéresser au calcul de la dérivée première d’une fonction polynomiale.<br/>\n",
    "<ol>\n",
    "<li><p>Quelques exemples.<br/>\n",
    " a. Soit $P(x) = 1+ 3x^2$. Donner la matrice qui représente $P$, celle qui représente $P'$.<br/>\n",
    " b. Soit maintenant la fonction polynomiale $P(x) = \\sum_{k=0}^{4} a_k x^k$ représentée par $[a_0, a_1, a_2, a_3, a_4]$. Donner la matrice ligne qui représente $P'$.<br/><br/></p>\n",
    "</li>\n",
    "<li><p>Construire une fonction <code>Derive()</code> qui prend en entrée une fonction polynomiale $P$ sous la forme de la matrice ligne de ses coefficients et qui renvoie $P'$, toujours sous forme de la matrice ligne de ses coefficients.<br/><br/></p>\n",
    "</li>\n",
    "<li><p>Vérifier que l’appel <code>Derive(P)</code> avec $P(x) = 1 + x + 2x^2 + 3x^3 + 4x^4$ renvoie bien la bonne expression de $P'$.<br/><br/></p>\n",
    "</li>\n",
    "<li><p>En déduire une fonction itérative <code>DeriveMultiple()</code> qui prend en entrée une fonction polynomiale $P$ sous la forme de la matrice ligne de ses coefficients et un entier $m$ et qui renvoie $P^{(m)}$, toujours sous forme de la matrice ligne de ses coefficients.<br/><br/></p>\n",
    "</li>\n",
    "<li><p>Vérifier que l’appel <code>DeriveMultiple(P,3)</code> avec $P(x) = 1 + x + 2x^2 + 3x^3 + 4x^4$ renvoie bien la bonne expression de $P'''$.<br/><br/></p>\n",
    "</li>\n",
    "<li><p>Vérifier que l’appel <code>DeriveMultiple(P,7)</code> avec $P(x) = 1 + x + 2x^2 + 3x^3 + 4x^4$ renvoie bien 0.<br/><br/></p>\n",
    "</li>\n",
    "<li><p>Construire une fonction <code>DeriveMultipleR</code> récursive qui a la même action que <code>DeriveMultiple</code>.</p>\n",
    "</li>\n",
    "</ol>\n"
   ]
  },
  {
   "cell_type": "markdown",
   "metadata": {},
   "source": [
    "\n",
    "<div class=\"alert alert-success\"><b><font color=\"black\" face=\"Times\" size=\"3\">Réponses</font></b> :<br/><br/>\n",
    "<font color=\"black\" face=\"Times\" size=\"3\">1.a    $P=[1, 0, 3]$ et $P'=[0, 6]$<br/>1.b.   $P'=[a_1, 2a_2, 3a_3, 4a_4]$<br/></font><br/>\n",
    "<font color=\"black\" face=\"Times\" size=\"3\">2. Code de la fonction <font color=\"black\" face=\"Courier\" size=\"3\">Derive()</font></font>\n",
    "</div>\n"
   ]
  },
  {
   "cell_type": "code",
   "execution_count": null,
   "metadata": {},
   "outputs": [],
   "source": [
    "\n",
    "def Derive(P):\n",
    "    \"\"\"\n",
    "    Calcul du vecteur des coefficients du polynome dérivé de P(X) = a0 + a1*X + .. + an*X^n\n",
    "    Entree : P = vecteur de longueur n des coefficients du polynome\n",
    "    Sortie : D = vecteur de longueur n-1 des coefficients du polynome dérivé\n",
    "    \"\"\"      \n",
    "    # Initialisation\n",
    "    n = len(P)\n",
    "    # Copy de P dans D, la future dérivée\n",
    "    D = P.copy()\n",
    "    \n",
    "    # Calculs\n",
    "    # Cas où deg(P)=0, c'est un polynome constant P(X) = a0\n",
    "    if len(P) == 1:\n",
    "        return np.array([0])\n",
    "    else:\n",
    "        D = np.zeros( (n-1) )  # Le vecteur des coefficients comporte n-1 éléments (n dans l'exemple littéral)\n",
    "        # Dérivation\n",
    "        for k in range(n-1):\n",
    "            D[k] = P[k+1] * (k+1)  # produit les termes k*ak pour k de 1 à n pour les ranger aux indices 0 à n-1\n",
    "            \n",
    "    return D\n",
    "\n"
   ]
  },
  {
   "cell_type": "markdown",
   "metadata": {},
   "source": [
    "\n",
    "<div class=\"alert alert-success\"><font color=\"black\" face=\"Times\" size=\"3\">3. Vérification <font face=\"Courier\">Derive()</font> avec $P(x) = 1 + x + 2x^2 + 3x^3 + 4x^4$</font></div>\n"
   ]
  },
  {
   "cell_type": "code",
   "execution_count": null,
   "metadata": {},
   "outputs": [],
   "source": [
    "\n",
    "pol6 = [1, 1, 2, 3, 4]\n",
    "Derive(pol6)\n",
    "\n"
   ]
  },
  {
   "cell_type": "markdown",
   "metadata": {},
   "source": [
    "\n",
    "<div class=\"alert alert-success\">\n",
    "<font color=\"black\" face=\"Times\" size=\"3\">Autre variante de fonction <font color=\"black\" face=\"Courier\" size=\"3\">DeriveBis()</font></font>\n",
    "</div>\n"
   ]
  },
  {
   "cell_type": "code",
   "execution_count": null,
   "metadata": {},
   "outputs": [],
   "source": [
    "\n",
    "def DeriveBis(P):\n",
    "    \"\"\"\n",
    "    Autre version de calcul du vecteur des coefficients du polynome dérivé de P(X) = a0 + a1*X + .. + an*X^n\n",
    "    Entree : P = vecteur de longueur n des coefficients du polynome\n",
    "    Sortie : D = vecteur de longueur n-1 des coefficients du polynome dérivé    \n",
    "    \"\"\"     \n",
    "    # Initialisation    \n",
    "    n = len(P)\n",
    "    # Copy de P dans D, la future dérivée\n",
    "    D = P.copy()\n",
    "    \n",
    "    # Calculs\n",
    "    # Cas où deg(P)=0, c'est un polynome constant P(X) = a0\n",
    "    if len(P) == 1:\n",
    "        return np.array([0])\n",
    "    else:\n",
    "        # Dérivation\n",
    "        for k in range(n):\n",
    "            D[k] = D[k]*k  # produit les termes k*ak pour k de 0 à n-1 pour les ranger aux indices 0 à n-1\n",
    "        # Décalage des coefficients\n",
    "        D = D[1:]  # On retire le coefficient nul issu de la dérivation du terme constant !\n",
    "    return D\n",
    "\n"
   ]
  },
  {
   "cell_type": "code",
   "execution_count": null,
   "metadata": {},
   "outputs": [],
   "source": [
    "\n",
    "pol6 = [1, 1, 2, 3, 4]\n",
    "DeriveBis(pol6)\n",
    "\n"
   ]
  },
  {
   "cell_type": "markdown",
   "metadata": {},
   "source": [
    "\n",
    "<div class=\"alert alert-success\">\n",
    "<font color=\"black\" face=\"Times\" size=\"3\">4. Code de la fonction <font color=\"black\" face=\"Courier\" size=\"3\">DeriveMultiple()</font></font>\n",
    "</div>\n"
   ]
  },
  {
   "cell_type": "code",
   "execution_count": null,
   "metadata": {},
   "outputs": [],
   "source": [
    "\n",
    "def DeriveMultiple(P, m):\n",
    "    \"\"\"\n",
    "    Calcul du vecteur des coefficients du polynome dérivé d'ordre m de P(X) = a0 + a1*X + .. + an*X^n\n",
    "    Entree : P = vecteur de longueur n des coefficients du polynome\n",
    "    Sortie : P = vecteur du polynome dérivé  m fois     \n",
    "    \"\"\"\n",
    "\n",
    "    # Copy de P dans D, la future dérivée\n",
    "    D = P.copy()\n",
    "    \n",
    "    if len(D) == 1:\n",
    "        return np.array([0])\n",
    "    else:\n",
    "        for i in range(1, m+1):  # On fait appel m fois à la fonction Derive() en utilisant la meme variable \n",
    "            D = Derive(D)\n",
    "    return D\n",
    "\n"
   ]
  },
  {
   "cell_type": "markdown",
   "metadata": {},
   "source": [
    "\n",
    "<div class=\"alert alert-success\">\n",
    "<font color=\"black\" face=\"Times\" size=\"3\">5. Vérification des résultats avec $P(x) = 1 + x + 2x^2 + 3x^3 + 4x^4$ et <font color=\"black\" face=\"Courier\" size=\"3\">DeriveMultiple(P,3)</font></font>\n",
    "</div>\n"
   ]
  },
  {
   "cell_type": "code",
   "execution_count": null,
   "metadata": {},
   "outputs": [],
   "source": [
    "\n",
    "pol6 = [1, 1, 2, 3, 4]\n",
    "DeriveMultiple(pol6, 3)\n",
    "\n"
   ]
  },
  {
   "cell_type": "markdown",
   "metadata": {},
   "source": [
    "\n",
    "<div class=\"alert alert-success\">\n",
    "<font color=\"black\" face=\"Times\" size=\"3\">6. Vérification des résultats avec $P(x) = 1 + x + 2x^2 + 3x^3 + 4x^4$ et <font color=\"black\" face=\"Courier\" size=\"3\">DeriveMultiple(P,7)</font></font>\n",
    "</div>\n"
   ]
  },
  {
   "cell_type": "code",
   "execution_count": null,
   "metadata": {},
   "outputs": [],
   "source": [
    "\n",
    "pol6 = [1, 1, 2, 3, 4]\n",
    "DeriveMultiple(pol6, 7)\n",
    "\n"
   ]
  },
  {
   "cell_type": "markdown",
   "metadata": {},
   "source": [
    "\n",
    "<p>Logiquement, il ne reste plus de termes après une dérivée 7ème.</p>\n"
   ]
  },
  {
   "cell_type": "markdown",
   "metadata": {},
   "source": [
    "\n",
    "<div class=\"alert alert-success\">\n",
    "<font color=\"black\" face=\"Times\" size=\"3\">7. Code de la fonction <font color=\"black\" face=\"Courier\" size=\"3\">DeriveMultipleR()</font></font>\n",
    "</div>\n"
   ]
  },
  {
   "cell_type": "code",
   "execution_count": null,
   "metadata": {},
   "outputs": [],
   "source": [
    "\n",
    "def DeriveMultipleR(P, m):\n",
    "    \"\"\"\n",
    "    Version récursive de calcul du vecteur des coefficients du polynome dérivé d'ordre m de P\n",
    "    Entree : P = vecteur de longueur n des coefficients du polynome\n",
    "    Sortie : D = vecteur du polynome dérivé  m fois     \n",
    "    \"\"\"\n",
    "    \n",
    "    if m == 0:\n",
    "        return P\n",
    "    else:\n",
    "        return Derive(DeriveMultipleR(P, m-1)) # applique la fonction Derive m fois \n",
    "\n",
    "# au 2nd appel, on a Derive(Derive(DeriveMultipleR(P, m-2))), etc ...\n",
    "\n"
   ]
  },
  {
   "cell_type": "markdown",
   "metadata": {},
   "source": [
    "\n",
    "<div class=\"alert alert-success\">\n",
    "<font color=\"black\" face=\"Times\" size=\"3\">Vérification des résultats</font>\n",
    "</div>\n"
   ]
  },
  {
   "cell_type": "code",
   "execution_count": null,
   "metadata": {},
   "outputs": [],
   "source": [
    "\n",
    "pol6 = [1, 1, 2, 3, 4]\n",
    "print(DeriveMultipleR(pol6, 3))\n",
    "print(DeriveMultipleR(pol6, 7))\n",
    "\n"
   ]
  },
  {
   "cell_type": "markdown",
   "metadata": {},
   "source": [
    "\n",
    "<p><a id=\"Exo5\"></a></p><div align=\"right\"><a href=\"#top\">Haut du document</a></div>\n"
   ]
  },
  {
   "cell_type": "markdown",
   "metadata": {},
   "source": [
    "\n",
    "<div class=\"alert alert-info\">\n",
    "<font color=\"black\" size=\"5\"><b>5. Polynômes de Legendre</b></font>\n",
    "</div>\n"
   ]
  },
  {
   "cell_type": "markdown",
   "metadata": {},
   "source": [
    "\n",
    "<h3 id=\"Exercice-7.\">Exercice 7.<a class=\"anchor-link\" href=\"#Exercice-7.\">¶</a></h3><p>On considère la suite des polynômes de Legendre définis sur $[-1,1]$ par l’une des deux définitions équivalentes suivantes :<br/>\n",
    "<b>(D1)</b>  $\\forall n \\in$ <font face=\"Castellar\" size=\"3\">N</font>, $L_n(x)=\\frac{1} {2^n n!} \\frac{d^n} {dx^n (x^2-1)^n}$<br/><br/>\n",
    "<b>(D2)</b>  \n",
    "$\n",
    " \\left\\{\n",
    "    \\begin{array}{ll}\n",
    "        L_{0}(x) = 1 \\\\\n",
    "        L_{1}(x) = x \\\\\n",
    "        \\forall n \\in N -\\{0,1\\},    nL_n(x) = (2n-1)xL_{n-1}(x)-(n-1)L_{n-2}(x)\n",
    "    \\end{array}\n",
    "\\right.\n",
    "$<br/><br/>\n",
    "<b>(D3)</b>  \n",
    "$[(1-x^2)L_n(x)] + n(n+1)L_n(x) = 0$ pour $n \\geq 0$ et $L_n(1) = 1$\n",
    "<br/>\n",
    "<br/>\n",
    "Pour vérification des programmes, les premiers polynômes de <b>Legendre</b> sont $L_0(x) = 1, L_1(x) = x, L_2(x) = -\\frac{1} {2} + \\frac{3} {2} x^2, L_3(x) = -\\frac{3} {2}x + \\frac{5} {2}x^3, L_4(x) = \\frac{3} {8} -\\frac{15} {4}x^2 + \\frac{35} {8}x^4$.</p>\n"
   ]
  },
  {
   "cell_type": "markdown",
   "metadata": {},
   "source": [
    "\n",
    "<ol>\n",
    "<li><p>Les polynômes de Legendre avec la définition <b>(D1)</b> : <br/>\n",
    "a) Construire, en utilisant la fonction <code>DeriveMultiple()</code> de l’exercice précédent, une fonction <code>Legendre1()</code> qui prend en entrée un entier $n$ et qui renvoie les coefficients du polynôme $L_n$ calculés avec la définition <b>(D1)</b>. Pour mémoire le calcul de la factorielle se fait avec <code>factorial()</code> après avoir fait l’import <code>from math import *</code>.<br/></p>\n",
    "<p>b) Vérifier le bon fonctionnement de <code>Legendre1()</code>.<br/></p>\n",
    "<p>c) Construire une fonction <code>Legendre1T()</code> qui prend en entrée un entier $n$ et qui renvoie une matrice $A_n$ de $n$ lignes et $m$ colonnes (à vous d’estimer $m$), dont la ligne numéro $n$ contient les coefficients du polynôme $L_n$, complétée éventuellement par des 0, calculés avec la définition <b>(D1)</b>.<br/></p>\n",
    "<p>d) Vérifier que l’appel <code>Legendre1T(4)</code> renvoie<br/>\n",
    "<font face=\"Courier New\">array([[ 1. , 0. , 0. , 0. , 0. ],<br/>\n",
    "       [ 0. , 1. , 0. , 0. , 0. ],<br/>\n",
    "       [-0.5 , 0. , 1.5 , 0. , 0. ],<br/>\n",
    "       [ 0. , -1.5 , 0. , 2.5 , 0. ],<br/>\n",
    "       [ 0.375, 0. , -3.75 , 0. , 4.375]])</font><br/><br/></p>\n",
    "</li>\n",
    "<li><p>Les polynômes de Legendre avec la définition <b>(D2)</b> :<br/>\n",
    "a) Construire une fonction <code>Legendre2()</code> qui prend en entrée un entier $n$ et qui renvoie les coefficients du polynôme $L_n$ calculés avec la définition <b>(D2)</b>. On remarquera que la définition <b>(D2)</b> se prête bien à une programmation récursive.<br/></p>\n",
    "<p>b) Construire une fonction <code>Legendre2T()</code> qui prend en entrée un entier $n$ et qui renvoie une matrice $A_n$ de $n$ lignes et $m$ colonnes (à vous d’estimer $m$), dont la ligne numéro $n$ contient les coefficients du polynôme $L_n$, complétée éventuellement par des 0, calculés avec la définition <b>(D2)</b>.<br/></p>\n",
    "<p>c) Vérifier que l’appel <code>Legendre2T(4)</code> renvoie <br/>\n",
    "<font face=\"Courier New\">array([[ 1. , 0. , 0. , 0. , 0. ],<br/>\n",
    "       [ 0. , 1. , 0. , 0. , 0. ],<br/>\n",
    "       [-0.5 , 0. , 1.5 , 0. , 0. ],<br/>\n",
    "       [ 0. , -1.5 , 0. , 2.5 , 0. ],<br/>\n",
    "       [ 0.375, 0. , -3.75 , 0. , 4.375]]).</font><br/><br/></p>\n",
    "</li>\n",
    "<li><p>Écrire une fonction Python qui, à partir de la matrice $A_n$, donne les représentations graphiques des polynômes de Legendre d’indice inférieur ou égal à $n$ sur l’intervalle $[-1,1]$.<br/><br/></p>\n",
    "</li>\n",
    "<li><p>Tester également ce que donne la fonction native <code>from scipy.special import legendre</code>.</p>\n",
    "</li>\n",
    "</ol>\n"
   ]
  },
  {
   "cell_type": "markdown",
   "metadata": {},
   "source": [
    "\n",
    "<div class=\"alert alert-success\"><b><font color=\"black\" face=\"Times\" size=\"3\">Réponses</font></b> :<br/><br/>\n",
    "<font color=\"black\" face=\"Times\" size=\"3\">1.a   Code de la fonction <font color=\"black\" face=\"Courier\" size=\"3\">Legendre1()</font></font>\n",
    "</div>\n"
   ]
  },
  {
   "cell_type": "code",
   "execution_count": null,
   "metadata": {},
   "outputs": [],
   "source": [
    "\n",
    "def Legendre1(n):\n",
    "    \"\"\"\n",
    "    Calcul des polynomes de Legendre Ln d'apres (D1)\n",
    "    Entree : n = entier\n",
    "    Sortie : Coefficients du polynome Ln\n",
    "    \"\"\"  \n",
    "    if n == 0:\n",
    "        return np.array([1])\n",
    "    else:\n",
    "        # Polynôme P(x) = x^2-1\n",
    "        P = np.array([-1, 0, 1])  # coefficient de P dans l'ordre croissant\n",
    "        \n",
    "        # Polynôme (x^2-1)^n\n",
    "        Q = DeveloppeR(P, n)\n",
    "        \n",
    "        # Dérivée n-ième\n",
    "        R = DeriveMultiple(Q, n)\n",
    "        \n",
    "        return 1/(2**n*factorial(n))*R\n",
    "\n"
   ]
  },
  {
   "cell_type": "markdown",
   "metadata": {},
   "source": [
    "\n",
    "<div class=\"alert alert-success\">\n",
    "<font color=\"black\" face=\"Times\" size=\"3\">1.b   Vérifications</font>\n",
    "</div>\n"
   ]
  },
  {
   "cell_type": "code",
   "execution_count": null,
   "metadata": {},
   "outputs": [],
   "source": [
    "\n",
    "print('L0 =', Legendre1(0))\n",
    "print('L1 =', Legendre1(1))\n",
    "print('L2 =', Legendre1(2))\n",
    "print('L3 =', Legendre1(3))\n",
    "print('L4 =', Legendre1(4))\n",
    "\n"
   ]
  },
  {
   "cell_type": "markdown",
   "metadata": {},
   "source": [
    "\n",
    "<div class=\"alert alert-success\">\n",
    "<font color=\"black\" face=\"Times\" size=\"3\">1.c   Code de la fonction <font color=\"black\" face=\"Courier\" size=\"3\">Legendre1T()</font></font>\n",
    "</div>\n"
   ]
  },
  {
   "cell_type": "code",
   "execution_count": null,
   "metadata": {},
   "outputs": [],
   "source": [
    "\n",
    "def Legendre1T(n):\n",
    "    \"\"\"\n",
    "    Calcul des polynomes de Legendre L0 à Ln d'apres (D1) sous forme de matrice\n",
    "    Entree : n = entier\n",
    "    Sortie : Matrice des coefficients des polynomes L0 à Ln    \n",
    "    \"\"\"    \n",
    "    A = np.zeros((n+1,n+1))\n",
    "    for i in range(n+1):\n",
    "        A[i:] = np.concatenate((Legendre1(i),np.zeros(n-i)))\n",
    "    \n",
    "    return A\n",
    "\n"
   ]
  },
  {
   "cell_type": "markdown",
   "metadata": {},
   "source": [
    "\n",
    "<div class=\"alert alert-success\">\n",
    "<font color=\"black\" face=\"Times\" size=\"3\">1.d   Vérifications</font>\n",
    "</div>\n"
   ]
  },
  {
   "cell_type": "code",
   "execution_count": null,
   "metadata": {},
   "outputs": [],
   "source": [
    "\n",
    "Legendre1T(4)\n",
    "\n"
   ]
  },
  {
   "cell_type": "markdown",
   "metadata": {},
   "source": [
    "\n",
    "<div class=\"alert alert-success\">\n",
    "<font color=\"black\" face=\"Times\" size=\"3\">2.a   Code de la fonction <font color=\"black\" face=\"Courier\" size=\"3\">Legendre2()</font></font>\n",
    "</div>\n"
   ]
  },
  {
   "cell_type": "code",
   "execution_count": null,
   "metadata": {},
   "outputs": [],
   "source": [
    "\n",
    "def Legendre2(n):\n",
    "    \"\"\"\n",
    "    Calcul des polynomes de Legendre Ln d'apres (D2)\n",
    "    \"\"\"     \n",
    "    if n == 0:\n",
    "        return np.array([1])\n",
    "    elif n == 1:\n",
    "        return np.array([0,1])\n",
    "    else :\n",
    "        return (2*n-1)/n*np.concatenate((np.array([0]), Legendre2(n-1))) - \\\n",
    "        (n-1)/n*np.concatenate((Legendre2(n-2), np.array([0,0])))\n",
    "\n"
   ]
  },
  {
   "cell_type": "markdown",
   "metadata": {},
   "source": [
    "\n",
    "<div class=\"alert alert-success\">\n",
    "<font color=\"black\" face=\"Times\" size=\"3\">   Vérifications</font>\n",
    "</div>\n"
   ]
  },
  {
   "cell_type": "code",
   "execution_count": null,
   "metadata": {},
   "outputs": [],
   "source": [
    "\n",
    "print('L0 =', Legendre2(0))\n",
    "print('L1 =', Legendre2(1))\n",
    "print('L2 =', Legendre2(2))\n",
    "print('L3 =', Legendre2(3))\n",
    "print('L4 =', Legendre2(4))\n",
    "\n"
   ]
  },
  {
   "cell_type": "markdown",
   "metadata": {},
   "source": [
    "\n",
    "<div class=\"alert alert-success\">\n",
    "<font color=\"black\" face=\"Times\" size=\"3\">2.b   Code de la fonction <font color=\"black\" face=\"Courier\" size=\"3\">Legendre2T()</font></font>\n",
    "</div>\n"
   ]
  },
  {
   "cell_type": "code",
   "execution_count": null,
   "metadata": {},
   "outputs": [],
   "source": [
    "\n",
    "def Legendre2T(n):\n",
    "    \"\"\"\n",
    "    Calcul des polynomes de Legendre L0 à Ln d'apres (D2) sous forme de matrice\n",
    "    \"\"\" \n",
    "    A = np.zeros((n+1, n+1))\n",
    "    for i in range(n+1):\n",
    "        A[i:] = np.concatenate((Legendre2(i), np.zeros(n-i)))\n",
    "        \n",
    "    return A\n",
    "\n"
   ]
  },
  {
   "cell_type": "markdown",
   "metadata": {},
   "source": [
    "\n",
    "<div class=\"alert alert-success\">\n",
    "<font color=\"black\" face=\"Times\" size=\"3\">2.c   Vérifications</font>\n",
    "</div>\n"
   ]
  },
  {
   "cell_type": "code",
   "execution_count": null,
   "metadata": {},
   "outputs": [],
   "source": [
    "\n",
    "print('L0 =', Legendre2T(0))\n",
    "print('\\nL1 =', Legendre2T(1))\n",
    "print('\\nL2 =', Legendre2T(2))\n",
    "print('\\nL3 =', Legendre2T(3))\n",
    "print('\\nL4 =', Legendre2T(4))\n",
    "\n"
   ]
  },
  {
   "cell_type": "markdown",
   "metadata": {},
   "source": [
    "\n",
    "<div class=\"alert alert-success\">\n",
    "<font color=\"black\" face=\"Times\" size=\"3\">3.   Représentation graphique des polynomes de <i><b>Legendre</b></i></font>\n",
    "</div>\n"
   ]
  },
  {
   "cell_type": "code",
   "execution_count": null,
   "metadata": {},
   "outputs": [],
   "source": [
    "\n",
    "def GraphLegendre(n):\n",
    "    \"\"\"\n",
    "    Représentation graphique des polynômes de Legendre d’indice inférieur ou égal à 𝑛\n",
    "    \"\"\"     \n",
    "    # Initialisation\n",
    "    x = np.linspace(-1, 1, 100)  # intervalle d'abscisses [-1,1]\n",
    "    # Calcul\n",
    "    A = Legendre2T(n)            # matrice des coefficients (en ligne) des polynomes de Legendre Li, i<=n\n",
    "    \n",
    "    # Affichage graphique\n",
    "    plt.figure(figsize=(12,6))\n",
    "    for i in range(n+1):\n",
    "        y = poly.polyval(x, A[i,:]) # Evaluation des polynomes Li de la matrice A\n",
    "        plt.plot(x,y,label=r'$L_'+str(i)+'$')               # sans option pour que chaque graphe porte une couleur différente\n",
    "\n",
    "    texte = r'CN4 - Exercice 7. : Polynomes de Legendre'\n",
    "    plt.title(texte, fontsize=10, pad=15)\n",
    "    plt.xlabel(r'$x$'); plt.ylabel(r'$y$')    \n",
    "    plt.legend(loc='best');        \n",
    "    plt.show()\n",
    "\n"
   ]
  },
  {
   "cell_type": "code",
   "execution_count": null,
   "metadata": {},
   "outputs": [],
   "source": [
    "\n",
    "GraphLegendre(5)\n",
    "\n"
   ]
  },
  {
   "cell_type": "markdown",
   "metadata": {},
   "source": [
    "\n",
    "<div class=\"alert alert-success\">\n",
    "<font color=\"black\" face=\"Times\" size=\"3\">4.   Test avec la fonction native <font face=\"Courier\">scipy.special.legendre()</font></font>\n",
    "</div>\n"
   ]
  },
  {
   "cell_type": "code",
   "execution_count": null,
   "metadata": {},
   "outputs": [],
   "source": [
    "\n",
    "from scipy.special import legendre\n",
    "P4 = legendre(4)  # résultat de type poly1d (ordre des coefficients inverse p/r Legendre1())\n",
    "P4 = list(P4)[::-1]\n",
    "L4 = Legendre1(4)\n",
    "print('\\nDifference Legendre1() / fonction native :\\n', L4 - P4)\n",
    "\n"
   ]
  },
  {
   "cell_type": "markdown",
   "metadata": {},
   "source": [
    "\n",
    "<p><a id=\"Exo6\"></a></p><div align=\"right\"><a href=\"#top\">Haut du document</a></div>\n"
   ]
  },
  {
   "cell_type": "markdown",
   "metadata": {},
   "source": [
    "\n",
    "<div class=\"alert alert-info\">\n",
    "<font color=\"black\" size=\"5\"><b>6. Exercices plus avancés</b></font>\n",
    "</div>\n"
   ]
  },
  {
   "cell_type": "markdown",
   "metadata": {},
   "source": [
    "\n",
    "<h3 id=\"Exercice-8.\">Exercice 8.<a class=\"anchor-link\" href=\"#Exercice-8.\">¶</a></h3><p>Soit $Q \\in$ <font face=\"Castellar\" size=\"3\">R</font>$[X]$ un polynôme donné. On s’intéresse à la recherche d’un polynôme $P$ solution de l’équation différentielle $P'(X)+P(X) = Q(X)$.<br/></p>\n",
    "<ol>\n",
    "<li>Démontrer qu’il existe un unique polynôme $P$ solution de $P'(X)+P(X) = Q(X)$ et résoudre (théoriquement) le problème matriciellement.<br/></li>\n",
    "<li>Écrire un programme calculant $P$ connaissant $Q$.</li>\n",
    "</ol>\n"
   ]
  },
  {
   "cell_type": "markdown",
   "metadata": {},
   "source": [
    "\n",
    "<div class=\"alert alert-success\"><b><font color=\"black\" face=\"Times\" size=\"3\">Réponses</font></b> :<br/><br/>\n",
    "<font color=\"black\" face=\"Times\" size=\"3\">1.    Voir réponse théorique sur Campus<br/></font><br/>\n",
    "<font color=\"black\" face=\"Times\" size=\"3\">2.    Code de la fonction <font color=\"black\" face=\"Courier\" size=\"3\">Resolution()</font> traitant l'équation $P'(X)+P(X) = Q(X)$ en fonction de $Q(X)$</font>\n",
    "</div>\n"
   ]
  },
  {
   "cell_type": "code",
   "execution_count": null,
   "metadata": {},
   "outputs": [],
   "source": [
    "\n",
    "def Resolution(Q): \n",
    "    \"\"\"\n",
    "    Résoud l'équation différentielle polynomiale P + P' = Q\n",
    "    où Q est un polynôme donné.\n",
    "    \"\"\"\n",
    "    n = len(Q)\n",
    "    A = np.eye(n) + np.diag(range(n-1,0,-1), -1) # construction de la matrice bande (diag ppale et inferieure)\n",
    "    print('A=\\n', A)\n",
    "    return la.solve(A,Q)\n",
    "\n"
   ]
  },
  {
   "cell_type": "code",
   "execution_count": null,
   "metadata": {},
   "outputs": [],
   "source": [
    "\n",
    "def Derivation(P): \n",
    "    \"\"\"\n",
    "    Calcule le polynôme dérivé d'un polynôme P.\n",
    "    \"\"\"\n",
    "    n = len(P)\n",
    "    Q = np.array([0] + [(n-k-1)*P[k] for k in range(n-1)])\n",
    "    print('Q=\\n', Q)\n",
    "    return Q   # rangement adapté à l'utilisation de numpy.polyval\n",
    "\n"
   ]
  },
  {
   "cell_type": "code",
   "execution_count": null,
   "metadata": {},
   "outputs": [],
   "source": [
    "\n",
    "def Test(nmax): \n",
    "    \"\"\"\n",
    "    Teste et affiche la solution donnée par la fonction 'Resolution'\n",
    "    où P est un polynôme aléatoire\n",
    "    \"\"\"\n",
    "    n = np.random.randint(1,nmax) # tirage aleatoire d'un entier entre 1 et nmax\n",
    "    P = np.random.rand(1,n)[0]\n",
    "    print('P = ',P)\n",
    "    Q = P + Derivation(P)\n",
    "    print('Q = ',Q)\n",
    "    R = Resolution(Q)\n",
    "    print('R = ',R)\n",
    "    print('P-R = ',P-R)\n",
    "\n"
   ]
  },
  {
   "cell_type": "code",
   "execution_count": null,
   "metadata": {},
   "outputs": [],
   "source": [
    "\n",
    "Test(10)\n",
    "\n"
   ]
  },
  {
   "cell_type": "markdown",
   "metadata": {},
   "source": [
    "\n",
    "<h3 id=\"Exercice-9.\">Exercice 9.<a class=\"anchor-link\" href=\"#Exercice-9.\">¶</a></h3><p>Soit $Q$ une fonction polynomiale donnée. On s’intéresse à la recherche d’un polynôme P solution de l’équation différentielle $aP''(x)+bP'(X)+cP(X) = Q(X)$.</p>\n",
    "<ol>\n",
    "<li>Démontrer qu’il existe un unique polynôme $P$ solution de $aP''(x)+bP'(X)+cP(X) = Q(X)$ et résoudre (théoriquement) le problème matriciellement.<br/></li>\n",
    "<li>Écrire un programme calculant $P$ connaissant $Q$.</li>\n",
    "</ol>\n"
   ]
  },
  {
   "cell_type": "markdown",
   "metadata": {},
   "source": [
    "\n",
    "<div class=\"alert alert-success\"><b><font color=\"black\" face=\"Times\" size=\"3\">Réponses</font></b> :<br/><br/>\n",
    "<font color=\"black\" face=\"Times\" size=\"3\">1.    Voir réponse théorique sur Campus<br/></font><br/>\n",
    "<font color=\"black\" face=\"Times\" size=\"3\">2.    Code de la fonction <font color=\"black\" face=\"Courier\" size=\"3\">Resolution2()</font> traitant l'équation $aP''(x)+bP'(X)+cP(X) = Q(X)$  en fonction de $Q(X)$</font>\n",
    "</div>\n"
   ]
  },
  {
   "cell_type": "code",
   "execution_count": null,
   "metadata": {},
   "outputs": [],
   "source": [
    "\n",
    "def Resolution2(a,b,c,Q): \n",
    "    \"\"\"\n",
    "    Résoud l'équation différentielle polynomiale a P\" + b P' + c P = Q\n",
    "    où Q est un polynôme donné.\n",
    "    \"\"\"\n",
    "    n = len(Q)\n",
    "    P0 = np.ones(n)\n",
    "    P1 = np.polyder(P0)\n",
    "    P2 = np.polyder(P1)\n",
    "    Mat = a*np.diag(P2, -2) + b*np.diag(P1, -1) + c*np.diag(P0)\n",
    "    print('Matrice du système:\\n', Mat, '\\n')\n",
    "    \n",
    "    return la.solve(Mat,Q)\n",
    "\n"
   ]
  },
  {
   "cell_type": "code",
   "execution_count": null,
   "metadata": {},
   "outputs": [],
   "source": [
    "\n",
    "def Test2(deg, coeffmax, choix='np'): \n",
    "    \"\"\"\n",
    "    Teste et affiche la solution de l'équation a P\" + b P' + c P = Q donnée \n",
    "    par la fonction 'Resolution2' où Q est un polynôme aléatoire\n",
    "    \"\"\"\n",
    "    print(\"Exemple d'une équation de la forme\"+' a P\"'+\" + b P' + c P = Q\\n\")\n",
    "\n",
    "    P = np.random.randint(coeffmax, size=deg)-coeffmax//2\n",
    "    # P est la solution attendue\n",
    "    a, b, c = 2, 3, 4 # coefficients choisis arbitrairement (ou random)\n",
    "\n",
    "    print('Solution attendue =\\n', np.poly1d(P), '\\n')\n",
    "    P1 = Derivation(P)\n",
    "    P2 = Derivation(P1)\n",
    "    Q = a*P2+b*P1+c*P\n",
    "\n",
    "    print('Second membre =\\n',np.poly1d(Q),'\\n')\n",
    "    if choix == 'np':\n",
    "        Solution = Resolution2(a,b,c,Q)\n",
    "    else:\n",
    "        Solution = Resolution2_poly(a,b,c,Q[::-1])\n",
    "    print('Solution numérique =\\n',np.poly1d(Solution),'\\n')\n",
    "    print('Vérification: Solution attendue-Solution numérique =\\n',P-Solution)\n",
    "\n"
   ]
  },
  {
   "cell_type": "markdown",
   "metadata": {},
   "source": [
    "\n",
    "<ul>\n",
    "<li>En utilisant <font face=\"Courier\"> numpy.polyder() </font></li>\n",
    "</ul>\n"
   ]
  },
  {
   "cell_type": "code",
   "execution_count": null,
   "metadata": {},
   "outputs": [],
   "source": [
    "\n",
    "Test2(5,50, choix='np')\n",
    "\n"
   ]
  },
  {
   "cell_type": "markdown",
   "metadata": {},
   "source": [
    "\n",
    "<h3 id=\"Exercice-10.\">Exercice 10.<a class=\"anchor-link\" href=\"#Exercice-10.\">¶</a></h3><ol>\n",
    "<li><p>On rappelle le développement en série entière de l’exponentielle qui converge pour tout $x \\in$ <font face=\"Castellar\" size=\"3\">R</font><br/><br/></p><center>  $\\forall x \\in  \\mathbb{R}, e^x =  \\sum_{k=0}^{+\\infty}   \\frac{x^k} {k!}$</center><br/> Représenter graphiquement, sur $[-1,1]$, les approximations de $x \\mapsto e^x$ , c’est-à-dire les sommes partielles pour\n",
    "différentes valeurs de $n \\in \\mathbb{N}$.<br/>\n",
    "</li>\n",
    "<li><p>On rappelle le développement en série entière du sinus qui converge pour tout $x \\in \\mathbb{R}$ <br/><br/></p><center> $\\forall x \\in \\mathbb{R}, sin(x) =  \\sum_{k=0}^{+\\infty} \\frac{(-1)^k x^{2k+1}} {(2k+1)!}$</center><br/> Même question pour la fonction $sin$, en ne prenant que les degrés impairs inférieurs ou égaux à $2n+1$, sur des intervalles de plus en plus grands. Essayez le polynôme de degré 61, sur $[-25,25]$.\n",
    "</li>\n",
    "</ol>\n"
   ]
  },
  {
   "cell_type": "markdown",
   "metadata": {},
   "source": [
    "\n",
    "<div class=\"alert alert-success\"><b><font color=\"black\" face=\"Times\" size=\"3\">Réponses</font></b> :<br/><br/>\n",
    "<font color=\"black\" face=\"Times\" size=\"3\">1.    Code de la fonction <font color=\"black\" face=\"Courier\" size=\"3\">TaylorExponentielle()</font> </font>\n",
    "</div>\n"
   ]
  },
  {
   "cell_type": "code",
   "execution_count": null,
   "metadata": {},
   "outputs": [],
   "source": [
    "\n",
    "def TaylorExponentielle(n):\n",
    "    \"\"\"\n",
    "    Calcul le polynome relatif au développement en série de Taylor de la fonction exponentielle à l'ordre n\n",
    "    en rangeant les termes selon les degrés croissants\n",
    "    \"\"\"    \n",
    "    # Initialisation\n",
    "    P = [0]*(n+1)\n",
    "    \n",
    "    # Calcul\n",
    "    for k in range(n+1):\n",
    "        P[k] = 1/factorial(k)  # va de pair avec la manipulation par poly.polyval CAR LES coefficients sont rangés dans l'ordre croissant\n",
    "        \n",
    "    return np.array(P)\n",
    "\n"
   ]
  },
  {
   "cell_type": "code",
   "execution_count": null,
   "metadata": {},
   "outputs": [],
   "source": [
    "\n",
    "def TaylorExponentielle_np(n):\n",
    "    \"\"\"\n",
    "    Calcul le polynome relatif au développement en série de Taylor de la fonction exponentielle à l'ordre n\n",
    "    en rangeant les termes selon les degrés décroissants\n",
    "    \"\"\"    \n",
    "    # Initialisation\n",
    "    P = [0]*(n+1)\n",
    "    \n",
    "    # Calcul\n",
    "    for k in range(n+1):\n",
    "        P[n-k] = 1/factorial(k)  # va de pair avec la manipulation par poly.polyval CAR LES coefficients sont rangés dans l'ordre croissant\n",
    "        \n",
    "    return np.array(P)\n",
    "\n"
   ]
  },
  {
   "cell_type": "markdown",
   "metadata": {},
   "source": [
    "\n",
    "<div class=\"alert alert-success\">\n",
    "<font color=\"black\" face=\"Times\" size=\"3\">Code de la fonction de représentation graphique des sommes partielles du DL d'une fonction donnée et vérification</font>\n",
    "</div>\n"
   ]
  },
  {
   "cell_type": "code",
   "execution_count": null,
   "metadata": {},
   "outputs": [],
   "source": [
    "\n",
    "def Graphique(libelle, fonction, P, xmin, xmax, choix='np'):\n",
    "    \"\"\"\n",
    "    Représentation graphique des développements en série de Taylor de la fonction exponentielle à l'ordre n sur [-1, 1]\n",
    "    \"\"\"      \n",
    "    # Initialisation\n",
    "    xpas = 0.01\n",
    "    x = np.arange(xmin,xmax,xpas)\n",
    "    \n",
    "    # Calcul\n",
    "    if choix == 'np':\n",
    "        y = np.polyval(P, x) # y = poly.polyval(x,P) # que se passe-t-il si on passe par np.polyval ?\n",
    "    else:\n",
    "        y = poly.polyval(x,P)\n",
    "    z = fonction(x)\n",
    "\n",
    "    # Affichage graphique\n",
    "    plt.figure(figsize = (12,6))   \n",
    "    plt.plot(x,z,'b',linewidth=5, label='fonction numérique '+libelle)\n",
    "    plt.plot(x,y,'r',label='approximation de '+libelle+' par DL de degré '+str(len(P)-1))\n",
    "    texte = r'CN4 - Exercice 10 : Approximation de le fonction '+libelle+' par DL sur l intervalle ['+str(xmin)+';'+str(xmax)+']'\n",
    "    plt.title(texte)     \n",
    "    plt.xlabel(r'$x$');\n",
    "    plt.legend(loc='best')\n",
    "\n"
   ]
  },
  {
   "cell_type": "markdown",
   "metadata": {},
   "source": [
    "\n",
    "<ul>\n",
    "<li>Organisation ordonnée des termes du polynôme issu du développement en série entière selon les degrés croissants et application de <code>poly.polyval</code></li>\n",
    "</ul>\n"
   ]
  },
  {
   "cell_type": "code",
   "execution_count": null,
   "metadata": {},
   "outputs": [],
   "source": [
    "\n",
    "P = TaylorExponentielle(2) # développement partiel dans l'ordre naturel\n",
    "print(P)\n",
    "Graphique('$e^x$', np.exp, P, -1, 1, choix='poly') # va de pair avec poly.polyval()\n",
    "\n"
   ]
  },
  {
   "cell_type": "markdown",
   "metadata": {},
   "source": [
    "\n",
    "<ul>\n",
    "<li>Organisation ordonnée des termes du polynôme issu du développement en série entière selon les degrés décroissants et application de <code>np.polyval</code></li>\n",
    "</ul>\n"
   ]
  },
  {
   "cell_type": "code",
   "execution_count": null,
   "metadata": {},
   "outputs": [],
   "source": [
    "\n",
    "P = TaylorExponentielle_np(2)  # les coefficients sont à ranger dans l'ordre décroissant\n",
    "print(P)\n",
    "Graphique('$e^x$', np.exp, P, -1, 1, choix='np') # on passe par np.polyval()\n",
    "\n"
   ]
  },
  {
   "cell_type": "markdown",
   "metadata": {},
   "source": [
    "\n",
    "<h3 id=\"Approximation-avec-un-polynôme-de-degré-3\">Approximation avec un polynôme de degré 3<a class=\"anchor-link\" href=\"#Approximation-avec-un-polynôme-de-degré-3\">¶</a></h3>\n"
   ]
  },
  {
   "cell_type": "code",
   "execution_count": null,
   "metadata": {},
   "outputs": [],
   "source": [
    "\n",
    "P = TaylorExponentielle(3)\n",
    "Graphique('$e^x$', np.exp, P, -1, 1, choix='poly')\n",
    "\n"
   ]
  },
  {
   "cell_type": "code",
   "execution_count": null,
   "metadata": {},
   "outputs": [],
   "source": [
    "\n",
    "P = TaylorExponentielle_np(3)\n",
    "Graphique('$e^x$', np.exp, P, -1, 1, choix='np')\n",
    "\n"
   ]
  },
  {
   "cell_type": "markdown",
   "metadata": {},
   "source": [
    "\n",
    "<div class=\"alert alert-success\">\n",
    "<font color=\"black\" face=\"Times\" size=\"3\">2.    Code de la fonction <font color=\"black\" face=\"Courier\" size=\"3\">TaylorSinus()</font> </font>\n",
    "</div>\n"
   ]
  },
  {
   "cell_type": "code",
   "execution_count": null,
   "metadata": {},
   "outputs": [],
   "source": [
    "\n",
    "def TaylorSinus(n):\n",
    "    \"\"\"\n",
    "    Calcul le polynome relatif au développement en série de Taylor de la fonction sinus à l'ordre n\n",
    "    en rangeant les termes selon les degrés croissants    \n",
    "    \"\"\"      \n",
    "    # Initialisation\n",
    "    P = [0]*(2*n+2)\n",
    "    sgn = -1\n",
    "    \n",
    "    for k in range(1,2*n+2,2):\n",
    "        sgn = -sgn\n",
    "        P[k] = sgn/factorial(k) # si on utilise poly\n",
    "        \n",
    "    return np.array(P)\n",
    "\n"
   ]
  },
  {
   "cell_type": "code",
   "execution_count": null,
   "metadata": {},
   "outputs": [],
   "source": [
    "\n",
    "def TaylorSinus_np(n):\n",
    "    \"\"\"\n",
    "    Calcul le polynome relatif au développement en série de Taylor de la fonction sinus à l'ordre n\n",
    "    en rangeant les termes selon les degrés décroissants     \n",
    "    \"\"\"      \n",
    "    # Initialisation\n",
    "    P = [0]*(2*n+2)\n",
    "    sgn = -1\n",
    "    \n",
    "    for k in range(1,2*n+2,2):\n",
    "        sgn = -sgn\n",
    "        P[2*n+1-k] = sgn/factorial(k) # si on utilise np\n",
    "        \n",
    "    return np.array(P)\n",
    "\n"
   ]
  },
  {
   "cell_type": "markdown",
   "metadata": {},
   "source": [
    "\n",
    "<ul>\n",
    "<li>Organisation ordonnée des termes du polynôme issu du développement en série entière selon les degrés croissants et application de <code>poly.polyval</code></li>\n",
    "</ul>\n"
   ]
  },
  {
   "cell_type": "code",
   "execution_count": null,
   "metadata": {},
   "outputs": [],
   "source": [
    "\n",
    "P = TaylorSinus(61)\n",
    "#print(P)\n",
    "Graphique('$sin(x)$', np.sin, P, -25, 25, choix='poly')\n",
    "\n"
   ]
  },
  {
   "cell_type": "markdown",
   "metadata": {},
   "source": [
    "\n",
    "<ul>\n",
    "<li>Organisation ordonnée des termes du polynôme issu du développement en série entière selon les degrés décroissants et application de <code>np.polyval</code></li>\n",
    "</ul>\n"
   ]
  },
  {
   "cell_type": "code",
   "execution_count": null,
   "metadata": {},
   "outputs": [],
   "source": [
    "\n",
    "P = TaylorSinus_np(61)\n",
    "#print(P)\n",
    "Graphique('$sin(x)$', np.sin, P, -25, 25, choix='np')\n",
    "\n"
   ]
  },
  {
   "cell_type": "markdown",
   "metadata": {},
   "source": [
    "\n",
    "<h3 id=\"Approximation-avec-un-polynôme-de-degré-3-sur-l'intervalle-[-4;-4]\">Approximation avec un polynôme de degré 3 sur l'intervalle [-4; 4]<a class=\"anchor-link\" href=\"#Approximation-avec-un-polynôme-de-degré-3-sur-l'intervalle-[-4;-4]\">¶</a></h3>\n"
   ]
  },
  {
   "cell_type": "markdown",
   "metadata": {},
   "source": [
    "\n",
    "<ul>\n",
    "<li>Organisation ordonnée des termes du polynôme issu du développement en série entière selon les degrés croissants et application de <code>poly.polyval</code></li>\n",
    "</ul>\n"
   ]
  },
  {
   "cell_type": "code",
   "execution_count": null,
   "metadata": {},
   "outputs": [],
   "source": [
    "\n",
    "P = TaylorSinus(3)\n",
    "# print(P)\n",
    "Graphique('$sin(x)$', np.sin, P, -4, 4, choix='poly')\n",
    "\n"
   ]
  },
  {
   "cell_type": "markdown",
   "metadata": {},
   "source": [
    "\n",
    "<ul>\n",
    "<li>Organisation ordonnée des termes du polynôme issu du développement en série entière selon les degrés décroissants et application de <code>np.polyval</code></li>\n",
    "</ul>\n"
   ]
  },
  {
   "cell_type": "code",
   "execution_count": null,
   "metadata": {},
   "outputs": [],
   "source": [
    "\n",
    "P = TaylorSinus_np(3)\n",
    "# print(P)\n",
    "Graphique('$sin(x)$', np.sin, P, -4, 4, choix='np')\n",
    "\n"
   ]
  },
  {
   "cell_type": "markdown",
   "metadata": {},
   "source": [
    "\n",
    "<h3 id=\"Exercice-11.\">Exercice 11.<a class=\"anchor-link\" href=\"#Exercice-11.\">¶</a></h3><p>Démontrer qu’il existe un seul polynôme $P$ de degré 7 tel que <br/></p>\n",
    "<p></p><center>\n",
    "$\n",
    " \\left\\{\n",
    "    \\begin{array}{ll}\n",
    "        (X-1)^4 \\text{       divise       } P(X) + 16 \\\\\n",
    "        (X+1)^4 \\text{       divise       } P(X) - 16 \\\\\n",
    "    \\end{array}\n",
    "\\right.\n",
    "$\n",
    "</center>\n",
    "<br/><br/>\n",
    "<i>Indications : </i><br/>\n",
    "— On s’intéressera à $P'(X)$.<br/>\n",
    "— La solution est $P(X) = 5X^7 - 21X^5 + 35X^3 - 35X$.\n",
    "\n"
   ]
  },
  {
   "cell_type": "markdown",
   "metadata": {},
   "source": [
    "\n",
    "<h3 id=\"Variante-avec--numpy.polynomial.polynomial-\">Variante avec <font face=\"Courier\"> numpy.polynomial.polynomial </font><a class=\"anchor-link\" href=\"#Variante-avec--numpy.polynomial.polynomial-\">¶</a></h3>\n"
   ]
  },
  {
   "cell_type": "code",
   "execution_count": null,
   "metadata": {},
   "outputs": [],
   "source": [
    "\n",
    "n = 3\n",
    "Q = np.zeros(2*n+1)\n",
    "\n",
    "for k in range(n+1): # Calcul de Q(X) = (X^2-1)^3 = -1 + 3X^2 - 3X^4 + X^6\n",
    "    Q[2*k] = (-1)**k*binom(n,k)\n",
    "    \n",
    "print('Q=',Q) # [ 1.  0. -3.  0.  3.  0. -1.], OBSERVER que les coefficients sont rangés dans l'ordre des degrés décroissant\n",
    "R = np.array([Q[k]/(2*n-k+1) for k in range(2*n+1)]+[0])\n",
    "# print('R=',R)\n",
    "\n",
    "# On doit avoir P(1)=-16 et P(-1)=16 avec P=a*R+b\n",
    "\n",
    "# on doit retourner la liste des coefficients si on souhaite passer par la fonction poly.polyval()\n",
    "A = np.array([(poly.polyval(1,R[::-1]),1),\n",
    "              (poly.polyval(-1,R[::-1]),1)]) # A matrice des coefficients du systeme a resoudre\n",
    "print('A=\\n',A)\n",
    "B = np.array([-16,16]) # le second membre de l'equation A.S = B a resoudre\n",
    "print('B=\\n',B)\n",
    "S = la.solve(A,B)     # S solution recherchee de l equation \n",
    "print('S=\\n',S)\n",
    "P = S[0]*R+S[1]\n",
    "print('P=\\n',P)\n",
    "print('La solution est:\\n', np.poly1d(P))  # \n",
    "\n"
   ]
  },
  {
   "cell_type": "markdown",
   "metadata": {},
   "source": [
    "\n",
    "<h3 id=\"Variante-avec--numpy-\">Variante avec <font face=\"Courier\"> numpy </font><a class=\"anchor-link\" href=\"#Variante-avec--numpy-\">¶</a></h3>\n"
   ]
  },
  {
   "cell_type": "code",
   "execution_count": null,
   "metadata": {},
   "outputs": [],
   "source": [
    "\n",
    "from scipy.special import binom\n",
    "\n",
    "n = 3\n",
    "Q = np.zeros(2*n+1)\n",
    "\n",
    "for k in range(n+1): # Calcul de Q(X)=(x^2-1)^3\n",
    "    Q[2*k] = (-1)**k*binom(n,k)\n",
    "    \n",
    "#print('Q=',Q)\n",
    "R = np.array([Q[k]/(2*n-k+1) for k in range(2*n+1)]+[0])\n",
    "print('R=',R)\n",
    "\n",
    "# On doit avoir P(1)=-16 et P(-1)=16 avec P=a*R+b\n",
    "\n",
    "A = np.array([(np.polyval(R,1),1),\n",
    "              (np.polyval(R,-1),1)]) # A matrice des coefficients du systeme a resoudre\n",
    "print('A=\\n',A)\n",
    "B = np.array([-16,16]) # le second membre de l'equation A.S = B a resoudre\n",
    "# print('B=\\n',B)\n",
    "S = la.solve(A,B)     # S solution recherchee de l equation \n",
    "print('S=\\n',S)\n",
    "P = S[0]*R+S[1]\n",
    "print('La solution est:\\n', np.poly1d(P))\n",
    "\n"
   ]
  },
  {
   "cell_type": "code",
   "execution_count": null,
   "metadata": {},
   "outputs": [],
   "source": [
    "\n",
    " \n",
    "\n"
   ]
  }
 ],
 "metadata": {
  "kernelspec": {
   "display_name": "Python 3",
   "language": "python",
   "name": "python3"
  },
  "language_info": {
   "codemirror_mode": {
    "name": "ipython",
    "version": 3
   },
   "file_extension": ".py",
   "mimetype": "text/x-python",
   "name": "python",
   "nbconvert_exporter": "python",
   "pygments_lexer": "ipython3",
   "version": "3.7.5"
  }
 },
 "nbformat": 4,
 "nbformat_minor": 1
}
