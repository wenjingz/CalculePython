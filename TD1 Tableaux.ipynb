{
 "cells": [
  {
   "cell_type": "code",
   "execution_count": 1,
   "metadata": {
    "colab": {},
    "colab_type": "code",
    "id": "ekkvePDL3co9"
   },
   "outputs": [],
   "source": [
    "from math import *\n",
    "import numpy as np"
   ]
  },
  {
   "cell_type": "code",
   "execution_count": 2,
   "metadata": {
    "colab": {
     "base_uri": "https://localhost:8080/",
     "height": 289
    },
    "colab_type": "code",
    "executionInfo": {
     "elapsed": 965,
     "status": "ok",
     "timestamp": 1580077042789,
     "user": {
      "displayName": "Wenjing Zhang",
      "photoUrl": "https://lh3.googleusercontent.com/a-/AAuE7mBemhLTFAGCzqnCGRvbNquxtJFSdNtDZoviorvI=s64",
      "userId": "09965705752155516749"
     },
     "user_tz": -60
    },
    "id": "JOkW2KaG3rKl",
    "outputId": "d787196f-793e-4b85-91fb-4af701b6245c"
   },
   "outputs": [
    {
     "name": "stdout",
     "output_type": "stream",
     "text": [
      "Opérations de base \t:\n",
      "a =  [[5 2 7]\n",
      " [3 8 6]]\n",
      "b =  6\n",
      "c =  [3 8 6]\n",
      "d =  [2 8]\n",
      "e =  [[10  4 14]\n",
      " [ 6 16 12]]\n",
      "f =  [[2.5 1.  3.5]\n",
      " [1.5 4.  3. ]]\n",
      "g =  [[2 1 3]\n",
      " [1 4 3]]\n",
      "h =  [[4 1 6]\n",
      " [2 7 5]]\n",
      "i =  [[25  4 49]\n",
      " [ 9 64 36]]\n"
     ]
    }
   ],
   "source": [
    "print('Opérations de base \t:')\n",
    "tab = np.array([(5,2,7),(3,8,6)])  # Construction d'une matrice tab de 2 lignes et 3 colonnes\n",
    "print('a = ',tab)                  # affichage de tous les éléments de la matrice tab\n",
    "print('b = ',tab[1,2])             # affichage de l'élément situé à la 2nde ligne et 3ème colonne i.e. 6\n",
    "print('c = ',tab[1])               # affichage des éléments situés à la 2nde ligne (ou tab[1,:])\n",
    "print('d = ',tab[:,1])             # affichage des éléments situés à la 2nde colonne \n",
    "print('e = ',2 * tab)              # affichage la matrice résultante du calcul 2*tab (tous les éléments doublés) \n",
    "print('f = ',tab / 2)              # affichage la matrice résultante du calcul tab/2 (tous les éléments divisés par 2) \n",
    "print('g = ',tab // 2)             # affichage la matrice résultante du calcul du quotient de chaque terme de tab par 2 \n",
    "print('h = ',tab - 1)              # affichage la matrice résultante du calcul de la différence de chaque terme de tab avec 1 \n",
    "print('i = ',tab ** 2)             # affichage la matrice résultante du calcul du carré de chaque terme de tab"
   ]
  },
  {
   "cell_type": "code",
   "execution_count": 3,
   "metadata": {
    "colab": {
     "base_uri": "https://localhost:8080/",
     "height": 170
    },
    "colab_type": "code",
    "executionInfo": {
     "elapsed": 958,
     "status": "ok",
     "timestamp": 1580077042790,
     "user": {
      "displayName": "Wenjing Zhang",
      "photoUrl": "https://lh3.googleusercontent.com/a-/AAuE7mBemhLTFAGCzqnCGRvbNquxtJFSdNtDZoviorvI=s64",
      "userId": "09965705752155516749"
     },
     "user_tz": -60
    },
    "id": "h35DlrnE3tBQ",
    "outputId": "1e2d54e0-c92e-4d37-c866-ced170356e84"
   },
   "outputs": [
    {
     "name": "stdout",
     "output_type": "stream",
     "text": [
      "\n",
      "numpy zeros\n",
      "z1 =  [0. 0. 0. 0. 0.]\n",
      "z2 =\n",
      "  [[0. 0. 0.]\n",
      " [0. 0. 0.]\n",
      " [0. 0. 0.]\n",
      " [0. 0. 0.]\n",
      " [0. 0. 0.]]\n"
     ]
    }
   ],
   "source": [
    "print()                     # ligne vierge\n",
    "print('numpy zeros')\n",
    "z1 = np.zeros(5)            # vecteur de 5 éléments nuls\n",
    "print('z1 = ',z1)\n",
    "z2 = np.zeros((5,3))        # matrice nulle de dimension 5 lignes et 3 colonnes \n",
    "print('z2 =\\n ',z2)"
   ]
  },
  {
   "cell_type": "code",
   "execution_count": 4,
   "metadata": {
    "colab": {
     "base_uri": "https://localhost:8080/",
     "height": 119
    },
    "colab_type": "code",
    "executionInfo": {
     "elapsed": 951,
     "status": "ok",
     "timestamp": 1580077042791,
     "user": {
      "displayName": "Wenjing Zhang",
      "photoUrl": "https://lh3.googleusercontent.com/a-/AAuE7mBemhLTFAGCzqnCGRvbNquxtJFSdNtDZoviorvI=s64",
      "userId": "09965705752155516749"
     },
     "user_tz": -60
    },
    "id": "5N1ryFSG5E0u",
    "outputId": "157c4683-edb2-48de-a07c-0ff3b816a839"
   },
   "outputs": [
    {
     "name": "stdout",
     "output_type": "stream",
     "text": [
      "\n",
      "numpy ones\n",
      "o1 =  [1. 1. 1. 1.]\n",
      "o2 =\n",
      "  [[1. 1. 1.]\n",
      " [1. 1. 1.]]\n"
     ]
    }
   ],
   "source": [
    "print()\n",
    "print('numpy ones')\n",
    "o1 = np.ones(4)            # vecteur de 4 éléments égaux à 1\n",
    "print('o1 = ',o1)\n",
    "o2 = np.ones((2,3))        # matrice de dimension 2 lignes et 3 colonnes remplie de 1\n",
    "print('o2 =\\n ',o2)"
   ]
  },
  {
   "cell_type": "code",
   "execution_count": 5,
   "metadata": {
    "colab": {
     "base_uri": "https://localhost:8080/",
     "height": 204
    },
    "colab_type": "code",
    "executionInfo": {
     "elapsed": 942,
     "status": "ok",
     "timestamp": 1580077042792,
     "user": {
      "displayName": "Wenjing Zhang",
      "photoUrl": "https://lh3.googleusercontent.com/a-/AAuE7mBemhLTFAGCzqnCGRvbNquxtJFSdNtDZoviorvI=s64",
      "userId": "09965705752155516749"
     },
     "user_tz": -60
    },
    "id": "aAHp-vhx5WAK",
    "outputId": "45f62fa3-69ea-4fb9-e846-174e4ca8df68"
   },
   "outputs": [
    {
     "name": "stdout",
     "output_type": "stream",
     "text": [
      "\n",
      "numpy reshape\n",
      "a1 =  [0 1 2 3 4 5]\n",
      "a2 =\n",
      "  [[0 1 2]\n",
      " [3 4 5]]\n",
      "a3 =  [ 1.   5.2  9.4 13.6]\n",
      "a4 =\n",
      "  [[ 1.   5.2]\n",
      " [ 9.4 13.6]]\n",
      "a5 =  [2 5 8]\n"
     ]
    }
   ],
   "source": [
    "print()\n",
    "print('numpy reshape')\n",
    "a1 = np.arange(6)                       # créer une liste de 6 éléments ordonnés de 0 à 5\n",
    "print( 'a1 = ',a1)\n",
    "a2 = np.arange(6).reshape(2,3)          # redimensionner le tableau en 2 lignes et 3 colonnes\n",
    "print('a2 =\\n ',a2)\n",
    "a3 = np.arange(1,16,4.2)                # créer une liste de valeur 1 à 16 par pas de 4.2 (borne supérieure non atteinte)\n",
    "print('a3 = ',a3)\n",
    "a4 = np.arange(1,16,4.2).reshape(2,2)   # redimensionner le tableau précédent en 2 lignes et 2 colonnes\n",
    "print('a4 =\\n ',a4)\n",
    "a5 = np.arange(10)                      # créer une liste de 10 éléments ordonnés de 0 à 9\n",
    "print('a5 = ',a5[2:9:3])   "
   ]
  },
  {
   "cell_type": "code",
   "execution_count": 6,
   "metadata": {
    "colab": {
     "base_uri": "https://localhost:8080/",
     "height": 204
    },
    "colab_type": "code",
    "executionInfo": {
     "elapsed": 933,
     "status": "ok",
     "timestamp": 1580077042792,
     "user": {
      "displayName": "Wenjing Zhang",
      "photoUrl": "https://lh3.googleusercontent.com/a-/AAuE7mBemhLTFAGCzqnCGRvbNquxtJFSdNtDZoviorvI=s64",
      "userId": "09965705752155516749"
     },
     "user_tz": -60
    },
    "id": "rjHILoHJ6K2Z",
    "outputId": "b728449d-8b34-4ac9-aa8e-1b637865348b"
   },
   "outputs": [
    {
     "name": "stdout",
     "output_type": "stream",
     "text": [
      "\n",
      "numpy eye\n",
      "e1 =  [[1. 0. 0.]\n",
      " [0. 1. 0.]]\n",
      "e2 =  [[1. 0. 0.]\n",
      " [0. 1. 0.]\n",
      " [0. 0. 1.]]\n",
      "e3 =  [[1. 0. 0.]\n",
      " [0. 1. 0.]\n",
      " [0. 0. 1.]\n",
      " [0. 0. 0.]]\n"
     ]
    }
   ],
   "source": [
    "print()\n",
    "print('numpy eye')\n",
    "e1 = np.eye(2,3)                 # création de la matrice identité de taille 2x3\n",
    "print('e1 = ',e1)\n",
    "e2 = np.eye(3,3)                 # création de la matrice identité d'ordre 3\n",
    "print('e2 = ',e2)\n",
    "e3 = np.eye(4,3)                 # création de la matrice identité de taille 4x3\n",
    "print('e3 = ',e3)"
   ]
  },
  {
   "cell_type": "code",
   "execution_count": 7,
   "metadata": {
    "colab": {
     "base_uri": "https://localhost:8080/",
     "height": 408
    },
    "colab_type": "code",
    "executionInfo": {
     "elapsed": 924,
     "status": "ok",
     "timestamp": 1580077042793,
     "user": {
      "displayName": "Wenjing Zhang",
      "photoUrl": "https://lh3.googleusercontent.com/a-/AAuE7mBemhLTFAGCzqnCGRvbNquxtJFSdNtDZoviorvI=s64",
      "userId": "09965705752155516749"
     },
     "user_tz": -60
    },
    "id": "aSvYqocX6Lnf",
    "outputId": "c81efc87-f088-41c6-fc0f-08b165e3b71b"
   },
   "outputs": [
    {
     "name": "stdout",
     "output_type": "stream",
     "text": [
      "\n",
      "numpy diag\n",
      "vect =  [1 2 3 4 5]\n",
      "diag1 =\n",
      "  [[1 0 0 0 0]\n",
      " [0 2 0 0 0]\n",
      " [0 0 3 0 0]\n",
      " [0 0 0 4 0]\n",
      " [0 0 0 0 5]]\n",
      "diag2 =\n",
      "  [[0 1 0 0 0 0]\n",
      " [0 0 2 0 0 0]\n",
      " [0 0 0 3 0 0]\n",
      " [0 0 0 0 4 0]\n",
      " [0 0 0 0 0 5]\n",
      " [0 0 0 0 0 0]]\n",
      "diag2 =\n",
      "  [[0 0 0 0 0 0]\n",
      " [1 0 0 0 0 0]\n",
      " [0 2 0 0 0 0]\n",
      " [0 0 3 0 0 0]\n",
      " [0 0 0 4 0 0]\n",
      " [0 0 0 0 5 0]]\n"
     ]
    }
   ],
   "source": [
    "print()\n",
    "print('numpy diag')\n",
    "vect = np.arange(5) + 1           # création d'une liste de 5 éléments ordonnés de 0 à 4 auxquels on ajouté 1 individuellement\n",
    "print('vect = ',vect)\n",
    "diag1 = np.diag(vect)             # création d'une matrice dont la diagonale est constituée des éléments du vecteur vect\n",
    "print('diag1 =\\n ',diag1)\n",
    "diag2 = np.diag(vect,1)           # création d'une matrice dont la diagonale supérieure +1 est constituée des éléments du vecteur vect, d'ordre 6\n",
    "print('diag2 =\\n ',diag2)\n",
    "diag3 = np.diag(vect,-1)          # création d'une matrice dont la diagonale inférieure -1 est constituée des éléments du vecteur vect, d'ordre 6\n",
    "print('diag2 =\\n ',diag3)"
   ]
  },
  {
   "cell_type": "code",
   "execution_count": 8,
   "metadata": {
    "colab": {
     "base_uri": "https://localhost:8080/",
     "height": 204
    },
    "colab_type": "code",
    "executionInfo": {
     "elapsed": 916,
     "status": "ok",
     "timestamp": 1580077042794,
     "user": {
      "displayName": "Wenjing Zhang",
      "photoUrl": "https://lh3.googleusercontent.com/a-/AAuE7mBemhLTFAGCzqnCGRvbNquxtJFSdNtDZoviorvI=s64",
      "userId": "09965705752155516749"
     },
     "user_tz": -60
    },
    "id": "so5tuuQk6RRs",
    "outputId": "3cc4b64f-6211-4114-afdb-fcff132fac17"
   },
   "outputs": [
    {
     "name": "stdout",
     "output_type": "stream",
     "text": [
      "\n",
      "numpy random et array\n",
      "r =\n",
      "  [[0.75105412 0.34234821 0.11351371 0.74607673]\n",
      " [0.79446924 0.89616495 0.09045216 0.95262243]\n",
      " [0.0180221  0.47527188 0.68143987 0.19504831]\n",
      " [0.41046903 0.60327764 0.82838909 0.49708927]\n",
      " [0.08356426 0.30176444 0.52915081 0.11252937]]\n",
      "l =  [1 2 2 3 0]\n",
      "c =  [3 1 2 0 1]\n",
      "r[l,c] =  [0.95262243 0.47527188 0.68143987 0.41046903 0.34234821]\n"
     ]
    }
   ],
   "source": [
    "print()\n",
    "print('numpy random et array')\n",
    "r = np.random.rand(5,4)         # création d'une matrice de taille 5x4 remplie de nbs aléatoires ds ]0; 1[\n",
    "print('r =\\n ',r)\n",
    "l = np.array([1, 2, 2, 3, 0])   # vecteur de 5 éléments\n",
    "print('l = ',l)  \n",
    "c = np.array([3, 1, 2, 0, 1])   # vecteur de 5 éléments\n",
    "print('c = ',c)\n",
    "print('r[l,c] = ',r[l,c])       # application d'un masque à partir des 2 listes précédentes"
   ]
  },
  {
   "cell_type": "code",
   "execution_count": 9,
   "metadata": {
    "colab": {
     "base_uri": "https://localhost:8080/",
     "height": 289
    },
    "colab_type": "code",
    "executionInfo": {
     "elapsed": 909,
     "status": "ok",
     "timestamp": 1580077042795,
     "user": {
      "displayName": "Wenjing Zhang",
      "photoUrl": "https://lh3.googleusercontent.com/a-/AAuE7mBemhLTFAGCzqnCGRvbNquxtJFSdNtDZoviorvI=s64",
      "userId": "09965705752155516749"
     },
     "user_tz": -60
    },
    "id": "jVqNf08m6Ug4",
    "outputId": "9726e322-c486-41f5-d005-2ac598fb3346"
   },
   "outputs": [
    {
     "name": "stdout",
     "output_type": "stream",
     "text": [
      "\n",
      "numpy reshape et concatenate\n",
      "a =\n",
      "  [[0 1]\n",
      " [2 3]]\n",
      "b =\n",
      "  [[4 5]\n",
      " [6 7]]\n",
      "c =\n",
      "  [[0 1]\n",
      " [2 3]\n",
      " [4 5]\n",
      " [6 7]]\n",
      "d =\n",
      "  [[0 1 4 5]\n",
      " [2 3 6 7]]\n"
     ]
    }
   ],
   "source": [
    "print()\n",
    "print('numpy reshape et concatenate')\n",
    "a = np.arange(4).reshape(2,2)   # création d'une liste de 4 éléments ordonnés de 0 à 3 \n",
    "print('a =\\n ',a)                 # combinée à un redimensionnement en matrice d'ordre 2\n",
    "b = 4 + np.arange(4).reshape(2,2) # création d'une liste de 4 éléments ordonnés de 4 (0+4) à 7 (3+4)\n",
    "print('b =\\n ',b)                   # combinée à un redimensionnement en matrice d'ordre 2\n",
    "c = np.concatenate((a,b))        # concaténation verticale des 2 matrices précédentes\n",
    "print('c =\\n ',c)\n",
    "d = np.concatenate((a,b), axis = 1) # concaténation horizontale des 2 matrices précédentes\n",
    "print('d =\\n ',d)"
   ]
  },
  {
   "cell_type": "code",
   "execution_count": 10,
   "metadata": {
    "colab": {
     "base_uri": "https://localhost:8080/",
     "height": 187
    },
    "colab_type": "code",
    "executionInfo": {
     "elapsed": 901,
     "status": "ok",
     "timestamp": 1580077042795,
     "user": {
      "displayName": "Wenjing Zhang",
      "photoUrl": "https://lh3.googleusercontent.com/a-/AAuE7mBemhLTFAGCzqnCGRvbNquxtJFSdNtDZoviorvI=s64",
      "userId": "09965705752155516749"
     },
     "user_tz": -60
    },
    "id": "Npkk3w-b6XT5",
    "outputId": "eaf95836-3831-4f9b-a3f6-6b0b9f26c217"
   },
   "outputs": [
    {
     "name": "stdout",
     "output_type": "stream",
     "text": [
      "\n",
      "numpy reshape et tile\n",
      "a6 =\n",
      "  [[0 1]\n",
      " [2 3]]\n",
      "a7 =\n",
      "  [[0 1 0 1 0 1]\n",
      " [2 3 2 3 2 3]\n",
      " [0 1 0 1 0 1]\n",
      " [2 3 2 3 2 3]]\n"
     ]
    }
   ],
   "source": [
    "print()\n",
    "print('numpy reshape et tile')\n",
    "a6 = np.arange(4).reshape((2,2))\n",
    "print('a6 =\\n ',a6)\n",
    "a7 = np.tile(a6, (2,3))   # duplication de la matrice précédente 2 fois en ligne et 3 fois en colonne\n",
    "print('a7 =\\n ',a7)"
   ]
  },
  {
   "cell_type": "markdown",
   "metadata": {
    "colab_type": "text",
    "id": "RRxkb5246pYj"
   },
   "source": [
    "## Algèbre linéaire"
   ]
  },
  {
   "cell_type": "code",
   "execution_count": 11,
   "metadata": {
    "colab": {
     "base_uri": "https://localhost:8080/",
     "height": 153
    },
    "colab_type": "code",
    "executionInfo": {
     "elapsed": 892,
     "status": "ok",
     "timestamp": 1580077042796,
     "user": {
      "displayName": "Wenjing Zhang",
      "photoUrl": "https://lh3.googleusercontent.com/a-/AAuE7mBemhLTFAGCzqnCGRvbNquxtJFSdNtDZoviorvI=s64",
      "userId": "09965705752155516749"
     },
     "user_tz": -60
    },
    "id": "RkMCtGhs6qv6",
    "outputId": "21c91663-36d8-4774-801b-43db38071001"
   },
   "outputs": [
    {
     "name": "stdout",
     "output_type": "stream",
     "text": [
      "\n",
      "numpy.linalg transpose\n",
      "M =\n",
      "  [[1 2]\n",
      " [3 4]]\n",
      "T =\n",
      "  [[1 3]\n",
      " [2 4]]\n"
     ]
    }
   ],
   "source": [
    "import numpy.linalg as la\n",
    "\n",
    "print()\n",
    "print('numpy.linalg transpose')\n",
    "M = np.array([[1,2],[3,4]])  # création d'une matrice statique\n",
    "print('M =\\n ',M)\n",
    "T = np.transpose(M)         # transposition de la matrice précédente\n",
    "print('T =\\n ',T)"
   ]
  },
  {
   "cell_type": "code",
   "execution_count": 12,
   "metadata": {
    "colab": {
     "base_uri": "https://localhost:8080/",
     "height": 68
    },
    "colab_type": "code",
    "executionInfo": {
     "elapsed": 884,
     "status": "ok",
     "timestamp": 1580077042797,
     "user": {
      "displayName": "Wenjing Zhang",
      "photoUrl": "https://lh3.googleusercontent.com/a-/AAuE7mBemhLTFAGCzqnCGRvbNquxtJFSdNtDZoviorvI=s64",
      "userId": "09965705752155516749"
     },
     "user_tz": -60
    },
    "id": "HXXjQlsM6yn7",
    "outputId": "5bcec276-512f-4279-ab91-66ba504bcc66"
   },
   "outputs": [
    {
     "name": "stdout",
     "output_type": "stream",
     "text": [
      "\n",
      "numpy.linalg det\n",
      "det(M) =  -2.0000000000000004\n"
     ]
    }
   ],
   "source": [
    "print()\n",
    "print('numpy.linalg det')\n",
    "D = la.det(M)              # calcul d'un déterminant\n",
    "print('det(M) = ', D)"
   ]
  },
  {
   "cell_type": "code",
   "execution_count": 21,
   "metadata": {
    "colab": {
     "base_uri": "https://localhost:8080/",
     "height": 153
    },
    "colab_type": "code",
    "executionInfo": {
     "elapsed": 1201,
     "status": "ok",
     "timestamp": 1580077043123,
     "user": {
      "displayName": "Wenjing Zhang",
      "photoUrl": "https://lh3.googleusercontent.com/a-/AAuE7mBemhLTFAGCzqnCGRvbNquxtJFSdNtDZoviorvI=s64",
      "userId": "09965705752155516749"
     },
     "user_tz": -60
    },
    "id": "FMRmMs9x6zRf",
    "outputId": "747fe39b-282c-4b0a-83da-cdcac58f89fd"
   },
   "outputs": [
    {
     "name": "stdout",
     "output_type": "stream",
     "text": [
      "\n",
      "numpy.linalg inv\n",
      "M = \n",
      " [[1 2]\n",
      " [3 4]]\n",
      "inv(M) = \n",
      "  [[-2.   1. ]\n",
      " [ 1.5 -0.5]]\n"
     ]
    }
   ],
   "source": [
    "print()\n",
    "print('numpy.linalg inv')\n",
    "M = np.array([[1,2],[3,4]])\n",
    "N = la.inv(M)              # calcul d'une matrice inverse\n",
    "print('M = \\n',M)             \n",
    "print('inv(M) = \\n ',N)"
   ]
  },
  {
   "cell_type": "code",
   "execution_count": 23,
   "metadata": {
    "colab": {
     "base_uri": "https://localhost:8080/",
     "height": 102
    },
    "colab_type": "code",
    "executionInfo": {
     "elapsed": 1192,
     "status": "ok",
     "timestamp": 1580077043123,
     "user": {
      "displayName": "Wenjing Zhang",
      "photoUrl": "https://lh3.googleusercontent.com/a-/AAuE7mBemhLTFAGCzqnCGRvbNquxtJFSdNtDZoviorvI=s64",
      "userId": "09965705752155516749"
     },
     "user_tz": -60
    },
    "id": "3ML8VdlV61e3",
    "outputId": "07427a2a-1c14-423c-dcbb-d84a18f374a9"
   },
   "outputs": [
    {
     "name": "stdout",
     "output_type": "stream",
     "text": [
      "\n",
      "numpy.linalg dot\n",
      "M * N = \n",
      " [[1.0000000e+00 0.0000000e+00]\n",
      " [8.8817842e-16 1.0000000e+00]]\n"
     ]
    }
   ],
   "source": [
    "print()\n",
    "\n",
    "\n",
    "M = np.array([[1,2],[3,4]])\n",
    "N = la.inv(M) \n",
    "\n",
    "print('numpy.linalg dot')\n",
    "P=np.dot(M,N)         # calcul du produit matriciel M*N = instruction de vérification du résultat précédent\n",
    "print('M * N = \\n',P)"
   ]
  },
  {
   "cell_type": "code",
   "execution_count": 15,
   "metadata": {
    "colab": {
     "base_uri": "https://localhost:8080/",
     "height": 119
    },
    "colab_type": "code",
    "executionInfo": {
     "elapsed": 1185,
     "status": "ok",
     "timestamp": 1580077043124,
     "user": {
      "displayName": "Wenjing Zhang",
      "photoUrl": "https://lh3.googleusercontent.com/a-/AAuE7mBemhLTFAGCzqnCGRvbNquxtJFSdNtDZoviorvI=s64",
      "userId": "09965705752155516749"
     },
     "user_tz": -60
    },
    "id": "2nkw0TiB64h8",
    "outputId": "caf9f1b0-fd0e-435f-fb7b-c5ac767f8b00"
   },
   "outputs": [
    {
     "name": "stdout",
     "output_type": "stream",
     "text": [
      "\n",
      "numpy.linalg eig\n",
      "Val =  [-0.37228132  5.37228132]\n",
      "Vect =\n",
      "  [[-0.82456484 -0.41597356]\n",
      " [ 0.56576746 -0.90937671]]\n"
     ]
    }
   ],
   "source": [
    "print()\n",
    "print('numpy.linalg eig')\n",
    "[Val,Vect] = la.eig(M)  # calcul des éléments propres de la matrice M\n",
    "print('Val = ',Val)\n",
    "print('Vect =\\n ', Vect)"
   ]
  },
  {
   "cell_type": "code",
   "execution_count": 16,
   "metadata": {
    "colab": {
     "base_uri": "https://localhost:8080/",
     "height": 170
    },
    "colab_type": "code",
    "executionInfo": {
     "elapsed": 1178,
     "status": "ok",
     "timestamp": 1580077043125,
     "user": {
      "displayName": "Wenjing Zhang",
      "photoUrl": "https://lh3.googleusercontent.com/a-/AAuE7mBemhLTFAGCzqnCGRvbNquxtJFSdNtDZoviorvI=s64",
      "userId": "09965705752155516749"
     },
     "user_tz": -60
    },
    "id": "xZH3Xbw867Ds",
    "outputId": "90667e01-3415-49d2-8c9b-a98868a499d3"
   },
   "outputs": [
    {
     "name": "stdout",
     "output_type": "stream",
     "text": [
      "\n",
      "numpy.linalg solve\n",
      "M = \n",
      " [[1 2]\n",
      " [3 4]]\n",
      "B =  [5 6]\n",
      "X =  [-4.   4.5]\n",
      "M*X =\n",
      "  [5. 6.]\n"
     ]
    }
   ],
   "source": [
    "print()\n",
    "print('numpy.linalg solve')\n",
    "M = np.array([[1,2],[3,4]])\n",
    "print('M = \\n',M)\n",
    "B = np.array([5, 6])   # construction d'un vecteur de longueur 2 (2nd membre de l'équation matricielle)\n",
    "print('B = ',B)\n",
    "X = la.solve(M,B)  # résolution du système linéaire M*X=B\n",
    "print('X = ',X)\n",
    "Y = np.dot(M,X)   # calcul du produit matriciel M*X = instruction de vérification du résultat précédent (Y=B)\n",
    "print('M*X =\\n ',Y)"
   ]
  },
  {
   "cell_type": "markdown",
   "metadata": {
    "colab_type": "text",
    "id": "mpLYMU7Z7Aj6"
   },
   "source": [
    "# Fonction \"kron\""
   ]
  },
  {
   "cell_type": "code",
   "execution_count": 17,
   "metadata": {
    "colab": {
     "base_uri": "https://localhost:8080/",
     "height": 170
    },
    "colab_type": "code",
    "executionInfo": {
     "elapsed": 1166,
     "status": "ok",
     "timestamp": 1580077043125,
     "user": {
      "displayName": "Wenjing Zhang",
      "photoUrl": "https://lh3.googleusercontent.com/a-/AAuE7mBemhLTFAGCzqnCGRvbNquxtJFSdNtDZoviorvI=s64",
      "userId": "09965705752155516749"
     },
     "user_tz": -60
    },
    "id": "YZgRnmDG6-Am",
    "outputId": "afdd466f-b1ad-4d19-f4d3-3229925d3eb6"
   },
   "outputs": [
    {
     "name": "stdout",
     "output_type": "stream",
     "text": [
      "\n",
      "numpy kron et transpose\n",
      "[0 1 2 3 4]\n",
      "[[1. 1. 1. 1. 1.]]\n",
      "[[0. 1. 2. 3. 4.]\n",
      " [0. 1. 2. 3. 4.]\n",
      " [0. 1. 2. 3. 4.]\n",
      " [0. 1. 2. 3. 4.]\n",
      " [0. 1. 2. 3. 4.]]\n"
     ]
    }
   ],
   "source": [
    "print()\n",
    "print('numpy kron et transpose')\n",
    "n=5\n",
    "a=np.arange(n)    # création d'une liste de 5 éléments ordonnés de 0 à 4\n",
    "print(a)\n",
    "b=np.ones((1,n))  # création d'un vecteur ligne de 5 éléments remplis de 1\n",
    "print(b)\n",
    "c=np.kron(a,b.transpose())  #\n",
    "print(c)\n"
   ]
  },
  {
   "cell_type": "markdown",
   "metadata": {
    "colab_type": "text",
    "id": "Y19VwnvY7Mmk"
   },
   "source": [
    "# Exemple de traitement de listes"
   ]
  },
  {
   "cell_type": "code",
   "execution_count": 18,
   "metadata": {
    "colab": {
     "base_uri": "https://localhost:8080/",
     "height": 51
    },
    "colab_type": "code",
    "executionInfo": {
     "elapsed": 1157,
     "status": "ok",
     "timestamp": 1580077043126,
     "user": {
      "displayName": "Wenjing Zhang",
      "photoUrl": "https://lh3.googleusercontent.com/a-/AAuE7mBemhLTFAGCzqnCGRvbNquxtJFSdNtDZoviorvI=s64",
      "userId": "09965705752155516749"
     },
     "user_tz": -60
    },
    "id": "ZdUDm3zH7G9P",
    "outputId": "ed9cccb7-c1f7-4039-eac3-852dee8b000b"
   },
   "outputs": [
    {
     "name": "stdout",
     "output_type": "stream",
     "text": [
      "\n",
      "listes\n"
     ]
    }
   ],
   "source": [
    "print()\n",
    "print('listes')\n",
    "\n",
    "liste0 = [0,1,2,3,4,5,6]\n",
    "liste1 = [ elt * elt for elt in liste0]  # expression de type \"list comprehension\"\n",
    "                                        # chaque élément de la liste précédente élevé au carré\n",
    "liste2 = [ element for element in liste1 if element % 2 == 0]"
   ]
  },
  {
   "cell_type": "markdown",
   "metadata": {
    "colab_type": "text",
    "id": "8nEpq1jh7TX1"
   },
   "source": [
    "# liste constitué des éléments de la liste précédente vérifiant un test de parité"
   ]
  },
  {
   "cell_type": "code",
   "execution_count": 19,
   "metadata": {
    "colab": {
     "base_uri": "https://localhost:8080/",
     "height": 85
    },
    "colab_type": "code",
    "executionInfo": {
     "elapsed": 1147,
     "status": "ok",
     "timestamp": 1580077043126,
     "user": {
      "displayName": "Wenjing Zhang",
      "photoUrl": "https://lh3.googleusercontent.com/a-/AAuE7mBemhLTFAGCzqnCGRvbNquxtJFSdNtDZoviorvI=s64",
      "userId": "09965705752155516749"
     },
     "user_tz": -60
    },
    "id": "R4_HlJeN7TDL",
    "outputId": "49da0f03-035e-4e01-939b-5adf921c3a9f"
   },
   "outputs": [
    {
     "name": "stdout",
     "output_type": "stream",
     "text": [
      "\n",
      "[0, 1, 2, 3, 4, 5, 6]\n",
      "[0, 1, 4, 9, 16, 25, 36]\n",
      "[0, 4, 16, 36]\n"
     ]
    }
   ],
   "source": [
    "print()\n",
    "print(liste0)       # Affichage des listes résultats\n",
    "print(liste1)\n",
    "print(liste2)"
   ]
  },
  {
   "cell_type": "markdown",
   "metadata": {
    "colab_type": "text",
    "id": "SlJgdmFJ7YkL"
   },
   "source": [
    "# Affectation de lignes à la Matlab"
   ]
  },
  {
   "cell_type": "code",
   "execution_count": 20,
   "metadata": {
    "colab": {
     "base_uri": "https://localhost:8080/",
     "height": 153
    },
    "colab_type": "code",
    "executionInfo": {
     "elapsed": 1140,
     "status": "ok",
     "timestamp": 1580077043127,
     "user": {
      "displayName": "Wenjing Zhang",
      "photoUrl": "https://lh3.googleusercontent.com/a-/AAuE7mBemhLTFAGCzqnCGRvbNquxtJFSdNtDZoviorvI=s64",
      "userId": "09965705752155516749"
     },
     "user_tz": -60
    },
    "id": "hdAYjPDK7QfU",
    "outputId": "0e99e3f7-1979-4afb-d861-75f52cec7514"
   },
   "outputs": [
    {
     "name": "stdout",
     "output_type": "stream",
     "text": [
      "C =  [0 1 4 9]\n",
      "D =  [ 0  1  8 27]\n",
      "E =  [ 0  1 16 81]\n",
      "A =\n",
      "  [[ 0.  1.  4.  9.]\n",
      " [ 0.  1.  8. 27.]\n",
      " [ 0.  1. 16. 81.]\n",
      " [ 0.  0.  0.  0.]]\n"
     ]
    }
   ],
   "source": [
    "A = np.zeros((4,4))   # A matrice d'ordre 4 remplie de 0\n",
    "S = np.arange(4)      # S vecteur ligne de 4 éléments ordonnés de 1 à 4\n",
    "C = S ** 2            # C vecteur ligne, valeur = terme S correspondant élevé au carré\n",
    "D = S ** 3            # D vecteur ligne, valeur = terme S correspondant à la puissance 3\n",
    "E = S ** 4            # E vecteur ligne, valeur = terme S correspondant à la puissance 4\n",
    "\n",
    "print('C = ',C)       # affichage vecteur résultat C\n",
    "print('D = ',D)       # affichage vecteur résultat D\n",
    "print('E = ',E)       # affichage vecteur résultat E\n",
    "A[0,:] = C            # Affectation du vecteur C à la 1ère ligne de A\n",
    "A[1,:] = D            # Affectation du vecteur D à la 2nde ligne de A\n",
    "A[2,:] = E            # Affectation du vecteur E à la 3ème ligne de A\n",
    "print('A =\\n ',A)       # affichage de la matrice résultat\n"
   ]
  }
 ],
 "metadata": {
  "colab": {
   "authorship_tag": "ABX9TyM9pUBMYmTLU3Jv0CZC3zNO",
   "collapsed_sections": [],
   "name": "TD1 Tableaux.ipynb",
   "provenance": []
  },
  "kernelspec": {
   "display_name": "Python 3",
   "language": "python",
   "name": "python3"
  },
  "language_info": {
   "codemirror_mode": {
    "name": "ipython",
    "version": 3
   },
   "file_extension": ".py",
   "mimetype": "text/x-python",
   "name": "python",
   "nbconvert_exporter": "python",
   "pygments_lexer": "ipython3",
   "version": "3.7.5"
  }
 },
 "nbformat": 4,
 "nbformat_minor": 1
}
