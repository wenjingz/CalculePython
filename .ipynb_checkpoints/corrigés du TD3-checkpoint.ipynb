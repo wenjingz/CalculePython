{
 "cells": [
  {
   "cell_type": "markdown",
   "metadata": {},
   "source": [
    "\n",
    "<div align=\"left\"><b> IMT Mines Alès (2019-2020)</b></div>\n"
   ]
  },
  {
   "cell_type": "markdown",
   "metadata": {},
   "source": [
    "\n",
    "<p><a id=\"top\"></a></p>\n"
   ]
  },
  {
   "cell_type": "markdown",
   "metadata": {},
   "source": [
    "\n",
    "<div align=\"center\">\n",
    "<font face=\"Times\" size=\"7\">Analyse et calcul numériques<br/><br/>\n",
    "    Exercices corrigés du TD3<br/></font><br/>\n",
    "<font face=\"Times\" size=\"4\">P. Guyot, X. Picamoles, L. Pissot, E. Rousée</font>\n",
    "</div>\n"
   ]
  },
  {
   "cell_type": "markdown",
   "metadata": {},
   "source": [
    "\n",
    "<div class=\"alert alert-info\">\n",
    "<font color=\"black\" face=\"Times\" size=\"6\"><b>Table des matières </b></font><br/><br/>\n",
    "<font color=\"black\" face=\"Times\" size=\"5\"><b><a href=\"#Exo1\"> 1. Conjecture de Syracuse\n",
    "</a></b></font><br/>\n",
    "<font color=\"black\" face=\"Times\" size=\"5\"><b><a href=\"#Exo2\"> 2. Fonction de Lissage</a></b></font><br/>\n",
    "<font color=\"black\" face=\"Times\" size=\"5\"><b><a href=\"#Exo3\"> 3. Suite de Fibonacci</a></b></font><br/>\n",
    "</div>\n"
   ]
  },
  {
   "cell_type": "markdown",
   "metadata": {},
   "source": [
    "\n",
    "<p><a id=\"Exo1\"></a></p>\n"
   ]
  },
  {
   "cell_type": "markdown",
   "metadata": {},
   "source": [
    "\n",
    "<div class=\"alert alert-info\">\n",
    "<font color=\"black\" size=\"5\"><b>1. Conjecture de Syracuse</b></font>\n",
    "</div>\n"
   ]
  },
  {
   "cell_type": "markdown",
   "metadata": {},
   "source": [
    "\n",
    "<p>Import des packages Python</p>\n"
   ]
  },
  {
   "cell_type": "code",
   "execution_count": null,
   "metadata": {},
   "outputs": [],
   "source": [
    "\n",
    "from math import *                # les constantes et fonctions mathématiques\n",
    "import numpy as np                # le calcul numérique\n",
    "import matplotlib.pyplot as plt   # l affichage graphique\n",
    "\n",
    "from IPython.display import Image # pour l'incrustration des images dans le notebook\n",
    "\n"
   ]
  },
  {
   "cell_type": "markdown",
   "metadata": {},
   "source": [
    "\n",
    "<h3 id=\"Exercice-1.\">Exercice 1.<a class=\"anchor-link\" href=\"#Exercice-1.\">¶</a></h3><p>Cet exercice porte sur la conjecture dite de <i>Syracuse</i>. Partant d’un entier non nul, on suit la règle suivante :<br/>\n",
    "— S’il est pair, on le divise par 2.<br/>\n",
    "— S’il est impair, on le multiplie par 3 et on ajoute 1.<br/>\n",
    "La conjecture de <i>Syracuse</i> énonce que la suite de nombres produite par l’application de cette règle finit toujours par se stabiliser à 1.</p>\n",
    "<p>1) Écrire une fonction <code>SyracuseSuite()</code> qui prend en entrée un entier $n$ non nul et qui renvoie la liste des nombres produits par l’application de la règle précédente ainsi que le nombre d’étapes nécessaires pour atteindre la valeur 1. <br/> Vérifier ainsi la conjecture sur différentes valeurs. Par exemple, l’appel <code>SyracuseSuite(5)</code> doit produire la liste <code>[5, 16, 8.0, 4.0, 2.0, 1.0]</code></p>\n",
    "<p>2) Écrire une fonction <code>GraphSyracuse()</code> qui prend en entrée un entier $n$ non nul et qui représente graphiquement les termes de la suite obtenue. Par exemple, l’appel <code>GraphSyracuse(153)</code> doit produire le graphique ci-dessous.</p>\n"
   ]
  },
  {
   "cell_type": "code",
   "execution_count": null,
   "metadata": {},
   "outputs": [],
   "source": [
    "\n",
    "Image(filename=\"CN_TD3_ex1.jpg\", embed=True, width=700)\n",
    "\n"
   ]
  },
  {
   "cell_type": "markdown",
   "metadata": {},
   "source": [
    "\n",
    "<div class=\"alert alert-success\"><b><font color=\"black\" face=\"Times\" size=\"3\">Réponses</font></b> :<br/><br/>\n",
    "<font color=\"black\" face=\"Times\" size=\"3\"><b>1) Code de la fonction </b><font color=\"black\" face=\"Courier\" size=\"3\">SyracuseSuite()</font></font>\n",
    "</div>\n"
   ]
  },
  {
   "cell_type": "code",
   "execution_count": null,
   "metadata": {},
   "outputs": [],
   "source": [
    "\n",
    "def SyracuseSuite(n):\n",
    "    \"\"\" \n",
    "    Conjecture de Syracuse (ou Collatz, ou 3x+1)\n",
    "    Version qui renvoie le tableau des termes de la suite\n",
    "    \"\"\"     \n",
    "    s = [n]              # initialisation de la suite (U0)\n",
    "    while n > 1:         # Tant que la conjecture n'est pas vérifiée\n",
    "        if n%2:          # comparaison logique <=> bool(1)=True et correspond au cas du test d'imparité\n",
    "            n = 3*n + 1 \n",
    "        else:\n",
    "            n /= 2\n",
    "        s.append(n)  # on complète la liste dynamique s par la valeur obtenue (Un+1)\n",
    "    \n",
    "    return s\n",
    "\n"
   ]
  },
  {
   "cell_type": "markdown",
   "metadata": {},
   "source": [
    "\n",
    "<p>Résultat avec $U_0 = 5$</p>\n"
   ]
  },
  {
   "cell_type": "code",
   "execution_count": null,
   "metadata": {},
   "outputs": [],
   "source": [
    "\n",
    "s = SyracuseSuite(5)\n",
    "print('suite : ',s)\n",
    "print(len(s))\n",
    "\n"
   ]
  },
  {
   "cell_type": "markdown",
   "metadata": {},
   "source": [
    "\n",
    "<div class=\"alert alert-success\">\n",
    "<font color=\"black\" face=\"Times\" size=\"3\"><b>2) Code de la fonction </b><font color=\"black\" face=\"Courier\" size=\"3\">GraphSyracuse()</font></font>\n",
    "</div>\n"
   ]
  },
  {
   "cell_type": "code",
   "execution_count": null,
   "metadata": {},
   "outputs": [],
   "source": [
    "\n",
    "def GraphSyracuse(n):\n",
    "    \"\"\" Représentation graphique des termes de la suite de Syracuse à partir de u0 = n\n",
    "        + caractéristiques visuelles\n",
    "        Argument d'entrée : le rang maximum de la suite\n",
    "        Argument de sortie : le graphe, la valeur maximale et le nombre de termes nécessaires\n",
    "    \"\"\"\n",
    "    y = SyracuseSuite(n)\n",
    "    x = list(range(1, len(y)+1)) # position de l'élément y correspond au rang de la suite Sn\n",
    "    plt.figure(figsize=(12,6))\n",
    "    plt.plot(x, y, 'ok')\n",
    "    plt.plot(x, y, ':b')\n",
    "    plt.title('CN3 - Exercice 1.2 : Conjecture de Syracuse ($S_0='+str(n)+'$)',fontsize=10, pad=15)\n",
    "    plt.xlabel('Etape n'); plt.ylabel('S(n)');\n",
    "    \n",
    "    return np.max(y), len(y)\n",
    "\n"
   ]
  },
  {
   "cell_type": "markdown",
   "metadata": {},
   "source": [
    "\n",
    "<ul>\n",
    "<li>Résultats numériques et graphiques avec $U_0 = 253$</li>\n",
    "</ul>\n"
   ]
  },
  {
   "cell_type": "code",
   "execution_count": null,
   "metadata": {},
   "outputs": [],
   "source": [
    "\n",
    "[altitudeMax, tpsVol] = GraphSyracuse(253)\n",
    "print('Altitude Max =', altitudeMax, 'Temps de vol =', tpsVol)\n",
    "\n"
   ]
  },
  {
   "cell_type": "markdown",
   "metadata": {},
   "source": [
    "\n",
    "<ul>\n",
    "<li>Résultats numériques et graphiques avec $U_0 = 153$</li>\n",
    "</ul>\n"
   ]
  },
  {
   "cell_type": "code",
   "execution_count": null,
   "metadata": {},
   "outputs": [],
   "source": [
    "\n",
    "[altitudeMax, tpsVol] = GraphSyracuse(153)\n",
    "print('Altitude Max =', altitudeMax, 'Temps de vol =', tpsVol)\n",
    "\n"
   ]
  },
  {
   "cell_type": "markdown",
   "metadata": {},
   "source": [
    "\n",
    "<p><a id=\"Exo2\"></a></p><div align=\"right\"><a href=\"#top\">Haut du document</a></div>\n"
   ]
  },
  {
   "cell_type": "markdown",
   "metadata": {},
   "source": [
    "\n",
    "<div class=\"alert alert-info\">\n",
    "<font color=\"black\" size=\"5\"><b>2. Fonction de Lissage</b></font>\n",
    "</div>\n"
   ]
  },
  {
   "cell_type": "markdown",
   "metadata": {},
   "source": [
    "\n",
    "<h3 id=\"Exercice-2.\">Exercice 2.<a class=\"anchor-link\" href=\"#Exercice-2.\">¶</a></h3><p>1) Construire une fonction <code>LisserTab()</code> qui prend en entrée une liste de nombres $t_i$ , un entier $p$ non nul et qui envoie une nouvelle liste dont les éléments $t'_i$ sont calculés de la manière suivante :<br/> — Si l’élément $t_i$ possède « assez de termes » avant et après lui, alors il est remplacé par <br/><br/> </p><center><font size=\"4\"> $t_i \\to t'_i = \\frac{t_{i-p}+...+t_{i-1}+t_i+t_{i+1}+...+t_{i+p}} {2p+1}$ </font></center><br/>  — Si l’élément $t_i$ possède « assez de termes » après lui mais pas avant, ou le contraire, alors il est remplacé par la moyenne de tous les termes disponibles avant lui, lui-même et tous les termes disponibles après lui.<br/> Par exemple, si $p = 1$, l’appel <code>LisserTab([a,b,c], 1)</code> renvoie <br/><center><font size=\"4\"> $[\\frac{a+b} {2}, \\frac{a+b+c} {3}, \\frac{b+c} {2}]$ </font></center><br/><br/> Vérifier que l’appel <code>LisserTab([1,2,3,4,5], 1)</code> renvoie <code>[1.5, 2.0, 3.0, 4.0, 4.5]</code>. <br/><br/>\n",
    "2) Construire maintenant une fonction <code>LisserTabIter()</code> qui prend en entrée une liste $T$ , un entier $p$ non nul, un entier $m$ non nul et qui renvoie la liste obtenue après $m$ appels de <code>LisserTab()</code>. <br/> Vérifier que l’appel <code>LisserTabIter([1, 2, 3, 4], 1, 2)</code> produit le résultat : <code>[1.75, 2.1666666666666665, 2.8333333333333335, 3.25]</code>. <br/><br/>\n",
    "3) Construire maintenant une fonction <code>GraphSyracuseLisse()</code> qui prend en entrée un entier $k$ non nul, un entier $p$ non nul, un entier $m$ non nul et qui renvoie la représentation graphique « lissée » des termes de la suite de Syracuse à partir du nombre $k$ en utilisant la fonction <code>LisserTabIter()</code> avec les paramètres $p$ et $m$. Par exemple, l’appel à <code>GraphSyracuseLisse(153, 2, 5)</code> renvoie le graphique suivant : <br/>\n"
   ]
  },
  {
   "cell_type": "code",
   "execution_count": null,
   "metadata": {},
   "outputs": [],
   "source": [
    "\n",
    "Image(filename=\"CN_TD3_ex2.jpg\", embed=True, width=800, height=480)\n",
    "\n"
   ]
  },
  {
   "cell_type": "markdown",
   "metadata": {},
   "source": [
    "\n",
    "<div class=\"alert alert-success\"><b><font color=\"black\" face=\"Times\" size=\"3\">Réponses</font></b> :<br/><br/>\n",
    "<font color=\"black\" face=\"Times\" size=\"3\"><b>1) Code de la fonction </b><font color=\"black\" face=\"Courier\" size=\"3\">LisserTab()</font></font>\n",
    "</div>\n"
   ]
  },
  {
   "cell_type": "code",
   "execution_count": null,
   "metadata": {},
   "outputs": [],
   "source": [
    "\n",
    "def LisserTab(T,p):\n",
    "    \"\"\"\n",
    "    Moyennes mobiles sur 2*p+1 éléments\n",
    "    C'est à dire p avant et p après l'élément courant\n",
    "    Sauf pour les premiers et les derniers où il y en a moins\n",
    "\n",
    "    Celà exige que 2*p+1 <= n\n",
    "    \"\"\"\n",
    "    # Initialisation\n",
    "    n = len(T);\n",
    "    # Création du nouveau tableau contenant des 0 de la bonne taille\n",
    "    U = [0]*n\n",
    "\n",
    "    # Test du cas particulier où il n'y a rien à faire\n",
    "    if 2*p+1 > n:\n",
    "        return T\n",
    "    else:\n",
    "        for i in range(n):\n",
    "            # Comptage du nombre de termes avant le terme t_i (indice du 1er elt de la fenetre de calcul)\n",
    "            nb_avant = max(0, i-p)\n",
    "            # Comptage du nombre de termes après le terme t_i\n",
    "            nb_apres = min(n, i+p+1)\n",
    "            # Calcul des termes du nouveau tableau par sommation (fonction du repérage précédent)\n",
    "            U[i] = sum( T[k] for k in range(nb_avant, nb_apres) )\n",
    "            # Division par le nombre de termes évalué (différence des positions extrêmes)\n",
    "            U[i] /= (nb_apres-nb_avant)\n",
    "    \n",
    "    return U\n",
    "\n"
   ]
  },
  {
   "cell_type": "markdown",
   "metadata": {},
   "source": [
    "\n",
    "<p>Résultats de l'appel <code>LisserTab([1,2,3,4,5], 1)</code></p>\n"
   ]
  },
  {
   "cell_type": "code",
   "execution_count": null,
   "metadata": {},
   "outputs": [],
   "source": [
    "\n",
    "LisserTab([1,2,3,4,5], 1)\n",
    "\n"
   ]
  },
  {
   "cell_type": "markdown",
   "metadata": {},
   "source": [
    "\n",
    "<div class=\"alert alert-success\">\n",
    "<font color=\"black\" face=\"Times\" size=\"3\"><b>2) Code de la fonction </b><font color=\"black\" face=\"Courier\" size=\"3\">LisserTabIter()</font></font>\n",
    "</div>\n"
   ]
  },
  {
   "cell_type": "code",
   "execution_count": null,
   "metadata": {},
   "outputs": [],
   "source": [
    "\n",
    "def LisserTabIter(T, p, m):\n",
    "    TabLisse = T\n",
    "    for i in range(0, m):\n",
    "        TabLisse = LisserTab(TabLisse, p)\n",
    "    \n",
    "    return TabLisse\n",
    "\n"
   ]
  },
  {
   "cell_type": "markdown",
   "metadata": {},
   "source": [
    "\n",
    "<p>Résultats de l'appel <code>LisserTabIter([1, 2, 3, 4], 1, 2)</code></p>\n"
   ]
  },
  {
   "cell_type": "code",
   "execution_count": null,
   "metadata": {},
   "outputs": [],
   "source": [
    "\n",
    "LisserTabIter([1, 2, 3, 4], 1, 2)\n",
    "\n"
   ]
  },
  {
   "cell_type": "markdown",
   "metadata": {},
   "source": [
    "\n",
    "<div class=\"alert alert-success\">\n",
    "<font color=\"black\" face=\"Times\" size=\"3\"><b>3) Code de la fonction </b><font color=\"black\" face=\"Courier\" size=\"3\">GraphSyracuseLisse()</font></font>\n",
    "</div>\n"
   ]
  },
  {
   "cell_type": "markdown",
   "metadata": {},
   "source": [
    "\n",
    "<p>On propose de superposer les différents résultats : les termes de la suite, le graphe lissé et le graphe lissé par itération.</p>\n"
   ]
  },
  {
   "cell_type": "code",
   "execution_count": null,
   "metadata": {},
   "outputs": [],
   "source": [
    "\n",
    "def GraphSyracuseLisse(n, p, m):\n",
    "    y = SyracuseSuite(n)\n",
    "    x = list(range(1, len(y)+1))\n",
    "    t = LisserTab(y, p)\n",
    "    z = LisserTabIter(y, p, m)\n",
    "    plt.figure(figsize=(20,10))\n",
    "    plt.plot(x, y, ':r', label=\"Syracuse\")\n",
    "    plt.plot(x, t, '-b', label=\"Lissage simple\")\n",
    "    plt.plot(x, z, '-g', label=\"Lissage itéré\")    \n",
    "    plt.title('CN3 - Exercice 1.2 : Lissage de la suite de Syracuse ($S_0='+str(n)+'$)',fontsize=10, pad=15)\n",
    "    plt.xlabel('Etape n'); plt.ylabel('S(n)');\n",
    "    plt.legend(loc='best')\n",
    "\n"
   ]
  },
  {
   "cell_type": "markdown",
   "metadata": {},
   "source": [
    "\n",
    "<p>Résultats de l'appel <code>GraphSyracuseLisse(153, 2, 5)</code></p>\n"
   ]
  },
  {
   "cell_type": "code",
   "execution_count": null,
   "metadata": {},
   "outputs": [],
   "source": [
    "\n",
    "GraphSyracuseLisse(253, 2, 5)\n",
    "\n"
   ]
  },
  {
   "cell_type": "markdown",
   "metadata": {},
   "source": [
    "\n",
    "<p><a id=\"Exo3\"></a></p><div align=\"right\"><a href=\"#top\">Haut du document</a></div>\n"
   ]
  },
  {
   "cell_type": "markdown",
   "metadata": {},
   "source": [
    "\n",
    "<div class=\"alert alert-info\">\n",
    "<font color=\"black\" size=\"5\"><b>3. Suite de Fibonacci</b></font>\n",
    "</div>\n"
   ]
  },
  {
   "cell_type": "markdown",
   "metadata": {},
   "source": [
    "\n",
    "<h3 id=\"Exercice-3.\">Exercice 3.<a class=\"anchor-link\" href=\"#Exercice-3.\">¶</a></h3><p>On considère la suite de <i>Fibonacci</i>, définie par $u_0 \\in $ <font face=\"Castellar\" size=\"3\">R</font>, et $u_1 \\in$ <font face=\"Castellar\" size=\"3\">R</font> donnés et  $\\forall n \\in $ <font face=\"Castellar\" size=\"3\">N</font>, $u_{n+2} = u_{n+1} + u_{n}$ <br/>\n",
    "1) Construire une fonction itérative <code>Fibo()</code> qui prend en entrée un entier $n$ et les valeurs $u_0$ et $u_1$ et qui renvoie la valeur $u_n$ du terme de la suite de Fibonacci.<br/> Vérifier que <code>Fibo(0,1,6)</code> donne <code>8</code>.<br/><br/> \n",
    "2) Construire une fonction récursive <code>FiboR()</code> qui prend en entrée un entier $n$ et les valeurs $u_0$ et $u_1$ et qui renvoie la valeur $u_n$ du terme de la suite de Fibonacci. <br/> Vérifier que <code>FiboR(0,1,6)</code> donne <code>8</code>.</p>\n"
   ]
  },
  {
   "cell_type": "markdown",
   "metadata": {},
   "source": [
    "\n",
    "<div class=\"alert alert-success\"><b><font color=\"black\" face=\"Times\" size=\"3\">Réponses</font></b> :<br/><br/>\n",
    "<font color=\"black\" face=\"Times\" size=\"3\"><b>1) Code de la fonction </b><font color=\"black\" face=\"Courier\" size=\"3\">Fibo()</font> (variante itérative)</font>\n",
    "</div>\n"
   ]
  },
  {
   "cell_type": "code",
   "execution_count": null,
   "metadata": {},
   "outputs": [],
   "source": [
    "\n",
    "def Fibo(a, b, n):\n",
    "    u = [a, b, a+b]\n",
    "    for i in range(n):\n",
    "        u[2] = u[1] + u[0]\n",
    "        u[0] = u[1]\n",
    "        u[1] = u[2]\n",
    "    return u[0]\n",
    "\n"
   ]
  },
  {
   "cell_type": "markdown",
   "metadata": {},
   "source": [
    "\n",
    "<p>Résultat de l'appel <code>Fibo(6)</code></p>\n"
   ]
  },
  {
   "cell_type": "code",
   "execution_count": null,
   "metadata": {},
   "outputs": [],
   "source": [
    "\n",
    "Fibo(0, 1, 6)\n",
    "\n"
   ]
  },
  {
   "cell_type": "markdown",
   "metadata": {},
   "source": [
    "\n",
    "<div class=\"alert alert-success\">\n",
    "<font color=\"black\" face=\"Times\" size=\"3\"><b>2) Code de la fonction </b><font color=\"black\" face=\"Courier\" size=\"3\">FiboR()</font> (variante récursive)</font>\n",
    "</div>\n"
   ]
  },
  {
   "cell_type": "code",
   "execution_count": null,
   "metadata": {},
   "outputs": [],
   "source": [
    "\n",
    "def FiboR(a, b, n):\n",
    "    if n == 0:   # on ne dispose que de u0\n",
    "        return a\n",
    "    if n == 1:   # on dispose de u0 et u1\n",
    "        return b\n",
    "    else:\n",
    "        return Fibo(a, b, n-2) + Fibo(a, b, n-1)\n",
    "\n"
   ]
  },
  {
   "cell_type": "markdown",
   "metadata": {},
   "source": [
    "\n",
    "<p>Résultat de l'appel <code>FiboR(6)</code></p>\n"
   ]
  },
  {
   "cell_type": "code",
   "execution_count": null,
   "metadata": {},
   "outputs": [],
   "source": [
    "\n",
    "FiboR(0, 1, 6)\n",
    "\n"
   ]
  },
  {
   "cell_type": "markdown",
   "metadata": {},
   "source": [
    "\n",
    "<ul>\n",
    "<li>Solution optimale à partir des affectations parallèles</li>\n",
    "</ul>\n"
   ]
  },
  {
   "cell_type": "code",
   "execution_count": null,
   "metadata": {},
   "outputs": [],
   "source": [
    "\n",
    "a, b, c = 0, 1, 1\n",
    "while c < 11:\n",
    "    a, b, c = b, a+b, c+1\n",
    "    print(b, end=\" \")\n",
    "    #print(b) # ou print(b, end=\"\\n\") # par défaut ligne à ligne \n",
    "\n"
   ]
  },
  {
   "cell_type": "markdown",
   "metadata": {},
   "source": [
    "\n",
    "<p>Une justification commentée de l'interprétation du modulo[2] comme test logique :</p>\n"
   ]
  },
  {
   "cell_type": "code",
   "execution_count": null,
   "metadata": {},
   "outputs": [],
   "source": [
    "\n",
    "n = input(\"Saisir un entier = \")\n",
    "res = int(n)%2\n",
    "#print(res)\n",
    "#print(type(res))\n",
    "\n",
    "if res:  # res vaut 1 considere comme booleen True\n",
    "    print(str(n)+' est impair')\n",
    "else:\n",
    "    print(str(n)+' est pair')\n",
    "\n"
   ]
  }
 ],
 "metadata": {
  "kernelspec": {
   "display_name": "Python 3",
   "language": "python",
   "name": "python3"
  },
  "language_info": {
   "codemirror_mode": {
    "name": "ipython",
    "version": 3
   },
   "file_extension": ".py",
   "mimetype": "text/x-python",
   "name": "python",
   "nbconvert_exporter": "python",
   "pygments_lexer": "ipython3",
   "version": "3.7.5"
  }
 },
 "nbformat": 4,
 "nbformat_minor": 1
}
