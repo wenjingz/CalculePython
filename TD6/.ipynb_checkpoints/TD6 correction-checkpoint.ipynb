{
 "cells": [
  {
   "cell_type": "markdown",
   "metadata": {},
   "source": [
    "\n",
    "<div align=\"left\"><b> IMT Mines Alès (2019-2020)</b></div>\n"
   ]
  },
  {
   "cell_type": "markdown",
   "metadata": {},
   "source": [
    "\n",
    "<p><a id=\"top\"></a></p>\n"
   ]
  },
  {
   "cell_type": "markdown",
   "metadata": {},
   "source": [
    "\n",
    "<div align=\"center\">\n",
    "<font face=\"Times\" size=\"7\">Analyse et calcul numériques<br/><br/>\n",
    "    Exercices corrigés du TD6<br/></font><br/>\n",
    "<font face=\"Times\" size=\"4\">P. Guyot, X. Picamoles, L. Pissot, E. Rousée</font>\n",
    "</div>\n"
   ]
  },
  {
   "cell_type": "markdown",
   "metadata": {},
   "source": [
    "\n",
    "<div class=\"alert alert-info\">\n",
    "<font color=\"black\" face=\"Times\" size=\"6\"><b>Table des matières </b></font><br/><br/>\n",
    "<font color=\"blue\" face=\"Times\" size=\"5\"><b><a href=\"#Exo1\"> 1. Résolution d’équations numériques pour une fonction d’une variable</a></b></font><br/>\n",
    "<font color=\"blue\" face=\"Times\" size=\"4\"><a href=\"#Exo1_1\">    1.1 Fonction native <font face=\"Courier\">fsolve</font></a> </font><br/>\n",
    "<font color=\"blue\" face=\"Times\" size=\"4\"><a href=\"#Exo1_2\">   1.2 Résolution par la méthode de dichotomie</a></font><br/>\n",
    "<font color=\"blue\" face=\"Times\" size=\"4\"><a href=\"#Exo1_3\">   1.3 Résolution par la méthode du point fixe</a></font><br/>\n",
    "<font color=\"blue\" face=\"Times\" size=\"4\"><a href=\"#Exo1_4\">   1.4 Résolution par la méthode de Newton en dimension 1</a> </font><br/><br/>\n",
    "<font color=\"blue\" face=\"Times\" size=\"5\"><b><a href=\"#Exo2\"> 2. Résolution d’équations numériques pour une fonction de deux variables : La méthode de Newton en dimension 2 </a></b></font><br/><br/>\n",
    "<font color=\"blue\" face=\"Times\" size=\"5\"><b><a href=\"#Exo3\">  3. Exercices facultatifs </a></b></font><br/>\n",
    "<font color=\"blue\" face=\"Times\" size=\"4\"><a href=\"#Exo3\">    3.1 Une variante de la méthode de Newton</a> </font><br/>\n",
    "<font color=\"blue\" face=\"Times\" size=\"4\"><a href=\"#Exo3_2\">   3.2 Fractale de Newton</a></font><br/><br/>\n",
    "<font color=\"blue\" face=\"Times\" size=\"5\"><b><a href=\"#Exo4\">  4. Indications </a></b></font><br/><br/>\n",
    "</div>\n"
   ]
  },
  {
   "cell_type": "markdown",
   "metadata": {},
   "source": [
    "\n",
    "<p><a id=\"Exo1\"></a></p><div align=\"right\"><a href=\"#top\">Haut du document</a></div>\n"
   ]
  },
  {
   "cell_type": "markdown",
   "metadata": {},
   "source": [
    "\n",
    "<ul>\n",
    "<li>Import des packages Python</li>\n",
    "</ul>\n"
   ]
  },
  {
   "cell_type": "code",
   "execution_count": null,
   "metadata": {},
   "outputs": [],
   "source": [
    "\n",
    "import scipy.optimize as resol\n",
    "import numpy as np\n",
    "import matplotlib.pyplot as plt\n",
    "import time\n",
    "import scipy.linalg as la\n",
    "\n"
   ]
  },
  {
   "cell_type": "markdown",
   "metadata": {},
   "source": [
    "\n",
    "<div class=\"alert alert-info\">\n",
    "<font color=\"black\" size=\"5\"><b>1. Résolution d’équations numériques pour une fonction d’une variable</b></font>\n",
    "</div>\n"
   ]
  },
  {
   "cell_type": "markdown",
   "metadata": {},
   "source": [
    "\n",
    "<p>La problématique est la résolution d’une équation de la forme $f(x) = 0$ dans un intervalle fermé borné $[a, b]$ ne contenant qu’une seule racine avec $f$ une fonction continue sur $[a, b]$.<br/>\n",
    "Dans toute la suite on supposera donc les deux conditions suivantes vérifiées :<br/>\n",
    " (C1) $f$ est continue sur l’intervalle $[a, b]$.<br/>\n",
    " (C2) L’équation $f(x) = 0$ possède une unique solution dans $]a, b[$.</p>\n"
   ]
  },
  {
   "cell_type": "markdown",
   "metadata": {},
   "source": [
    "\n",
    "<p><a id=\"Exo1_1\"></a></p><div align=\"right\"><a href=\"#top\">Haut du document</a></div>\n"
   ]
  },
  {
   "cell_type": "markdown",
   "metadata": {},
   "source": [
    "\n",
    "<div class=\"alert alert-info\"><font color=\"black\" size=\"4\"><b>1.1 Fonction native <font face=\"Courier\">fsolve()</font></b></font></div>\n"
   ]
  },
  {
   "cell_type": "markdown",
   "metadata": {},
   "source": [
    "\n",
    "<p>Python dispose de la fonction native <code>fsolve()</code> disponible après avoir importé <font face=\"Courier\">import scipy.optimize as resol</font>.<br/>\n",
    "La syntaxe est <br/></p><div align=\"center\"><font face=\"Courier\">fsolve(f, x0)</font></div><br/>\n",
    "où<br/>\n",
    "<ul>\n",
    "<li>$f$ est une fonction numérique qui définit l’équation $f(x) = 0$.<br/></li>\n",
    "<li>$x_0$ définit la valeur de départ pour la recherche par l’algorithme.<br/>\n",
    "Le résultat est une valeur approchée de la solution de l’équation $f(x) = 0$ au voisinage de $x_0$.</li>\n",
    "</ul>\n"
   ]
  },
  {
   "cell_type": "markdown",
   "metadata": {},
   "source": [
    "\n",
    "<div align=\"left\" class=\"alert alert-danger\">\n",
    "<span style=\"font-size: 20px;\"><i class=\"fa fa-exclamation-triangle\" title=\"Edit\">\n",
    "<font color=\"black\" size=\"3\"><b>   Attention.</b></font></i><br/></span><br/>\n",
    "<font color=\"black\">Si l’équation possède plusieurs racines, la fonction <font face=\"Courier\">fsolve(f, x0)</font> ne l’indique pas, elle ne donne que la racine la plus proche de $x_0$.</font>\n",
    "</div>\n"
   ]
  },
  {
   "cell_type": "code",
   "execution_count": null,
   "metadata": {},
   "outputs": [],
   "source": [
    "\n",
    "def f(x):\n",
    "    return x**2+2*x-3\n",
    "\n",
    "print(\"f(x) = x^2 + 2x - 3\")\n",
    "x0 = 0.\n",
    "sol0 = resol.fsolve(f, x0)\n",
    "print('solution native de f(x)=0 est : ', float(sol0.round()), 'en partant de x0 = ', x0)\n",
    "\n",
    "# En démarrant la recherche de x0=-4, on doit tomber sur la seconde racine attendue (-3)\n",
    "x0 = -4.\n",
    "sol1 = resol.fsolve(f, x0)\n",
    "print('solution native de f(x)=0 est : ', float(sol1.round()), 'en partant de x0 = ', x0)\n",
    "\n",
    "# En démarrant la recherche de x0 = -1, à mi chemin entre le racines sur ...\n",
    "x0 = -1.\n",
    "sol2 = resol.fsolve(f, x0)\n",
    "print('solution native de f(x)=0 est : ', float(sol2.round()), 'en partant de x0 = ', x0)\n",
    "\n"
   ]
  },
  {
   "cell_type": "markdown",
   "metadata": {},
   "source": [
    "\n",
    "<p><a id=\"Exo1_2\"></a></p><div align=\"right\"><a href=\"#top\">Haut du document</a></div>\n"
   ]
  },
  {
   "cell_type": "markdown",
   "metadata": {},
   "source": [
    "\n",
    "<div class=\"alert alert-info\"><font color=\"black\" size=\"4\"><b>1.2 Résolution par la méthode de dichotomie</b></font></div>\n"
   ]
  },
  {
   "cell_type": "markdown",
   "metadata": {},
   "source": [
    "\n",
    "<p>Le principe de dichotomie peut servir à calculer une valeur approchée d’une racine d’une équation $f(x) = 0$ dans un\n",
    "intervalle $[a,b]$ dans le cas où $f$ est continue sur l’intervalle $[a,b]$ et possède une seule racine dans $[a,b]$. Le principe est le suivant :<br/></p>\n",
    "<p>— On « coupe » le segment $[a,b]$ en son milieu noté $m$.<br/>\n",
    "— On teste le signe de $f(a) \\times f(m)$ et selon qu’il est négatif ou positif on garde le segment $[a, m]$ ou $[m,b]$.<br/>\n",
    "— On recommence avec l’un des deux segments $[a, m]$ ou $[m, b]$ tant que l’écart entre les deux bornes de l’intervalle est supérieur à un écart fixé à l’avance.</p>\n"
   ]
  },
  {
   "cell_type": "markdown",
   "metadata": {},
   "source": [
    "\n",
    "<h3 id=\"Exercice-1\">Exercice 1<a class=\"anchor-link\" href=\"#Exercice-1\">¶</a></h3><ol>\n",
    "<li>Construire une fonction <code>DichoFonction()</code> qui prend en entrée une fonction $f$, deux bornes $a$ et $b$ avec $a &lt; b$ et un entier $p$ et qui renvoie la racine de l’équation $f(x) = 0$ dans $[a, b]$ à $10^{-p}$ près. Les deux conditions (C1) et (C2) doivent être vérifiées pour $f$.</li>\n",
    "</ol>\n"
   ]
  },
  {
   "cell_type": "code",
   "execution_count": null,
   "metadata": {},
   "outputs": [],
   "source": [
    "\n",
    "def DichoFonction(f, a, b, p):\n",
    "    ''' Recherche de la racine de la fonction numérique f entre les bornes [a,b], où a < b \n",
    "        à une précision attendue de 10^(-p)\n",
    "        Sortie : bornes finales de l'intervalle de recherche\n",
    "    '''\n",
    "    while (b-a) > 10**(-p):\n",
    "        m = (a+b)/2   # m centre de l'intervalle [a,b]\n",
    "        if f(a)*f(m) < 0:   # on restreint l'intervalle de recherche à [a,m] si le produit f(a) par f(m) change de signe\n",
    "            b = m\n",
    "        else:  # on restreint l'intervalle de recherche à [m,b]\n",
    "            a = m\n",
    "            \n",
    "    print(\"{} < r < {}\".format(a, b))\n",
    "    return a, b\n",
    "\n"
   ]
  },
  {
   "cell_type": "markdown",
   "metadata": {},
   "source": [
    "\n",
    "<ol>\n",
    "<li>Vérifier que l’appel <code>DichoFonction(f, 0, 3, 2)</code> avec $f : x \\mapsto x^2 - 2$ renvoie environ $1.41$.</li>\n",
    "</ol>\n"
   ]
  },
  {
   "cell_type": "code",
   "execution_count": null,
   "metadata": {},
   "outputs": [],
   "source": [
    "\n",
    "def g(x):\n",
    "    return x**2-2\n",
    "\n",
    "[a, b] = DichoFonction(g, 0, 3, 2)\n",
    "print(\"g(a)=\",g(a))\n",
    "print(\"g(b)=\",g(b))\n",
    "\n"
   ]
  },
  {
   "cell_type": "markdown",
   "metadata": {},
   "source": [
    "\n",
    "<p><a id=\"Exo1_3\"></a></p><div align=\"right\"><a href=\"#top\">Haut du document</a></div>\n"
   ]
  },
  {
   "cell_type": "markdown",
   "metadata": {},
   "source": [
    "\n",
    "<div class=\"alert alert-info\"><font color=\"black\" size=\"4\"><b>1.3 Résolution par la méthode du point fixe</b></font></div>\n"
   ]
  },
  {
   "cell_type": "markdown",
   "metadata": {},
   "source": [
    "\n",
    "<p>La méthode du point fixe est une méthode permettant de résoudre une équation du type $f(x) = 0$ où $f$ est une fonction continue d’un intervalle non vide $I$ de $\\mathbb{R}$ à valeurs dans $\\mathbb{R}$. Cette méthode impose plusieurs conditions :<br/><br/></p>\n",
    "<ul>\n",
    "<li><p>On doit pouvoir « isoler » les racines dans des intervalles de $\\mathbb{R}$ ne contenant qu’une seule racine.<br/></p>\n",
    "</li>\n",
    "<li><p>On doit pouvoir transformer l’équation $f(x) = 0$ en une équation équivalente $g(x) = x$ (d’où le nom de point fixe puisque $x$ est égal à son image $g(x)$).<br/></p>\n",
    "</li>\n",
    "<li><p>On doit pouvoir construire une suite numérique $(u_{n})_{n \\in \\mathbb{N}}$ définie par $u_0$ donné et<br/><br/>\n",
    "</p><div align=\"center\"> $\\forall n \\in \\mathbb{N}, u_{n+1} = g(u_{n})$</div><br/> dont la convergence vers le point fixe $\\alpha$, c’est-à-dire la racine cherchée car $f(\\alpha) = 0  \\Longleftrightarrow g(\\alpha) = \\alpha$, est assurée sous les deux hypothèses suivantes :<br/>\n",
    "<p>(H1)  $u_0$ appartient à un intervalle $I$ stable pour $g$ (ce qui assure que, pour tout $n \\in \\mathbb{N}$, $u_{n}$ appartient aussi à cet intervalle $I$).<br/></p>\n",
    "<p>(H2)  Il existe $k \\in ]0,1[$ tel que $\\forall x \\in I , |g'(x)| \\leq k$, ce qui permet de montrer la convergence grâce à une suite géométrique de raison $k$ qui tend alors vers $0$.<br/></p>\n",
    "</li>\n",
    "</ul>\n",
    "<p>Dans ces conditions, on démontre que la suite $(u_{n})_{n \\in \\mathbb{N}}$  converge vers $\\alpha$ à la vitesse géométrique, précisément<br/><br/></p>\n",
    "<p></p><div align=\"center\">$\\forall n \\in \\mathbb{N}, |u_{n} - \\alpha| \\leq k^{n}|u_{0} - \\alpha|$</div>\n",
    "<br/>\n",
    "Cette méthode est illustrée dans la figure 1.\n",
    "\n"
   ]
  },
  {
   "cell_type": "markdown",
   "metadata": {},
   "source": [
    "\n",
    "<p><img alt=\"image.png\" src=\"data:image/png;base64, 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\"/></p>\n"
   ]
  },
  {
   "cell_type": "markdown",
   "metadata": {},
   "source": [
    "\n",
    "<h3 id=\"Exercice-2\">Exercice 2<a class=\"anchor-link\" href=\"#Exercice-2\">¶</a></h3><p>Soient $f : x \\mapsto \\sin{x} - \\frac{x}{2}$ et l’équation $f(x) = 0$ dont il est facile de vérifier qu’elle ne possède qu’une seule solution $x_0$ sur $R^{+*}$ qui est comprise entre $1.8$ et $2$. Autrement dit, tout ce qui suit sera fait sur l’intervalle $[1.8; 2]$.<br/></p>\n",
    "<ol>\n",
    "<li>Proposer au moins deux fonctions $g_1$ et $g_2$ telles que $f(x) = 0$  $\\Longleftrightarrow$ $g_i(x) = x$.<br/></li>\n",
    "</ol>\n",
    "<p> <i>Indication. On remarquera que, pour toute fonction h bien définie au voisinage de la racine $x_0$, l’expression $g(x) = f(x)h(x) + x$ convient puisque,  sachant que $f(x_0) = 0$, on a nécessairement $g(x_0) = f(x_0)h(x_0) + x_0 = x_0$.\n",
    "Ainsi, avec $h(x) = 1$, $g(x) = f(x)+  x$ est un choix possible.</i></p>\n"
   ]
  },
  {
   "cell_type": "markdown",
   "metadata": {},
   "source": [
    "\n",
    "<div class=\"alert alert-success\"><b><font color=\"black\" face=\"Times\" size=\"3\">Réponse</font></b> :\n",
    "</div>\n"
   ]
  },
  {
   "cell_type": "markdown",
   "metadata": {},
   "source": [
    "\n",
    "<p>  On propose $g_1(x) = f(x) + x = \\sin{x} + \\frac{x}{2}$ et $g_2(x) = 2\\sin{x}$</p>\n"
   ]
  },
  {
   "cell_type": "code",
   "execution_count": null,
   "metadata": {},
   "outputs": [],
   "source": [
    "\n",
    "def g1(x):\n",
    "    ''' variante 1 de fonction transformee de y=f(x)=sin(x)-x/2 : g1(x)=f(x)+x\n",
    "         pour la methode du point fixe '''\n",
    "    return np.sin(x) + 0.5*x\n",
    "\n",
    "def dg1(x):\n",
    "    ''' derivee de la variante 1 de fonction transformee de y=f(x)  \n",
    "         pour la methode du point fixe \n",
    "         utile pour estimer le critere de convergence '''    \n",
    "    return np.cos(x) + 0.5\n",
    "\n",
    "def g2(x):\n",
    "    ''' variante 2 de fonction transformee de y=f(x)=sin(x)-x/2 tel que g2(x*)=x* <=> f(x*)=0\n",
    "         pour la methode du point fixe '''    \n",
    "    return 2*np.sin(x)\n",
    "\n",
    "def dg2(x):\n",
    "    ''' derivee de la variante 2 de fonction transformee de y=f(x)=sin(x)-x/2  \n",
    "         pour la methode du point fixe \n",
    "         utile pour estimer le critere de convergence '''     \n",
    "    return 2*np.cos(x)\n",
    "\n"
   ]
  },
  {
   "cell_type": "markdown",
   "metadata": {},
   "source": [
    "\n",
    "<ol>\n",
    "<li>Représenter graphiquement sur la même fenêtre $g_1$ et $g_2$ sur $[1.8; 2]$ et vérifier que vos fonctions $g_i$ vérifient l’hypothèse (H1), ce qui revient à s’assurer que $g([1.8; 2]) \\subset [1.8; 2]$.</li>\n",
    "</ol>\n"
   ]
  },
  {
   "cell_type": "markdown",
   "metadata": {},
   "source": [
    "\n",
    "<div class=\"alert alert-success\"><b><font color=\"black\" face=\"Times\" size=\"3\">Réponse</font></b> :\n",
    "</div>\n"
   ]
  },
  {
   "cell_type": "code",
   "execution_count": null,
   "metadata": {},
   "outputs": [],
   "source": [
    "\n",
    "# Affichage graphique des résultats\n",
    "# vecteurs des abscisses et ordonnees pour le trace graphique\n",
    "print('\\nRepresentation graphique des fonctions g1 et g2 : \\n'+str(47*'-'))\n",
    "x = np.arange(1.8,2,0.001)\n",
    "plt.figure(figsize=(12,8))\n",
    "lb_g1 = r\"$g_{1}(x) = sin(x) + \\frac{x}{2}$\"\n",
    "lb_g2 = r\"$g_{2}(x) = 2 \\times \\sin{(x)}$\"\n",
    "titre = r\"Recherche des racines de $f(x)=sin(x)-\\frac{x}{2}$ par la méthode du point fixe\"\n",
    "plt.plot(x,g1(x),'-g',label=lb_g1)\n",
    "plt.plot(x,g2(x),'-b',label=lb_g2)\n",
    "plt.legend(loc='best')\n",
    "plt.xlabel('x')\n",
    "plt.ylabel('y') \n",
    "plt.title(titre);\n",
    "\n"
   ]
  },
  {
   "cell_type": "markdown",
   "metadata": {},
   "source": [
    "\n",
    "<ol>\n",
    "<li>Représenter graphiquement sur la même fenêtre les dérivées $g'_1$ et $g'_2$ sur $[1.8; 2]$ et vérifier que vos fonctions $g'$ vérifient l’hypothèse (H2), ce qui revient à s’assurer que $g'([1.8; 2]) \\subset$ $]-1,1[$.</li>\n",
    "</ol>\n"
   ]
  },
  {
   "cell_type": "markdown",
   "metadata": {},
   "source": [
    "\n",
    "<div class=\"alert alert-success\"><b><font color=\"black\" face=\"Times\" size=\"3\">Réponse</font></b> :\n",
    "</div>\n"
   ]
  },
  {
   "cell_type": "code",
   "execution_count": null,
   "metadata": {},
   "outputs": [],
   "source": [
    "\n",
    "# Affichage graphique des résultats\n",
    "# vecteurs des abscisses et ordonnees pour le trace graphique\n",
    "print('\\nRepresentation graphique des fonctions dg1 et dg2 : \\n'+str(49*'-'))\n",
    "x = np.arange(1.8,2,0.001)\n",
    "plt.figure(figsize=(12,8))\n",
    "lb_dg1 = r\"$g'_{1}(x) = cos(x) + \\frac{1}{2}$\"\n",
    "lb_dg2 = r\"$g'_{2}(x) = 2 \\times \\cos{(x)}$\"\n",
    "titre = r\"Recherche des racines de $f(x)=sin(x)-\\frac{x}{2}$ par la méthode du point fixe\"\n",
    "plt.plot(x,dg1(x),'-g',label=lb_dg1)\n",
    "plt.plot(x,dg2(x),'-b',label=lb_dg2)\n",
    "plt.legend(loc='best')\n",
    "plt.xlabel('x')\n",
    "plt.ylabel('y') \n",
    "plt.title(titre);\n",
    "\n"
   ]
  },
  {
   "cell_type": "markdown",
   "metadata": {},
   "source": [
    "\n",
    "<ol>\n",
    "<li>Programmer une fonction <code>PointFixe()</code> qui prend en entrée une fonction $g$ (qui valide les hypothèses bien sûr), le premier terme $u_0 = 2$ et une tolérance $e$ et qui fournit une solution approchée de l’équation $f(x) = 0$ par la <b>méthode du point fixe</b>. La construction de cette fonction nécessite de se poser plusieurs questions :<br/></li>\n",
    "</ol>\n",
    "<ul>\n",
    "<li>Une boucle est-elle nécessaire? Si oui, de quel type? <font face=\"Courier\">for</font> ou <font face=\"Courier\">while</font> ?<br/></li>\n",
    "<li>Si vous choisissez une boucle <font face=\"Courier\">while</font>, quel est le test d’arrêt ?<br/></li>\n",
    "<li>Dans tous les cas, quel est le calcul à faire effectuer à chaque passage dans la boucle ?</li>\n",
    "</ul>\n",
    "<p><u>Indication</u> : Vous devriez trouver environ 1.89549....</p>\n"
   ]
  },
  {
   "cell_type": "markdown",
   "metadata": {},
   "source": [
    "\n",
    "<div class=\"alert alert-success\"><b><font color=\"black\" face=\"Times\" size=\"3\">Réponse</font></b> :<br/><br/>\n",
    "<font color=\"black\" face=\"Times\" size=\"3\">Code de la fonction <font color=\"black\" face=\"Courier\" size=\"3\">PointFixe()</font></font>\n",
    "</div>\n"
   ]
  },
  {
   "cell_type": "markdown",
   "metadata": {},
   "source": [
    "\n",
    "<ul>\n",
    "<li>version de base restituant uniquement la solution numérique recherchée dans le cas $g(x)=f(x)+x$</li>\n",
    "</ul>\n"
   ]
  },
  {
   "cell_type": "code",
   "execution_count": null,
   "metadata": {},
   "outputs": [],
   "source": [
    "\n",
    "def PointFixe(f, u0, e): # e tolérance\n",
    "    # Définition de g telle que f(x)=g(x)-x\n",
    "    def g(x):\n",
    "         return f(x)+x\n",
    "    # Calcul des termes de u_(n+1)=g( u_n )\n",
    "    k = 1 # Sécurité pour éviter un bouclage\n",
    "    u = u0\n",
    "    while (abs(g(u)-u) > e) and k < 1000:  # hauteur du dernier palier |g(x)-x|\n",
    "        u = g(u)   #  u_(n+1)=g( u_n )\n",
    "        k += 1\n",
    "    return u\n",
    "\n"
   ]
  },
  {
   "cell_type": "markdown",
   "metadata": {},
   "source": [
    "\n",
    "<ul>\n",
    "<li>version améliorée pour affichage exhaustif des résultats intermédiaires issus du calcul numérique</li>\n",
    "</ul>\n"
   ]
  },
  {
   "cell_type": "code",
   "execution_count": null,
   "metadata": {},
   "outputs": [],
   "source": [
    "\n",
    "def PointFixe2(g, u0, e, maxIter): # e tolérance\n",
    "    # Calcul des termes de u_(n+1)=g( u_n )\n",
    "    k = 1 # Sécurité pour éviter un bouclage\n",
    "    u = u0\n",
    "    Tabu = [u0]\n",
    "    while (abs(g(u)-u) > e) and k < maxIter:\n",
    "        u = g(u)\n",
    "        k += 1\n",
    "        Tabu.append(u)\n",
    "    if k == maxIter:\n",
    "        print('Sortie en échec')\n",
    "    else:\n",
    "        return u, k, Tabu\n",
    "\n"
   ]
  },
  {
   "cell_type": "markdown",
   "metadata": {},
   "source": [
    "\n",
    "<ul>\n",
    "<li>Script principal d'exécution du traitement attendu de la version de base</li>\n",
    "</ul>\n"
   ]
  },
  {
   "cell_type": "code",
   "execution_count": null,
   "metadata": {},
   "outputs": [],
   "source": [
    "\n",
    "def f(x):\n",
    "    return np.sin(x) - 0.5*x\n",
    "\n",
    "u0, eps = 2, 1.e-6\n",
    "sol = PointFixe(f, u0, eps)\n",
    "print(\"solution numérique par la méthode du point fixe :\", sol)\n",
    "\n",
    "print('solution native de f(x)=0 : ', resol.fsolve(f, 2.))\n",
    "\n"
   ]
  },
  {
   "cell_type": "code",
   "execution_count": null,
   "metadata": {},
   "outputs": [],
   "source": [
    "\n",
    "u0, eps, nbIterMax = 2, 1.e-6, 100\n",
    "[sol, nbIter, Tab] = PointFixe2(g1, u0, eps, nbIterMax)\n",
    "print(\"sol=\", sol)\n",
    "print(\"nbIter=\", nbIter)\n",
    "print(\"Tab=\", Tab)\n",
    "\n"
   ]
  },
  {
   "cell_type": "code",
   "execution_count": null,
   "metadata": {},
   "outputs": [],
   "source": [
    "\n",
    "u0, eps, nbIterMax = 2, 1.e-6, 100\n",
    "[sol, nbIter, Tab] = PointFixe2(g2, u0, eps, nbIterMax)\n",
    "print(\"sol=\", sol)\n",
    "print(\"nbIter=\", nbIter)\n",
    "print(\"Tab=\", Tab)\n",
    "\n"
   ]
  },
  {
   "cell_type": "markdown",
   "metadata": {},
   "source": [
    "\n",
    "<div class=\"alert alert-success\"><span style=\"font-size: 25px;\"><i aria-hidden=\"true\" class=\"fa fa-lightbulb-o\"></i></span><font color=\"black\" face=\"Times\" size=\"3\"><b>  Bonus</b></font><br/>\n",
    "<font color=\"black\" face=\"Times\" size=\"3\">  Fonction <font face=\"Courier\">graph_pointfixe</font> de représentation graphique des termes itérées de la suite du point fixe </font>\n",
    "</div>\n"
   ]
  },
  {
   "cell_type": "code",
   "execution_count": null,
   "metadata": {},
   "outputs": [],
   "source": [
    "\n",
    "def graph_pointfixe(xs,n):\n",
    "    ''' usage : Construit sur le graphique en cours itérativement des segments de droite\n",
    "            horizontaux et verticaux entre les elements consecutifs \n",
    "            de la suite iteree du pt fixe xn+1=g(xn) depuis n=0\n",
    "\n",
    "   entree : vecteur xs de longueur n \n",
    "   Sortie : aucune variable, superposition sur le graphe en cours '''\n",
    "    plt.plot(xs[n-1],xs[n],'bo')  # On place le pt final de la suite (cercle bleu)\n",
    "\n",
    "    # On parcourt iterativement les elts du vecteur xs\n",
    "    for i in range(0,n-2):\n",
    "        plt.plot([xs[i],xs[i+1]],[xs[i+1],xs[i+1]],'b')   # Trace le segment horizontal\n",
    "        plt.plot([xs[i+1],xs[i+1]],[xs[i+1],xs[i+2]],'b');     # Trace le segment vertical\n",
    "        time.sleep(0.1)    # delai de 0.1 sec avt de continuer\n",
    "    \n",
    "    return\n",
    "\n"
   ]
  },
  {
   "cell_type": "code",
   "execution_count": null,
   "metadata": {},
   "outputs": [],
   "source": [
    "\n",
    "# Initialisations du terme initial x0, de la solution exacte (approchee) sol,\n",
    "#  de la precision numerique souhaitee tol et du nb max d'iterations souhaitees maxIter\n",
    "x0 = 2\n",
    "sol, tol, maxIter = 1.89549427, 1.e-6, 1000\n",
    "\n",
    "# Calculs de la solution numerique par les methodes du point fixe et de Newton\n",
    "[x1,it1,Tabx1] = PointFixe2(g1,x0,tol,maxIter) \n",
    "[x2,it2,Tabx2] = PointFixe2(g2,x0,tol,maxIter) \n",
    "\n",
    "# Affichage console des résultats numériques\n",
    "print('\\nResolution par la methode du point fixe : \\n'+str(39*'-'))\n",
    "print('La solution numerique %.9f est obtenue en %d iterations pour g1 à partir de x0= %.6f' % (x1, it1, x0) )\n",
    "print('La solution numerique %.9f est obtenue en %d iterations pour g2 à partir de x0= %.6f' % (x2, it2, x0) )\n",
    "\n",
    "print('\\nResolution native : \\n'+str(17*'-'))\n",
    "x_init = x0\n",
    "xS = resol.fsolve(f,x_init)\n",
    "print('La solution x* obtenue par le solveur natif a partir de x0 = %.3f est %.9f ' % (x_init, xS))\n",
    "\n",
    "# Affichage graphique des résultats\n",
    "# vecteurs des abscisses et ordonnees pour le trace graphique\n",
    "print('\\nRepresentation graphique des resultats numeriques : \\n'+str(49*'-'))\n",
    "x = np.arange(1,2,0.001)\n",
    "plt.figure(figsize=(10,6))\n",
    "plt.plot(x,f(x),'-g',label=r'$y=sin(x)-x/2$')\n",
    "plt.plot(sol,0,'or',label='solution analytique (valeur approchee)')\n",
    "plt.text(sol-0.1,-0.01,'(x*,0)',color='red')\n",
    "plt.legend(loc='lower right')\n",
    "plt.xlabel('x')\n",
    "plt.ylabel('y')  \n",
    "plt.title('Recherche des racines de f(x)=sin(x)-x/2') ;\n",
    "\n",
    "plt.figure(figsize=(10,6))    \n",
    "plt.plot(x,g1(x),'-g',label='y=sin(x)+x/2')\n",
    "plt.plot(x,x,':k',label='y=x')\n",
    "graph_pointfixe(Tabx2,len(Tabx2)-1)  # convergence des termes de la fonction transformée g2 (en escargot)\n",
    "plt.legend(loc='lower right')\n",
    "plt.xlabel('x')\n",
    "plt.ylabel('y')\n",
    "plt.title('Evolution des termes de la suite iteree du point fixe appliquee a g(x)=2*sin(x)')\n",
    "plt.axis([1.8, 2, 1.75, 2]); # pour le cas g2\n",
    "\n"
   ]
  },
  {
   "cell_type": "markdown",
   "metadata": {},
   "source": [
    "\n",
    "<p><a id=\"Exo1_4\"></a></p><div align=\"right\"><a href=\"#top\">Haut du document</a></div>\n"
   ]
  },
  {
   "cell_type": "markdown",
   "metadata": {},
   "source": [
    "\n",
    "<div class=\"alert alert-info\"><font color=\"black\" size=\"4\"><b>1.4 Résolution par la méthode de Newton en dimension 1</b></font></div>\n"
   ]
  },
  {
   "cell_type": "markdown",
   "metadata": {},
   "source": [
    "\n",
    "<p>Une autre méthode pour calculer numériquement une racine d’une équation du type $f(x) = 0$ est la <b>méthode de Newton</b> qui n’est en fait rien d’autre que la <b>méthode du point fixe</b> dans un cas particulier. Elle consiste à construire une suite numérique en faisant des approximations successives utilisant la tangente à la courbe de $f$ comme illustré sur la figure 2 ci-dessous.</p>\n"
   ]
  },
  {
   "cell_type": "markdown",
   "metadata": {},
   "source": [
    "\n",
    "<p><img alt=\"image.png\" src=\"data:image/png;base64, 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\"/></p>\n"
   ]
  },
  {
   "cell_type": "markdown",
   "metadata": {},
   "source": [
    "\n",
    "<p>A partir de l’équation bien connue de la tangente à la courbe représentative d’une fonction dérivable $f$ au point $A(a, f(a))$, à savoir $y = f(a) + f'(a)(x -a)$, on construit une suite numérique $(u_{n})_{n \\in \\mathbb{N}}$ définie par $u_0$ donné et<br/><br/>\n",
    "</p><div align=\"center\"> $\\forall n \\in \\mathbb{N}, u_{n+1} = u_{n} - \\frac{f(u_{n})}{f'(u_{n})} $</div><br/> \n",
    " qui permet d’approcher rapidement la racine de l’équation $f(x) = 0$ à condition, bien sûr, que  $\\forall n \\in \\mathbb{N}, f'(u_{n}) \\neq 0$.<br/>\n",
    "Cette équation s’obtient à partir de l’équation de la tangente en prenant $y = 0$, $a = u_{n}$ et $f(a) = f(u_{n}) = u_{n+1}$.\n",
    "\n"
   ]
  },
  {
   "cell_type": "markdown",
   "metadata": {},
   "source": [
    "\n",
    "<h3 id=\"Exercice-3\">Exercice 3<a class=\"anchor-link\" href=\"#Exercice-3\">¶</a></h3><p>On souhaite ici résoudre (de manière approchée) l’équation $\\sin{x} - \\frac{x}{2} = 0$ par la méthode de <b>Newton</b>.<br/></p>\n",
    "<ol>\n",
    "<li>Calculer à la main la dérivée de $f$ puis construire deux fonctions dans Python notées <font face=\"Courier\">f</font> et <font face=\"Courier\">df</font> pour $f$ et $f'$.<br/></li>\n",
    "<li>Construire une fonction en Python, notée <code>Newton1d()</code>, qui prend en entrée les fonctions $f$, $f'$, la valeur initiale $u_0$ et une tolérance $e$ et qui renvoie une valeur approchée de la racine de l’équation $f(x) = 0$. La construction de cette fonction nécessite de se poser plusieurs questions :<br/><ul>\n",
    "<li>Une boucle est-elle nécessaire ? Si oui, de quel type ? <font face=\"Courier\">for</font> ou <font face=\"Courier\">while</font> ?</li>\n",
    "<li>Si vous choisissez une boucle <font face=\"Courier\">while</font>, quel est le test d’arrêt ?<br/></li>\n",
    "<li>Dans tous les cas, quel est le calcul à faire effectuer à chaque passage dans la boucle ?<br/></li>\n",
    "</ul>\n",
    "</li>\n",
    "</ol>\n",
    "<p>Indication. Vous devriez trouver environ 1.89549....</p>\n"
   ]
  },
  {
   "cell_type": "markdown",
   "metadata": {},
   "source": [
    "\n",
    "<div class=\"alert alert-success\"><b><font color=\"black\" face=\"Times\" size=\"3\">Réponse</font></b> :\n",
    "</div>\n"
   ]
  },
  {
   "cell_type": "markdown",
   "metadata": {},
   "source": [
    "\n",
    "<p>$f'(x) = \\cos x - \\frac{1}{2}$</p>\n"
   ]
  },
  {
   "cell_type": "code",
   "execution_count": null,
   "metadata": {},
   "outputs": [],
   "source": [
    "\n",
    "def f(x):\n",
    "    ''' fonction etudiee y=f(x)=sin(x)-0.5*x '''\n",
    "    return np.sin(x) - 0.5*x\n",
    "\n",
    "def df(x):\n",
    "    ''' derivee de fonction etudiee y=f(x) : f'(x)=cos(x)-0.5 '''\n",
    "    return np.cos(x) - 0.5\n",
    "\n"
   ]
  },
  {
   "cell_type": "code",
   "execution_count": null,
   "metadata": {},
   "outputs": [],
   "source": [
    "\n",
    "def Newton1d(f, df, u0, e):\n",
    "    ''' Calcul des termes de u_(n+1) = u_n - f(u_n)/f'(u_n)\n",
    "    '''\n",
    "    k = 1 # Sécurité pour éviter un bouclage (parametre de sortie en echec de la procedure de recherche)\n",
    "    u = u0\n",
    "    #v = u0\n",
    "    # procedure iterative de recherche de la racine \n",
    "    # 2 conditions de sortie possible (succes si |f(x)| \"proche\" de e, echec si trop d iterations) \n",
    "    while (abs(f(u)) > e) and k < 1000: \n",
    "        k += 1\n",
    "        #v = u\n",
    "        # Calcul de u_(n+1)\n",
    "        u -= f(u)/df(u)\n",
    "    return u, k\n",
    "\n"
   ]
  },
  {
   "cell_type": "code",
   "execution_count": null,
   "metadata": {},
   "outputs": [],
   "source": [
    "\n",
    "# script de résolution de f(x)=0 par la méthode de Newton\n",
    "solatt, u0, tol = 1.89549, 2, 1.e-6\n",
    "solnum, nbiter = Newton1d(f, df, u0, tol)\n",
    "print('On obtient la solution numerique %.5f par la méthode de Newton à partir de x0=%.1f ' % (solnum, x0) )\n",
    "print('Cela a nécessité %d itérations' % (nbiter))\n",
    "\n"
   ]
  },
  {
   "cell_type": "markdown",
   "metadata": {},
   "source": [
    "\n",
    "<h3 id=\"Exercice-4.\">Exercice 4.<a class=\"anchor-link\" href=\"#Exercice-4.\">¶</a></h3><ol>\n",
    "<li><p>Modifier la fonction <code>Newton1d()</code> en <code>Newton1d2()</code> qui prendra en entrée la fonction numérique $f$, un pas $h$, la valeur\n",
    "initiale $u_0$ et une tolérance $e$ et qui :<br/></p>\n",
    "<ul>\n",
    "<li><p>Calcule la valeur approchée de $f'(x)$ par le quotient décentré à droite de pas $h$, c’est-à-dire qui fait l’approximation <br/><br/></p>\n",
    "<p></p><div align=\"center\"><font size=\"4\"> $f'(x) \\simeq \\frac{f(x+h)-f(x)}{h}$ </font></div><br/>\n",
    "</li>\n",
    "<li><p>Renvoie la valeur approchée de la racine de l’équation $f(x) = 0$.<br/></p>\n",
    "</li>\n",
    "<li>Renvoie le nombre d’itérations nécessaires pour obtenir la solution.<br/>\n",
    "<br/></li>\n",
    "</ul>\n",
    "</li>\n",
    "<li><p>Modifier la fonction <code>Newton1d()</code> en <code>Newton1d3()</code> qui prendra en entrée la fonction $f$, un pas $h$, la valeur initiale $u_0$ et une tolérance $e$ et qui : <br/></p>\n",
    "<ul>\n",
    "<li><p>Calcule la valeur approchée de $f'(x)$  par le quotient centré de pas $h$, c’est-à-dire qui fait l’approximation <br/><br/></p>\n",
    "<p></p><div align=\"center\"><font size=\"4\"> $f'(x) \\simeq \\frac{f(x+h)-f(x-h)}{2h}$ </font></div><br/>\n",
    "</li>\n",
    "<li><p>Renvoie la valeur approchée de la racine de l’équation $f(x) = 0$.<br/></p>\n",
    "</li>\n",
    "<li>Renvoie le nombre d’itérations nécessaires pour obtenir la solution.<br/>\n",
    "<br/></li>\n",
    "</ul>\n",
    "</li>\n",
    "<li>Comparer le nombre d’itérations nécessaires avec $h = 10^{-2}$ et $h = 10^{-6}$ pour une tolérance $e = 10^{-3}$.</li>\n",
    "</ol>\n"
   ]
  },
  {
   "cell_type": "markdown",
   "metadata": {},
   "source": [
    "\n",
    "<div class=\"alert alert-success\"><b><font color=\"black\" face=\"Times\" size=\"3\">Réponse</font></b> :\n",
    "</div>\n"
   ]
  },
  {
   "cell_type": "markdown",
   "metadata": {},
   "source": [
    "\n",
    "<ul>\n",
    "<li>question 1</li>\n",
    "</ul>\n"
   ]
  },
  {
   "cell_type": "code",
   "execution_count": null,
   "metadata": {},
   "outputs": [],
   "source": [
    "\n",
    "def Newton1d2(f, u0, e, h):\n",
    "    ''' Calcul des termes de u_(n+1) = u_n - f(u_n)/f'(u_n)\n",
    "        avec h donné pour le calcul approchée de la dérivée ( quotient décentré à droite de pas ℎ)\n",
    "    '''    \n",
    "    # Initialisation\n",
    "    k = 1 # compteur de boucle = sécurité pour éviter de tomber en \"boucle infinie\"\n",
    "    u = u0\n",
    "    v = u + 1 # initialisation de la variable du test u_1 loin de u_0 \n",
    "    # procedure iterative de recherche de la racine\n",
    "    # condition verifiee si |u_(n+1) - u_n| est suffisamment proche de e \n",
    "    while abs(v-u) > e and k < 1000:\n",
    "        k += 1\n",
    "        v = u\n",
    "        # Calcul approché de f'(u_n)\n",
    "        df = ( f(u+h)-f(u) )/h\n",
    "        # Calcul de u_(n+1)\n",
    "        u -= f(u)/df\n",
    "\n",
    "    return u, k\n",
    "\n"
   ]
  },
  {
   "cell_type": "markdown",
   "metadata": {},
   "source": [
    "\n",
    "<ul>\n",
    "<li>question 2</li>\n",
    "</ul>\n"
   ]
  },
  {
   "cell_type": "code",
   "execution_count": null,
   "metadata": {},
   "outputs": [],
   "source": [
    "\n",
    "def Newton1d3(f, u0, e, h):\n",
    "    ''' Calcul des termes de u_(n+1) = u_n - f(u_n)/f'(u_n)\n",
    "        avec h donné pour le calcul approchée de la dérivée ( quotient centré à droite de pas ℎ)\n",
    "    '''  \n",
    "    k = 1 # Sécurité pour éviter un bouclage\n",
    "    u = u0\n",
    "    v = u + 1\n",
    "    while abs(v-u) > e and k<1000:\n",
    "        k += 1\n",
    "        v = u\n",
    "        # Calcul approché de f'(u_n)\n",
    "        df = ( f(u+h)-f(u-h) )/(2*h)\n",
    "        # Calcul de u_(n+1)\n",
    "        u -= f(u)/df\n",
    "\n",
    "    return u, k\n",
    "\n"
   ]
  },
  {
   "cell_type": "markdown",
   "metadata": {},
   "source": [
    "\n",
    "<ul>\n",
    "<li>question 3</li>\n",
    "</ul>\n"
   ]
  },
  {
   "cell_type": "code",
   "execution_count": null,
   "metadata": {},
   "outputs": [],
   "source": [
    "\n",
    "def Newton1d4(f, df, u0, e):\n",
    "    ''' Calcul des termes de u_(n+1) = u_n - f(u_n)/df(u_n), df calculé \"a la main\" et passé en argument\n",
    "    '''\n",
    "    k = 1 # Sécurité pour éviter un bouclage (parametre de sortie en echec de la procedure de recherche)\n",
    "    u = u0\n",
    "    #v = u0\n",
    "    # procedure iterative de recherche de la racine \n",
    "    # 2 conditions de sortie possible (succes si |f(x)| \"proche\" de e, echec si trop d iterations) \n",
    "    while (abs(f(u)) > e) and k < 1000: \n",
    "        k += 1\n",
    "        #v = u\n",
    "        # Calcul de u_(n+1)\n",
    "        u -= f(u)/df(u)\n",
    "    return u, k\n",
    "\n"
   ]
  },
  {
   "cell_type": "code",
   "execution_count": null,
   "metadata": {},
   "outputs": [],
   "source": [
    "\n",
    "# script de résolution de f(x)=0 par la méthode de Newton avec calcul approché de df par quotient décentré à droite de pas ℎ\n",
    "solatt, u0, tol, h = 1.89549, 2, 1.e-9, 1.e-9\n",
    "solnum1, nbiter1 = Newton1d2(f, u0, tol, h)\n",
    "print('Sous les conditions h=%g et e=%g : ' % (h, tol) )\n",
    "print(\"calcul approché de df par quotient décentré à droite de pas \",h)\n",
    "print('On obtient x*=%.5f en %.0f itérations à partir de x0=%.1f ' % (solnum1, nbiter1, x0) )\n",
    "\n",
    "# script de résolution de f(x)=0 par la méthode de Newton avec calcul approché de df par quotient centré de pas ℎ\n",
    "solnum2, nbiter2 = Newton1d3(f, u0, tol, h)\n",
    "print(\"calcul approché de df par quotient centré de pas \",h)\n",
    "print('On obtient x*=%.5f en %.0f itérations à partir de x0=%.1f ' % (solnum2, nbiter2, x0) )\n",
    "\n",
    "# script de résolution de f(x)=0 par la méthode de Newton avec calcul exact de df\n",
    "solnum3, nbiter3 = Newton1d4(f, df, u0, tol)\n",
    "print(\"calcul exact de df\")\n",
    "print('On obtient x*=%.5f en %.0f itérations à partir de x0=%.1f ' % (solnum3, nbiter3, x0) )\n",
    "\n"
   ]
  },
  {
   "cell_type": "markdown",
   "metadata": {},
   "source": [
    "\n",
    "<p><a id=\"Exo2\"></a></p><div align=\"right\"><a href=\"#top\">Haut du document</a></div>\n"
   ]
  },
  {
   "cell_type": "markdown",
   "metadata": {},
   "source": [
    "\n",
    "<div class=\"alert alert-info\">\n",
    "<font color=\"black\" size=\"5\"><b>2. Résolution d’équations numériques pour une fonction de deux variables :\n",
    "La méthode de Newton en dimension 2</b></font>\n",
    "</div>\n"
   ]
  },
  {
   "cell_type": "markdown",
   "metadata": {},
   "source": [
    "\n",
    "<p>Il existe de nombreuses méthodes matricielles pour résoudre les systèmes linéaires.<br/>\n",
    "Pour les systèmes non linéaires, la <b>méthode de Newton</b>, qui a l’avantage de se généraliser très facilement en\n",
    "dimension supérieures à 1, est efficace.<br/><br/></p>\n",
    "<p>Si l’on reprend la méthode en dimension 1, on peut écrire <br/>\n",
    "</p><div align=\"center\"> $u_{n+1} = u_{n} - \\frac{f(u_{n})}{f'(u_{n})} \\Longleftrightarrow u_{n+1} = u_{n} - [f'(u_{n})]^{-1}f(u_{n}) \n",
    " \\Longleftrightarrow \n",
    " \\begin{cases} \\text{résoudre } f'(u_{n})\\delta_{n} = f(u_{n}) \\\\\n",
    "  \\text{calculer }  u_{n+1} = u_{n} - \\delta_{n}\n",
    " \\end{cases} $</div><br/>\n",
    "<p>Ainsi, en se souvenant qu’en dimension supérieure à 1 et pour des champs vectoriels, c’est-à-dire des fonctions de $\\mathbb{R^2}$ dans $\\mathbb{R^2}$, la fonction dérivée est « remplacée » par la matrice Jacobienne $J_{f}$ de 2 lignes et 2 colonnes (voir le rappel ci-dessous pour le calcul), on peut adapter le schéma en construisant la suitematricielle (matrice colonne) $(U_{n})_{n \\in \\mathbb{N}}$ définie par $U_0$ donné et <br/>\n",
    "</p><div align=\"center\"> $\\forall n \\in \\mathbb{N}, \\begin{cases} \\text{résoudre } J_{f}(U_{n})\\Delta_{n} = f(U_{n}) \\\\\n",
    "  \\text{calculer }  U_{n+1} = U_{n} - \\Delta_{n}\n",
    " \\end{cases} $</div>\n",
    "<p>Si vous vous posez la question de savoir quel est l’intérêt du système précédent, il est purement pratique et tient\n",
    "compte de deux contraintes :<br/></p>\n",
    "<ul>\n",
    "<li>On ne peut pas diviser deux matrices.<br/></li>\n",
    "<li>Si on peut remplacer la division par une multiplication par un inverse, vous devriez commencer à savoir qu’on inverse jamais une matrice et qu’on préfère résoudre un système linéaire car c’est moins coûteux en termes de calculs.</li>\n",
    "</ul>\n"
   ]
  },
  {
   "cell_type": "markdown",
   "metadata": {},
   "source": [
    "\n",
    "<p><b>Rappel</b>. Soit $f$ est un champ vectoriel défini et de classe $C^1$ sur l’ouvert <font face=\"Kunstler Script\" size=\"3\"><b>U</b></font>   de $\\mathbb{R^2}$ à valeurs dans $\\mathbb{R^2}$ de composantes $f_1$ et $f_2$, c’est-à-dire que : <br/><br/></p>\n",
    "<div align=\"center\">$\\forall (x,y) \\in $<font face=\"Kunstler Script\" size=\"3\"><b>U</b></font> , $f(x,y) = (f_1(x,y),f_2(x,y))$ </div><br/>\n",
    "\n",
    "Soit aussi $(x_0, y_0) \\in $ <font face=\"Kunstler Script\" size=\"3\"><b>U</b></font> , on appelle <b><i>matrice jacobienne</i></b> de $f$ en $(x_0, y_0)$ la matrice carrée notée $J_{f}(x_0, y_0)$ et définie par :<br/><br/>\n",
    "<div align=\"center\"><font size=\"3\">\n",
    "$J_{f}(x_0, y_0) = \\begin{pmatrix} \\frac{\\partial f_1}{\\partial x}(x_0,y_0) &amp; \\frac{\\partial f_1}{\\partial y}(x_0,y_0) \\\\ \\frac{\\partial f_2}{\\partial x}(x_0,y_0) &amp; \\frac{\\partial f_2}{\\partial y}(x_0,y_0) \\end{pmatrix}$\n",
    "</font>\n",
    "</div>\n"
   ]
  },
  {
   "cell_type": "markdown",
   "metadata": {},
   "source": [
    "\n",
    "<h3 id=\"Exercice-5.\">Exercice 5.<a class=\"anchor-link\" href=\"#Exercice-5.\">¶</a></h3><p>On souhaite déterminer une solution approchée du système non linéaire <br/><br/></p>\n",
    "<p></p><div align=\"center\"><font size=\"3\"> $\\begin{cases} \\text{ } x^2 + y^2 = 1 \\\\\n",
    "  \\text{ }  \\sin{\\frac{\\pi x}{2}} + y^3 =0\n",
    " \\end{cases} $</font></div><br/><br/>\n",
    "<p>On commence par faire la transformation équivalente suivante <br/><br/></p>\n",
    "<p></p><div align=\"center\"><font size=\"3\"> $\\begin{cases} \\text{ } x^2 + y^2 = 1 \\\\\n",
    "  \\text{ }  \\sin{\\frac{\\pi x}{2}} + y^3 =0\n",
    " \\end{cases} \\Longleftrightarrow f(x,y) = (0,0) $</font></div><br/><br/>\n",
    "<p>en posant <br/><br/></p>\n",
    "<p></p><div align=\"center\"><font size=\"3\"> $f(x,y) = (x^2 + y^2 -1; \\sin{\\frac{\\pi x}{2}} + y^3) $</font></div>\n",
    "<br/><br/>\n",
    "<ol>\n",
    "<li><p>Construire une fonction en Python notée <font face=\"Courier\">f</font> qui prend en entrée une matrice à deux composantes $x$ et $y$ et qui renvoie l’image $f(x, y)$ par $f$.<br/>\n",
    "Le format est le suivant :<br/>\n",
    "<font face=\"Courier\">def f(U): # U sera défini par U=np.array([x,y]) avec x=U[0]...</font><br/>\n",
    "<font face=\"Courier\">    return np.array([ ....,....])</font>\n",
    "<br/><br/></p>\n",
    "</li>\n",
    "<li><p>Calculer, à la main, la matrice jacobienne $J_f$ de $f$ en $(x, y)$ puis programmer une fonction en Python notée <font face=\"Courier\">Jf</font> qui prend en entrée une matrice à deux composantes $x$ et $y$ et qui renvoie l’image $J_f(x, y)$ par $J_f$, c’est-à-dire une matrice de 2 lignes par 2 colonnes.<br/>\n",
    "Le format est le suivant : <br/>\n",
    "<font face=\"Courier\">def Jf(U): # U sera défini par U=np.array([x,y]) avec x=U[0]...</font><br/>\n",
    "<font face=\"Courier\">    return np.array([ [ ....,....] , [....,....] ]) # Matrice 2x2</font><br/><br/></p>\n",
    "</li>\n",
    "<li><p>Construire une fonction en Python notée <font face=\"Courier\">Newton2d</font> qui prend en entrée $f$, $J_f$, $U_0 = (-1, 1)$ et une tolérance $e$ et qui renvoie une solution approchée de l’équation $f(x, y) = (0, 0)$.<br/> A l’intérieur de la boucle et à chaque itération, il est nécessaire de réaliser deux calculs :<br/></p>\n",
    "<ul>\n",
    "<li>Résoudre $J_f(U_{n})\\Delta_{n} = f(U_{n})$. On pourrait être tenté d’écrire $\\Delta_{n} = (J_f(U_{n}))^{-1}f(U_{n})$ mais c’est une mauvaise idée parce qu’on inverse jamais une matrice de manière informatique car cette opération est trop sensible aux erreurs d’arrondis. Pour contourner ce problème on résout le système $J_f(Un)\\Delta_n = f(U_n)$ avec la fonction native <font face=\"Courier\">solve</font> qui s’utilise comme suit : <br/>\n",
    "<font face=\"Courier\">\\# Importation obligatoire</font><br/>\n",
    "<font face=\"Courier\">import numpy.linalg as la</font><br/>\n",
    "<font face=\"Courier\">X = la.solve(A,B) # Donne la solution de AX=B</font><br/></li>\n",
    "<li><p>Calculer $U_{n+1} = U_n - \\Delta_n$. Pas de problème !<br/></p>\n",
    "<p><i>Indication. Vous devriez trouver, pour $U_0 = \\begin{pmatrix} -1 \\\\ -1 \\end{pmatrix}$ une abscisse environ égale à -0.47609582 et une ordonnée environ égale à 0.87939341.</i></p>\n",
    "</li>\n",
    "</ul>\n",
    "</li>\n",
    "</ol>\n"
   ]
  },
  {
   "cell_type": "markdown",
   "metadata": {},
   "source": [
    "\n",
    "<div class=\"alert alert-success\"><b><font color=\"black\" face=\"Times\" size=\"3\">Réponse</font></b> :\n",
    "</div>\n"
   ]
  },
  {
   "cell_type": "code",
   "execution_count": null,
   "metadata": {},
   "outputs": [],
   "source": [
    "\n",
    "def f(u): #u=(x,y)\n",
    "    return np.array( [u[0]**2+u[1]**2-1, np.sin(u[0]*np.pi/2)+u[1]**3])\n",
    "\n",
    "def Jf(u):\n",
    "    return np.array( [[ 2*u[0],2*u[1] ], [ (np.pi/2)*np.cos(u[0]*np.pi/2),3*u[1]**2]])\n",
    "\n",
    "def Newton2d(f, Jf, u0, e):\n",
    "    ''' Calcul des termes de u_(n+1) = u_n - [f'(u_n)]^(-1)f(u_n)\n",
    "        en resolvant nativement a chaque iteration le systeme lineaire\n",
    "    '''  \n",
    "    # Initialisation\n",
    "    k = 1            # pas de la boucle\n",
    "    u, v = u0, u0    # respectivement u_n et u_(n+1)\n",
    "    # Calcul itératif\n",
    "    while k < 100 and (v[0]**2+v[1]**2) > e:  # double condition de sortie attendue (distance euclidienne entre u_n et u_(n+1))\n",
    "        v = f(u)                  # liste des couples de valeurs [f1(x,y), f2(x,y)]\n",
    "        D = la.solve(Jf(u),f(u))  # resolution native du systeme lineaire de matrice Jf(u) et de second membre -f(u) de solution Delta_n\n",
    "        u -= D                    # u_(n+1) = u_n - Delta_n\n",
    "        k += 1                    # increment du compteur de boucle (pour assurer la sortie en echec)\n",
    "\n",
    "    return u\n",
    "\n"
   ]
  },
  {
   "cell_type": "markdown",
   "metadata": {},
   "source": [
    "\n",
    "<ul>\n",
    "<li>script principal</li>\n",
    "</ul>\n"
   ]
  },
  {
   "cell_type": "code",
   "execution_count": null,
   "metadata": {},
   "outputs": [],
   "source": [
    "\n",
    "# Initialisation des données\n",
    "x0, y0, e = -1, -1, 1.e-6\n",
    "U0 = [x0, y0]\n",
    "# calcul\n",
    "sol2d = Newton2d(f, Jf, U0, e)\n",
    "# Affichage console des résultats numériques\n",
    "print(sol2d)\n",
    "\n"
   ]
  },
  {
   "cell_type": "markdown",
   "metadata": {},
   "source": [
    "\n",
    "<div class=\"alert alert-success\"><span style=\"font-size: 30px;\"><i aria-hidden=\"true\" class=\"fa fa-lightbulb-o\"></i></span> <font color=\"black\" face=\"Times\" size=\"5\"><b>Bonus</b></font><br/>\n",
    "<font color=\"black\" face=\"Times\" size=\"3\">  Représentation graphique de la résolution du système non linéaire $f(x,y)=0$, où $f(x,y) = (x^2 + y^2 -1; \\sin{\\frac{\\pi x}{2}} + y^3) $</font>\n",
    "</div>\n"
   ]
  },
  {
   "cell_type": "code",
   "execution_count": null,
   "metadata": {},
   "outputs": [],
   "source": [
    "\n",
    "# ##################\n",
    "#  Fonctions       #\n",
    "# ##################\n",
    "def FG(x):  # expression vectorielle du systeme de fonctions f(x,y)=0 et g(x,y)=0\n",
    "    V = [x[0]**2+x[1]**2-1, np.sin(np.pi*x[0]/2)+x[1]**3] # en ligne\n",
    "    return V\n",
    "\n",
    "def f(x,y): # fonction f(x,y)\n",
    "    return x**2+y**2-1\n",
    "def g(x,y): # fonction g(x,y)\n",
    "    return np.sin(np.pi*x/2)+y**3\n",
    "def fx(x,y): # derivee f(x,y) en x\n",
    "    return 2*x\n",
    "def fy(x,y): # derivee f(x,y) en y\n",
    "    return 2*y\n",
    "def gx(x,y): # derivee g(x,y) en x\n",
    "    return np.pi*0.5*np.cos(np.pi*x/2)\n",
    "def gy(x,y): # derivee g(x,y) en y\n",
    "    return 3*y**2\n",
    "\n",
    "def F(u): #u=(x,y)\n",
    "    return np.array( [u[0]**2+u[1]**2-1,np.sin(u[0]*np.pi/2)+u[1]**3])\n",
    "\n",
    "def JF(u): # matrice Jacobienne\n",
    "    return np.array( [[ 2*u[0],2*u[1] ], [ (np.pi/2)*np.cos(u[0]*np.pi/2),3*u[1]**2]])\n",
    "\n",
    "def Newton2d1(U0, e):\n",
    "    ''' Calcul des termes de u_(n+1) = u_n - [f'(u_n)]^(-1)f(u_n) par la methode iterative de Newton-Raphson\n",
    "        en inversant la matrice Jacobienne a chaque iteration !\n",
    "    '''    \n",
    "    k = 1 # Sécurité pour éviter un bouclage\n",
    "    U = U0\n",
    "    x0, y0 = U0[0], U0[1]\n",
    "    tabx, taby = [x0], [y0]\n",
    "    \n",
    "    while k < 100: # and (U0[0]**2+U0[1]**2) > e:\n",
    "        Jinv = la.inv(JF(U))\n",
    "        U = U0 - np.dot(Jinv, F(U0))  # \n",
    "        x0, y0 = U[0], U[1]\n",
    "        U0 = U\n",
    "        tabx.append(x0); taby.append(y0)\n",
    "        k += 1\n",
    "\n",
    "    return U, tabx, taby \n",
    "\n",
    "def Newton2d2(f, Jf, u0, e):\n",
    "    ''' Calcul des termes de u_(n+1) = u_n - [f'(u_n)]^(-1)f(u_n)\n",
    "        en resolvant nativement a chaque iteration le systeme lineaire\n",
    "    '''  \n",
    "    # Initialisation\n",
    "    k = 1            # pas de la boucle\n",
    "    u, v = u0, u0    # respectivement u_n et u_(n+1)\n",
    "    tabx, taby = [u0[0]], [u0[1]]    \n",
    "    # Calcul itératif\n",
    "    while k < 100 and (v[0]**2+v[1]**2) > e:  # double condition de sortie attendue (distance euclidienne entre u_n et u_(n+1))\n",
    "        v = f(u)                  # liste des couples de valeurs [f1(x,y), f2(x,y)]\n",
    "        D = la.solve(Jf(u),f(u))  # resolution native du systeme lineaire de matrice Jf(u) et de second membre -f(u) de solution Delta_n\n",
    "        u -= D                    # u_(n+1) = u_n - Delta_n\n",
    "        k += 1                    # increment du compteur de boucle (pour assurer la sortie en echec)\n",
    "        tabx.append(u[0]); taby.append(u[1])\n",
    "\n",
    "    return u, tabx, taby\n",
    "\n",
    "# ##################\n",
    "# Script principal #\n",
    "# ##################\n",
    "\n",
    "# Initialisation des données\n",
    "x0, y0 = -1, -1\n",
    "U0 = [x0, y0]\n",
    "\n",
    "# Calculs \n",
    "# résolution native du système non linéaire FG=(0,0)\n",
    "R0 = resol.root( FG , U0, jac=None)   # on a du redefinir f\n",
    "# résolution personnelle du système non linéaire FG=(0,0)\n",
    "solnum, Tx, Ty = Newton2d1(U0, e)\n",
    "solnum2, T2x, T2y = Newton2d2(F, JF, U0, e)\n",
    "\n",
    "# Affichage console des résultats numériques\n",
    "print('Abscisse x0 : ', R0.x[0])\n",
    "print('Ordonnee y0 : ', R0.x[1])  \n",
    "\n",
    "# Affichage graphique\n",
    "fig, ax = plt.subplots(figsize=(15,10))\n",
    "plt.plot(R0.x[0], R0.x[1], '-xk', markersize=20)\n",
    "plt.text(R0.x[0]+0.02, R0.x[1]+0.15, 'Solution native (X)');\n",
    "plt.plot(x0, y0,'-xg', markersize=20)\n",
    "plt.text(x0+0.02, y0-0.15, r'$U_0=('+str(x0)+','+str(y0)+')$');\n",
    "\n",
    "plt.plot(Tx, Ty,'-.g',linewidth=1, label='Solution Newton 1')\n",
    "plt.plot(T2x, T2y,'^r', linewidth=1, alpha=0.75, label='Solution Newton 2')\n",
    "plt.plot(T2x, T2y,'-r', linewidth=1, alpha=0.2)\n",
    "plt.text(solnum[-2]-0.75, solnum[-1]-0.2, 'Solution Newton 1 (-)', color='g');\n",
    "plt.text(solnum2[-2]-1., solnum2[-1]-0.7, 'Solution Newton 2 (^)', color='r', alpha=0.85);\n",
    "\n",
    "pas = 0.01\n",
    "x = np.arange(-2.5, 3.0, pas)\n",
    "y = np.arange(-2.2, 1.5, pas)\n",
    "X,Y = np.meshgrid(x, y) \n",
    "\n",
    "cntr1 = plt.contour(X, Y, f(X,Y), [0], colors='r')\n",
    "cntr2 = plt.contour(X, Y, g(X,Y), [0], colors='b')\n",
    "h1,_ = cntr1.legend_elements()\n",
    "h2,_ = cntr2.legend_elements()\n",
    "ax.legend([h1[0], h2[0]], [r'$f_1(x,y)=x^2 + y^2 -1=0$', r'$f_1(x,y)=\\sin{\\frac{\\pi x}{2}} + y^3=0$'])\n",
    "\n",
    "# habillage graphique\n",
    "plt.axis('equal') # [-3.2, 3.2, -1.2, 1.2]\n",
    "plt.axhline(color='k')     \n",
    "plt.axvline(color='k')\n",
    "plt.xlabel('x')\n",
    "plt.ylabel('y')\n",
    "plt.title(r\"Résolution du système non linéaire $f(x, y) = 0$ où $f(x,y) = (x^2 + y^2 -1; \\sin{\\frac{\\pi x}{2}} + y^3) $\");\n",
    "\n"
   ]
  },
  {
   "cell_type": "markdown",
   "metadata": {},
   "source": [
    "\n",
    "<p><a id=\"Exo3\"></a></p><div align=\"right\"><a href=\"#top\">Haut du document</a></div>\n"
   ]
  },
  {
   "cell_type": "markdown",
   "metadata": {},
   "source": [
    "\n",
    "<div class=\"alert alert-info\">\n",
    "<font color=\"black\" size=\"5\"><b>3. Exercices facultatifs</b></font>\n",
    "</div>\n"
   ]
  },
  {
   "cell_type": "markdown",
   "metadata": {},
   "source": [
    "\n",
    "<div class=\"alert alert-info\"><font color=\"black\" size=\"4\"><b>3.1 Une variante de la méthode de Newton</b></font></div>\n"
   ]
  },
  {
   "cell_type": "markdown",
   "metadata": {},
   "source": [
    "\n",
    "<h3 id=\"Exercice-6.\">Exercice 6.<a class=\"anchor-link\" href=\"#Exercice-6.\">¶</a></h3><ol>\n",
    "<li><p>Montrer que si on applique la <b>méthode de Newton</b> à la fonction $g$ définie par <font size=\"3\">$g : x \\mapsto \\frac{f(x)}{\\sqrt{f'(x)}}$</font> alors on aboutit à la suite<br/><br/>\n",
    "</p><div align=\"center\"><font size=\"4\">$u_{n+1} = u_{n} + \\frac{2f(u_{n})f'(u_{n})}{f(u_{n})f''(u_{n}) - 2f'^2(u_{n})}$ \n",
    " </font></div>\n",
    "<br/>\n",
    "</li>\n",
    "<li><p>Pour <font size=\"3\">$f : x \\mapsto x^2 - 5$</font>, vérifier qu’on obtient la suite : <br/><br/>\n",
    "</p><div align=\"center\"><font size=\"4\">$u_{n+1} = u_{n}\\frac{15 + u_{n}^2}{5 + 3 u_{n}^2}$ \n",
    " </font></div>\n",
    "<br/>\n",
    "</li>\n",
    "<li><p>Calculer quelques itérations en partant de $u_0 = 5$.</p>\n",
    "</li>\n",
    "</ol>\n"
   ]
  },
  {
   "cell_type": "markdown",
   "metadata": {},
   "source": [
    "\n",
    "<div class=\"alert alert-success\"><b><font color=\"black\" face=\"Times\" size=\"3\">Réponse</font></b> :\n",
    "</div>\n"
   ]
  },
  {
   "cell_type": "code",
   "execution_count": null,
   "metadata": {},
   "outputs": [],
   "source": [
    "\n",
    "###################################################################\n",
    "# Fonctions\n",
    "###################################################################\n",
    "\n",
    "def Newton3(f,x_init,tol,maxIter):  # question 1\n",
    "    \"\"\"\n",
    "    Méthode itérée de Newton appliquée à g(x)=f(x)/sqrt(f'(x))\n",
    "    Ce qui donne xn+1=xn+2f(xn)f'(xn)/(f(xn)f\"(xn)-2f'(xn)^2) \n",
    "    \"\"\" \n",
    "\n",
    "    k, h, x = 0, tol, x_init\n",
    "    fx   = f(x)\n",
    "    dfx  = (f(x+h)-fx)/h             # calcul approche de f'(x)\n",
    "    df2x = (f(x+h)-2*fx+f(x-h))/h**2 # calcul approche de f\"(x)\n",
    "    Tabx = [x]  # tableau des termes g(un)\n",
    "\n",
    "    while k < maxIter:  # on a retire le critere d'arret \"f(x) proche de 0\" <=> abs(fx) > tol\n",
    "        x = x + 2*fx*dfx/(fx*df2x-2*dfx**2) # calcul de x_{k+1}\n",
    "        fx   = f(x)\n",
    "        dfx  = (f(x+h)-fx)/h             # calcul approche de f'(x)\n",
    "        df2x = (f(x+h)-2*fx+f(x-h))/h**2 # calcul approche de f\"(x)\n",
    "        Tabx.append(x) # mise a jour du tableau des termes de la suite iteree de Newton\n",
    "        k += 1\n",
    "    \n",
    "    return x, k, Tabx\n",
    "        \n",
    "def Newton3bis(u,tol,maxIter):   # question 2\n",
    "    \"\"\"\n",
    "    Méthode itérée de Newton appliquée à g(x)=f(x)/sqrt(f'(x))\n",
    "    apres simplification du calcul (question 2)\n",
    "    \"\"\"     \n",
    "    k, Tabu = 0, [u]\n",
    "    while k < maxIter:  # on a retire le critere d'arret \"f(x) proche de 0\" <=> abs(u**2-5) > tol\n",
    "        u *= (15 + u**2) / (5 + 3*u**2)\n",
    "        Tabu.append(u)\n",
    "        k += 1\n",
    "    return u, k, Tabu        \n",
    "\n",
    "def f(x):  # fonction d'etude\n",
    "    return x**2 - 5 \n",
    "\n",
    "###################################################################\n",
    "# Script principal de test\n",
    "###################################################################\n",
    "\n",
    "# Initialisation\n",
    "e, maxIter = 1.0e-6, 4  # Critères d'arrêt précision, erreur et nombre d'iterations maximum (5 dans la question)\n",
    "sol = np.sqrt(5) # solution attendue : sqrt(5) !\n",
    "u_init, x_init = 5., 5. # terme de départ de l'algorithme du point fixe ou de Newton\n",
    "\n",
    "# Calcul \n",
    "\n",
    "# Etude Méthode de Newton3 avec x0 = 5\n",
    "[xN, itN, TabxN] = Newton3(f, x_init, e, maxIter)\n",
    "\n",
    "# Etude Méthode de Newton3bis avec x0 = 5\n",
    "[uM, itM, TabuM] = Newton3bis(u_init, e, maxIter)\n",
    "\n",
    "# Affichage console des résultats numériques\n",
    "print(80*'_')\n",
    "print('La solution approchée x* par la methode de Newton3 à partir de x0 =' +str(x_init)+' est : ', xN)\n",
    "print(\"Les 5 premières itérations de calcul : \"+str(TabxN))\n",
    "print('|f(x*)**2 - 5| = ', f(xN))\n",
    "\n",
    "print(80*'_')\n",
    "print('La solution approchée x* par la methode de Newton3bis à partir de x0 =' +str(x_init)+' est : ', uM)\n",
    "print(\"Les 5 premières itérations de calcul : \"+str(TabuM))\n",
    "print('|g(x*)**2 - 5| = ',f(uM))\n",
    "\n"
   ]
  },
  {
   "cell_type": "markdown",
   "metadata": {},
   "source": [
    "\n",
    "<p><a id=\"Exo3_2\"></a></p><div align=\"right\"><a href=\"#top\">Haut du document</a></div>\n"
   ]
  },
  {
   "cell_type": "markdown",
   "metadata": {},
   "source": [
    "\n",
    "<div class=\"alert alert-info\"><font color=\"black\" size=\"4\"><b>3.2 Fractale de Newton</b></font></div>\n"
   ]
  },
  {
   "cell_type": "markdown",
   "metadata": {},
   "source": [
    "\n",
    "<h3 id=\"Exercice-7.\">Exercice 7.<a class=\"anchor-link\" href=\"#Exercice-7.\">¶</a></h3><p>On s’intéresse à la recherche des solutions complexes de l’équation $z^3 - 1 = 0$ <br/></p>\n",
    "<ol>\n",
    "<li><p>Quelles sont les trois solutions complexes ? <br/><br/></p>\n",
    "</li>\n",
    "<li><p>Transformer la fonction définie par $f(z) = z^3 - 1$ en une fonction $F$ de $\\mathbb{R^2}$ dans $\\mathbb{R^2}$ puis calculer la matrice jacobienne de $F$ (matrice de 2 lignes par 2 colonnes). \n",
    "<br/></p>\n",
    "</li>\n",
    "<li><p>On travaille désormais sur une grille $G = [-a, a] \\times [-a, a]$ où $a = 1.5$ avec un pas de $h = 0.1$.<br/>\n",
    "Résoudre alors l’équation $F(x, y) = 0$ par la <b>méthode de Newton</b> avec $(x_0, y_0)$ décrivant la grille $G$ et mémoriser dans un tableau le numéro $k$ entre 1 et 3 de la solution vers laquelle l’algorithme aura convergé et dans un second tableau le nombre d’itérations nécessaires (Ne pas oublier de gérer les cas éventuels de divergence.)<br/><br/></p>\n",
    "</li>\n",
    "<li><p>Représenter ces tableaux graphiquement.<br/><br/></p>\n",
    "</li>\n",
    "<li><p>Recommencer avec un pas plus petit.</p>\n",
    "</li>\n",
    "</ol>\n"
   ]
  },
  {
   "cell_type": "markdown",
   "metadata": {},
   "source": [
    "\n",
    "<div class=\"alert alert-success\"><b><font color=\"black\" face=\"Times\" size=\"3\">Réponse</font></b> :\n",
    "</div>\n"
   ]
  },
  {
   "cell_type": "markdown",
   "metadata": {},
   "source": [
    "\n",
    "<ul>\n",
    "<li>question 1</li>\n",
    "</ul>\n"
   ]
  },
  {
   "cell_type": "markdown",
   "metadata": {},
   "source": [
    "\n",
    "<p>Les solutions complexes sont les racines cubiques de 1 dans $\\mathbb{C}$ c'est-à-dire : 1, $j$ et $j^2$ avec <font size=\"3\">$j = \\frac{-1 + i\\sqrt{3}}{2}$</font> et <font size=\"3\">$j^2 = \\frac{-1 - i\\sqrt{3}}{2}$</font><br/>\n",
    "En notation trigonométrique, on a 3 racines vérifiant $r = \\cos{\\theta} + i\\sin{\\theta} = e^{i\\theta}$ où $\\theta = \\frac{2k\\pi}{3}$, $k = 0, 1, 2$.<br/>\n",
    "Dans le plan complexe, ces racines sont les sommets du triangle équilatéral dont un des sommets porte pour coordonnées (1; 0)</p>\n"
   ]
  },
  {
   "cell_type": "markdown",
   "metadata": {},
   "source": [
    "\n",
    "<ul>\n",
    "<li>question 2</li>\n",
    "</ul>\n"
   ]
  },
  {
   "cell_type": "markdown",
   "metadata": {},
   "source": [
    "\n",
    "<p>On pose $z = x + iy$ et on transforme le problème de recherche de racines d'une fonction numérique à une variable $f(z) = z^3 -1 = 0$ en problème en dimension 2 en résolvant le système non linéaire $F(x, y) = (0, 0)$ où $F(x,y) = (Re(f(z); Im(f(z)))$; où $Re$ (resp. $Im$) désigne la partie entière (resp. imaginaire) de l'expression calculée.</p>\n"
   ]
  },
  {
   "cell_type": "markdown",
   "metadata": {},
   "source": [
    "\n",
    "<ul>\n",
    "<li>questions 3 à 5</li>\n",
    "</ul>\n"
   ]
  },
  {
   "cell_type": "code",
   "execution_count": null,
   "metadata": {},
   "outputs": [],
   "source": [
    "\n",
    "from time import perf_counter\n",
    "\n",
    "###################################################################\n",
    "# Fonctions \n",
    "###################################################################\n",
    "\n",
    "def F(x, y): # On veut résoudre l'équation F(x,y)=0 en dissociant Re(z^3 - 1)=0 et Im(z^3 - 1)=0\n",
    "    return np.array([-1 + x**3 - 3*x*y**2, 3*x**2*y - y**3])\n",
    "\n",
    "def JF(x, y): # Matrice jacobienne de F\n",
    "    return np.array([(3*x**2 - 3*y**2, -6*x*y), (6*x*y, 3*x**2 - 3*y**2)])\n",
    "\n",
    "def Numero(x, y, tol): # De quelle racine x + i y est il proche ?\n",
    "    for k in range(3):\n",
    "        if np.abs(x + y*1j - racines[k]) < tol:\n",
    "            return k\n",
    "    return 3\n",
    "\n",
    "def Convergence(x0, y0, tol): # Itérations\n",
    "    n = 0\n",
    "    U = np.array([x0, y0])\n",
    "    while (n < nmax) and (la.norm(F(U[0], U[1])) > tol):\n",
    "        U -= la.solve(JF(U[0], U[1]), F(U[0], U[1]))\n",
    "        n += 1\n",
    "    return Numero(U[0], U[1], tol), n\n",
    "\n",
    "###################\n",
    "# Script principal\n",
    "###################\n",
    "# Initialisations\n",
    "racines = np.roots([1,0, 0, -1])\n",
    "nmax, tol, a, h = 20, 1e-5, 1.5, 0.01\n",
    "n = int(2*a/h)\n",
    "\n",
    "tx, ty = np.arange(-a, a, h), np.arange(-a, a, h)\n",
    "M = np.zeros((n, n))\n",
    "It = np.zeros((n, n))\n",
    "t = perf_counter()\n",
    "\n",
    "# Calculs\n",
    "for x in tx:\n",
    "    for y in ty:\n",
    "        i = int((y + a) / h)\n",
    "        j = int((x + a) / h)\n",
    "        M[i, j], It[i, j] = Convergence(x, y, tol)\n",
    "\n",
    "# Affichage des résultats\n",
    "print('Temps =', perf_counter()-t, 'secondes')       \n",
    "\n",
    "print(\"CHOIX DU PAS h=\", h)\n",
    "plt.figure(figsize=(10,8))\n",
    "plt.subplot(121)\n",
    "plt.imshow(M) \n",
    "plt.xlabel('Racines')\n",
    "plt.ylabel('Grille de '+str(n)+' X '+str(n)+' points')\n",
    "plt.subplot(122)\n",
    "plt.imshow(It) \n",
    "plt.xlabel(\"Nombre d'itérations\");\n",
    "#plt.suptitle('Fractale cubique de Newton sur '+'['+str(-a)+';'+str(a)+']')\n",
    "\n"
   ]
  },
  {
   "cell_type": "markdown",
   "metadata": {},
   "source": [
    "\n",
    "<p>Géométriquement, les racines n-èmes de l'unité sont les sommets du polygone régulier Pn à n côtés inscrit dans le cercle unité. Le point unité 1 est un sommet commun à tous les Pn.</p>\n"
   ]
  },
  {
   "cell_type": "markdown",
   "metadata": {},
   "source": [
    "\n",
    "<p><a id=\"Exo4\"></a></p><div align=\"right\"><a href=\"#top\">Haut du document</a></div>\n"
   ]
  },
  {
   "cell_type": "markdown",
   "metadata": {},
   "source": [
    "\n",
    "<div class=\"alert alert-info\">\n",
    "<font color=\"black\" size=\"5\"><b>4. Indications</b></font>\n",
    "</div>\n"
   ]
  },
  {
   "cell_type": "markdown",
   "metadata": {},
   "source": [
    "\n",
    "<p>VOIR L'ENONCE</p>\n"
   ]
  }
 ],
 "metadata": {
  "kernelspec": {
   "display_name": "Python 3",
   "language": "python",
   "name": "python3"
  },
  "language_info": {
   "codemirror_mode": {
    "name": "ipython",
    "version": 3
   },
   "file_extension": ".py",
   "mimetype": "text/x-python",
   "name": "python",
   "nbconvert_exporter": "python",
   "pygments_lexer": "ipython3",
   "version": "3.7.5"
  }
 },
 "nbformat": 4,
 "nbformat_minor": 1
}
