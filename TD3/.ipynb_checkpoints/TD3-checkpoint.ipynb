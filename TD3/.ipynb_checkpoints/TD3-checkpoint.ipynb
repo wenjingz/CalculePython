{
 "cells": [
  {
   "cell_type": "markdown",
   "metadata": {},
   "source": [
    "## Exercice 1"
   ]
  },
  {
   "cell_type": "code",
   "execution_count": 1,
   "metadata": {},
   "outputs": [],
   "source": [
    "from math import *\n",
    "import numpy as np\n",
    "import math\n",
    "import matplotlib.pyplot as plt"
   ]
  },
  {
   "cell_type": "code",
   "execution_count": 2,
   "metadata": {
    "code_folding": []
   },
   "outputs": [
    {
     "name": "stdout",
     "output_type": "stream",
     "text": [
      "[5, 16, 8.0, 4.0, 2.0, 1.0]\n"
     ]
    }
   ],
   "source": [
    "def SyracuseSuite(n):\n",
    "    s = [n]\n",
    "    while n>1:\n",
    "        if n%2 == 0:\n",
    "            n=n/2\n",
    "        else:\n",
    "            n=n*3+1\n",
    "        s.append(n)\n",
    "    return s    \n",
    "\n",
    "print(SyracuseSuite(5))\n"
   ]
  },
  {
   "cell_type": "code",
   "execution_count": 4,
   "metadata": {},
   "outputs": [
    {
     "data": {
      "image/png": "[encoded data removed]",
      "text/plain": [
       "<Figure size 432x288 with 1 Axes>"
      ]
     },
     "metadata": {
      "needs_background": "light"
     },
     "output_type": "display_data"
    }
   ],
   "source": [
    "def GraphSyracuse(n):\n",
    "    y = SyracuseSuite(n)\n",
    "    x = list(range(1,len(y)+1))\n",
    "    \n",
    "    plt.plot(x,y,'ko')\n",
    "    plt.plot(x,y,'b:')\n",
    "    plt.title('Conjecture de Syracuse ($S_0 = '+str(n)+'$)', fontsize = 10, pad = 15)\n",
    "    plt.show()\n",
    "    \n",
    "GraphSyracuse(1533)"
   ]
  },
  {
   "cell_type": "markdown",
   "metadata": {},
   "source": [
    "## Exercise 2"
   ]
  },
  {
   "cell_type": "code",
   "execution_count": 5,
   "metadata": {},
   "outputs": [
    {
     "ename": "SyntaxError",
     "evalue": "invalid syntax (<ipython-input-5-42d1438797e6>, line 6)",
     "output_type": "error",
     "traceback": [
      "\u001b[0;36m  File \u001b[0;32m\"<ipython-input-5-42d1438797e6>\"\u001b[0;36m, line \u001b[0;32m6\u001b[0m\n\u001b[0;31m    if 2p+1 >n:\u001b[0m\n\u001b[0m        ^\u001b[0m\n\u001b[0;31mSyntaxError\u001b[0m\u001b[0;31m:\u001b[0m invalid syntax\n"
     ]
    }
   ],
   "source": [
    "def LisserTab(L,p):\n",
    "    n = len(L)\n",
    "    #Création du nouveau tableau contenant des 0 de la bonne taille\n",
    "    U = [0]*n\n",
    "    #test du cas particulier où il n'y a rien à faire\n",
    "    if 2p+1 >n:\n",
    "        return L\n",
    "    else:\n",
    "        for i in range(n):\n",
    "            #Comptage du nombre de termes avant le terme t_i\n",
    "            nb_avant = min(i-1,p)\n",
    "            #Comptage du nombre de termes apres le terme t_i\n",
    "            ab_apres = min(p,)\n",
    "            #Calcul des termes du nouveau tableau par sommation\n",
    "            U[i]= sum( L[k] for k in range(i-nb_avant,i+nb_apres))\n",
    "            #Division par le nombre de termes\n",
    "            U[i]= U[i]/(nb_avant+nb_apres+1)\n",
    "    return U"
   ]
  },
  {
   "cell_type": "code",
   "execution_count": 6,
   "metadata": {},
   "outputs": [
    {
     "ename": "SyntaxError",
     "evalue": "invalid syntax (<ipython-input-6-65fe59f26af4>, line 2)",
     "output_type": "error",
     "traceback": [
      "\u001b[0;36m  File \u001b[0;32m\"<ipython-input-6-65fe59f26af4>\"\u001b[0;36m, line \u001b[0;32m2\u001b[0m\n\u001b[0;31m    TabLisse =\u001b[0m\n\u001b[0m               ^\u001b[0m\n\u001b[0;31mSyntaxError\u001b[0m\u001b[0;31m:\u001b[0m invalid syntax\n"
     ]
    }
   ],
   "source": [
    "def LisserTab(Tab,p,m):\n",
    "    TabLisse = \n",
    "    for i in range():\n",
    "        TabLisse = \n",
    "    return TabLisse"
   ]
  },
  {
   "cell_type": "code",
   "execution_count": 7,
   "metadata": {},
   "outputs": [
    {
     "ename": "SyntaxError",
     "evalue": "invalid syntax (<ipython-input-7-63a3cb859bf4>, line 2)",
     "output_type": "error",
     "traceback": [
      "\u001b[0;36m  File \u001b[0;32m\"<ipython-input-7-63a3cb859bf4>\"\u001b[0;36m, line \u001b[0;32m2\u001b[0m\n\u001b[0;31m    y =\u001b[0m\n\u001b[0m       ^\u001b[0m\n\u001b[0;31mSyntaxError\u001b[0m\u001b[0;31m:\u001b[0m invalid syntax\n"
     ]
    }
   ],
   "source": [
    "def GraphSyracuseLisse(n,p,m):\n",
    "    y =\n",
    "    x = list(range(1, ))\n",
    "    z = LisserTablter()\n",
    "    plt.figure(figsize=(8.5))\n",
    "    plt.plot(x,z,'-b')\n",
    "    plt.title('Lissage de la suite de Syracuse ($S_0 = '+str(n)+'$)', fontsize=10, pad = 15)) \n",
    "    plt.xlabel('Etape n')\n",
    "    plt.ylable('S(n)')\n",
    "    plt.show()"
   ]
  },
  {
   "cell_type": "code",
   "execution_count": null,
   "metadata": {},
   "outputs": [],
   "source": []
  }
 ],
 "metadata": {
  "kernelspec": {
   "display_name": "Python 3",
   "language": "python",
   "name": "python3"
  },
  "language_info": {
   "codemirror_mode": {
    "name": "ipython",
    "version": 3
   },
   "file_extension": ".py",
   "mimetype": "text/x-python",
   "name": "python",
   "nbconvert_exporter": "python",
   "pygments_lexer": "ipython3",
   "version": "3.7.5"
  }
 },
 "nbformat": 4,
 "nbformat_minor": 4
}
