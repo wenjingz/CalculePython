{
 "cells": [
  {
   "cell_type": "code",
   "execution_count": 5,
   "metadata": {},
   "outputs": [
    {
     "name": "stdout",
     "output_type": "stream",
     "text": [
      "[1. 1. 1.]\n"
     ]
    }
   ],
   "source": [
    "import numpy as np\n",
    "import numpy.linalg as la\n",
    "# **************************** \n",
    "Coeffs=[2,3,1]\n",
    "n=len(Coeffs)-1 # degré de Q \n",
    "A=np.eye(n+1,n+1)\n",
    "Diag=[k for k in range(1,n+1)] \n",
    "A=A+np.diag(Diag,1)\n",
    "Sol = la.solve(A,Coeffs) # résolution du système linéaire A*P=Q\n",
    "print(Sol)"
   ]
  },
  {
   "cell_type": "code",
   "execution_count": 4,
   "metadata": {},
   "outputs": [
    {
     "data": {
      "text/plain": [
       "[<matplotlib.lines.Line2D at 0x11488a510>]"
      ]
     },
     "execution_count": 4,
     "metadata": {},
     "output_type": "execute_result"
    },
    {
     "data": {
      "image/png": "[encoded data removed]",
      "text/plain": [
       "<Figure size 432x288 with 1 Axes>"
      ]
     },
     "metadata": {
      "needs_background": "light"
     },
     "output_type": "display_data"
    }
   ],
   "source": [
    "from scipy.interpolate import splev, splrep \n",
    "import matplotlib.pyplot as plt \n",
    "import numpy as np\n",
    "\n",
    "x = [1, 2, 3, 4] \n",
    "y = [2, 1, 3, 5] # Calcul de la spline \n",
    "spl = splrep(x, y) # Evaluation de la spline sur une grille de 100 noeuds entre 1 et 4 \n",
    "x2 = np.linspace(1, 4, 100) \n",
    "y2 = splev(x2, spl) # Représentation graphique de la spline et des points \n",
    "plt.plot(x2, y2) \n",
    "plt.plot(x, y, 'bo')"
   ]
  },
  {
   "cell_type": "code",
   "execution_count": null,
   "metadata": {},
   "outputs": [],
   "source": []
  }
 ],
 "metadata": {
  "kernelspec": {
   "display_name": "Python 3",
   "language": "python",
   "name": "python3"
  },
  "language_info": {
   "codemirror_mode": {
    "name": "ipython",
    "version": 3
   },
   "file_extension": ".py",
   "mimetype": "text/x-python",
   "name": "python",
   "nbconvert_exporter": "python",
   "pygments_lexer": "ipython3",
   "version": "3.7.5"
  }
 },
 "nbformat": 4,
 "nbformat_minor": 4
}
